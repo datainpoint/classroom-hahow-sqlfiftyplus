{
 "cells": [
  {
   "cell_type": "markdown",
   "metadata": {},
   "source": [
    "# 進階的 SQL 五十道練習\n",
    "\n",
    "> 資料操作語言\n",
    "\n",
    "[數聚點](https://www.datainpoint.com) | 郭耀仁 <yaojenkuo@datainpoint.com>"
   ]
  },
  {
   "cell_type": "markdown",
   "metadata": {},
   "source": [
    "## 練習題指引\n",
    "\n",
    "- 仔細閱讀題目敘述並且在自己的電腦透過 DBeaver 完成。\n",
    "- 下載批改測試檔案並放置在自己熟悉的目錄（資料夾）之中。\n",
    "    - 批改測試檔案：[ch06-test-dcl.py](https://classroom-hahow-sqlfiftyplus.s3.ap-northeast-1.amazonaws.com/test_scripts/ch06-test-dcl.py)\n",
    "- 執行測試：\n",
    "    - 開啟 Anaconda Prompt（Windows 作業系統）或 Terminal（macOS）\n",
    "    - 啟動專案環境 `conda activate pythonmysql`\n",
    "    - 透過 `cd` 指令移動到放置批改測試檔案的目錄（資料夾）。\n",
    "    - 執行 `python ch06-test-dcl.py root {roots_password}`\n",
    "- 終端機操作的技巧：\n",
    "    - 在終端機畫面中按「向上箭頭」可以叫出先前執行過的指令。\n",
    "    - Windows 作業系統可以使用 `cls` 指令清空 Anaconda Prompt 畫面；macOS 可以使用 `clear` 指令或 `Ctrl - L` 清空 Terminal 畫面。"
   ]
  },
  {
   "cell_type": "markdown",
   "metadata": {},
   "source": [
    "## 0601 在本機的 MySQL Server 建立和課程相同的三個角色（Role）：`administrator@localhost`、`normaluser@localhost`、`poweruser@localhost`"
   ]
  },
  {
   "cell_type": "markdown",
   "metadata": {},
   "source": [
    "## 0602 承接 0601，給予 `administrator@localhost` 在 `covid19` 資料庫所有資料表的 `ALL` 權限、給予 `normaluser@localhost` 在 `covid19` 資料庫所有資料表的 `SELECT` 權限、給予 `poweruser@localhost` 在 `covid19` 資料庫所有資料表的 `SELECT`、`CREATE VIEW` 權限。"
   ]
  },
  {
   "cell_type": "markdown",
   "metadata": {},
   "source": [
    "## 0603 在本機的 MySQL Server 建立三個使用者（User）：`ross@localhost`、`joey@localhost`、`chandler@localhost`，三個使用者的密碼以及所給予的角色如下所示。\n",
    "\n",
    "|User's name|Password|Role|\n",
    "|:----------|:-------|:---|\n",
    "|ross|geller|administrator|\n",
    "|joey|tribbiani|normaluser|\n",
    "|chandler|bing|poweruser|"
   ]
  }
 ],
 "metadata": {
  "kernelspec": {
   "display_name": "xsql",
   "language": "sqlite",
   "name": "xsql"
  },
  "language_info": {
   "codemirror_mode": "sql",
   "file_extension": "",
   "mimetype": "",
   "name": "mysql",
   "version": "0.2.1"
  }
 },
 "nbformat": 4,
 "nbformat_minor": 4
}
