{
 "cells": [
  {
   "cell_type": "markdown",
   "id": "62be485e",
   "metadata": {
    "slideshow": {
     "slide_type": "slide"
    }
   },
   "source": [
    "# 進階的 SQL 五十道練習\n",
    "\n",
    "> 資料控制語言\n",
    "\n",
    "[數聚點](https://www.datainpoint.com) | 郭耀仁 <yaojenkuo@datainpoint.com>"
   ]
  },
  {
   "cell_type": "markdown",
   "id": "0a2425ca",
   "metadata": {
    "slideshow": {
     "slide_type": "subslide"
    }
   },
   "source": [
    "## （複習）SQL 的分類\n",
    "\n",
    "- 在初階課程「SQL 的五十道練習」中我們專注在資料查詢語言的部分；這堂進階課程會完整帶學員們認識其他的 SQL 語言。\n",
    "- 實務上，資料查詢語言是被分類在資料操作語言之下的一個分支。\n",
    "    - 資料定義語言（Data Definition Language, DDL）\n",
    "    - 資料操作語言（Data Manipulation Language, DML）\n",
    "        - 資料查詢語言（Data Query Language, DQL）\n",
    "    - **資料控制語言（Data Control Language, DCL）**\n",
    "    - 交易控制語言（Transaction Control Language, TCL）"
   ]
  },
  {
   "cell_type": "markdown",
   "id": "926ddc16",
   "metadata": {
    "slideshow": {
     "slide_type": "subslide"
    }
   },
   "source": [
    "## 資料控制語言（Data Control Language, DCL）主要的保留字\n",
    "\n",
    "- `GRANT`\n",
    "- `REVOKE`\n",
    "\n",
    "這意味著我們可以給予及移除資料庫使用者的權限。"
   ]
  },
  {
   "cell_type": "markdown",
   "id": "047c473c",
   "metadata": {
    "slideshow": {
     "slide_type": "slide"
    }
   },
   "source": [
    "## 什麼是資料控制語言"
   ]
  },
  {
   "cell_type": "markdown",
   "id": "6f5841f4-c411-4637-ab72-24c39436d4b1",
   "metadata": {
    "slideshow": {
     "slide_type": "subslide"
    }
   },
   "source": [
    "## 為什麼不採用初階課程的 SQLite \n",
    "\n",
    "- 初階課程「SQL 的五十道練習」採用的 SQLite 關聯式資料庫管理系統並不是設計給多人使用的。\n",
    "- 設計給多人使用的關聯式資料庫管理系統會需要作「權限管理」。\n",
    "- 截至目前為止，進階課程所使用的 root 帳號，是 MySQL 具有最高權限的管理者。"
   ]
  },
  {
   "cell_type": "markdown",
   "id": "c492c71b-835d-4459-a1fc-82d567bdd963",
   "metadata": {
    "slideshow": {
     "slide_type": "subslide"
    }
   },
   "source": [
    "## 關於資料控制語言\n",
    "\n",
    "- 使用 `GRANT` 保留字來**給予**角色、使用者和資料互動的權限。\n",
    "- 使用 `REVOKE` 保留字來**移除**角色、使用者和資料互動的權限。"
   ]
  },
  {
   "cell_type": "markdown",
   "id": "d88c09f0-fbdc-4eaa-a5b4-01c181a149eb",
   "metadata": {
    "slideshow": {
     "slide_type": "subslide"
    }
   },
   "source": [
    "## 什麼是角色、使用者\n",
    "\n",
    "- 角色（Role）的概念像是使用者的群組，代表的是組織中權限相同的成員們。\n",
    "- 使用者（User）顧名思義就是個別帳號，代表的是組織中單一成員。\n",
    "- 組織通常不會針對個別帳號做客製化的權限設定，因此會先規劃角色，再連結使用者與角色。"
   ]
  },
  {
   "cell_type": "markdown",
   "id": "42948278-3e6e-4f00-bbad-c0e2d9ec9795",
   "metadata": {
    "slideshow": {
     "slide_type": "subslide"
    }
   },
   "source": [
    "## 最粗淺的角色分類：對應組織的部門分工\n",
    "\n",
    "- 管理者：IT（Information Technology）部門，資料庫權限等級高。\n",
    "- 一般用戶：非 IT 部門中對資料依賴程度低、需求數量少，資料庫權限等級低。\n",
    "- 活躍用戶：非 IT 部門中較一般用戶對資料依賴程度高、需求數量大，資料庫權限等級中。"
   ]
  },
  {
   "cell_type": "markdown",
   "id": "fd955164-a908-49e7-9a12-67554dc4e733",
   "metadata": {
    "slideshow": {
     "slide_type": "slide"
    }
   },
   "source": [
    "## 新增、更新、刪除角色"
   ]
  },
  {
   "cell_type": "markdown",
   "id": "610863a0-0696-4e2a-b86d-d77f2f0430c5",
   "metadata": {
    "slideshow": {
     "slide_type": "subslide"
    }
   },
   "source": [
    "## 透過 root 新增角色\n",
    "\n",
    "- 管理者：administrator\n",
    "- 一般用戶：normaluser\n",
    "- 活躍用戶：poweruser"
   ]
  },
  {
   "cell_type": "markdown",
   "id": "3d36dbd9-fbd8-4742-987b-1ed4717f8de2",
   "metadata": {
    "slideshow": {
     "slide_type": "subslide"
    }
   },
   "source": [
    "## 以 `CREATE` 新增角色\n",
    "\n",
    "```sql\n",
    "CREATE ROLE role_name@connection_name;\n",
    "```"
   ]
  },
  {
   "cell_type": "markdown",
   "id": "32df6c23-83b6-4602-9dd8-989286de4d65",
   "metadata": {
    "slideshow": {
     "slide_type": "-"
    }
   },
   "source": [
    "```sql\n",
    "CREATE ROLE 'administrator'@'localhost',\n",
    "            'normaluser'@'localhost',\n",
    "            'poweruser'@'localhost';\n",
    "```"
   ]
  },
  {
   "cell_type": "markdown",
   "id": "96cf893b-438c-441e-a372-c6e95bf78c18",
   "metadata": {
    "slideshow": {
     "slide_type": "subslide"
    }
   },
   "source": [
    "## 檢視角色\n",
    "\n",
    "- 查詢 `mysql` 資料庫的 `user` 資料表。\n",
    "- 展開 DBeaver 左側選單的 Users\n",
    "\n",
    "```sql\n",
    "SELECT User\n",
    "  FROM mysql.user;\n",
    "```"
   ]
  },
  {
   "cell_type": "markdown",
   "id": "19b48e58",
   "metadata": {
    "slideshow": {
     "slide_type": "subslide"
    }
   },
   "source": [
    "## 以 `GRANT` 給予角色權限\n",
    "\n",
    "`*` 代表「所有的」，就如同 `SELECT *` 一般。\n",
    "\n",
    "```sql\n",
    "GRANT privilege ON database_name.table_name TO role_name@connection_name;\n",
    "```"
   ]
  },
  {
   "cell_type": "markdown",
   "id": "be85472e",
   "metadata": {},
   "source": [
    "```sql\n",
    "GRANT ALL ON imdb.* TO 'administrator'@'localhost';\n",
    "GRANT CREATE VIEW ON imdb.* TO 'poweruser'@'localhost';\n",
    "GRANT SELECT ON imdb.* TO 'poweruser'@'localhost', 'normaluser'@'localhost';\n",
    "```"
   ]
  },
  {
   "cell_type": "markdown",
   "id": "02a5d2c9-6883-4e43-8962-abe4502b1c0e",
   "metadata": {
    "slideshow": {
     "slide_type": "subslide"
    }
   },
   "source": [
    "## MySQL 的權限參數清單\n",
    "\n",
    "- `ALL` 所有權限。\n",
    "- `CREATE VIEW` 建立檢視表的權限。\n",
    "- `SELECT` 查詢資料的權限。\n",
    "- ...等。\n",
    "\n",
    "來源：[Privileges Provided by MySQL](https://dev.mysql.com/doc/refman/8.0/en/privileges-provided.html)"
   ]
  },
  {
   "cell_type": "markdown",
   "id": "ae985cf0-4a0d-4303-a920-0b3c64033844",
   "metadata": {
    "slideshow": {
     "slide_type": "subslide"
    }
   },
   "source": [
    "## 檢視角色的權限\n",
    "\n",
    "```sql\n",
    "SHOW GRANTS FOR role_name@connection_name;\n",
    "```"
   ]
  },
  {
   "cell_type": "markdown",
   "id": "d285cc75-b8d0-4670-9d52-eddbc7a86f38",
   "metadata": {
    "slideshow": {
     "slide_type": "-"
    }
   },
   "source": [
    "```sql\n",
    "SHOW GRANTS FOR 'administrator'@'localhost';\n",
    "SHOW GRANTS FOR 'normaluser'@'localhost';\n",
    "SHOW GRANTS FOR 'poweruser'@'localhost';\n",
    "```"
   ]
  },
  {
   "cell_type": "markdown",
   "id": "ffedb24e-1277-4b16-be73-1be18cd93153",
   "metadata": {
    "slideshow": {
     "slide_type": "subslide"
    }
   },
   "source": [
    "## 以 `REVOKE` 移除角色權限\n",
    "\n",
    "```sql\n",
    "REVOKE privilege ON database_name.table_name FROM role_name@connection_name;\n",
    "```"
   ]
  },
  {
   "cell_type": "markdown",
   "id": "4ee0b9ce-2f73-4096-9591-65181d3ab5af",
   "metadata": {
    "slideshow": {
     "slide_type": "-"
    }
   },
   "source": [
    "```sql\n",
    "REVOKE CREATE VIEW ON imdb.* FROM 'poweruser'@'localhost';\n",
    "SHOW GRANTS FOR 'poweruser'@'localhost';\n",
    "```"
   ]
  },
  {
   "cell_type": "markdown",
   "id": "d61fd758-d5b7-4995-956d-0a2e4d0133b6",
   "metadata": {
    "slideshow": {
     "slide_type": "subslide"
    }
   },
   "source": [
    "## 以 `DROP` 刪除角色\n",
    "\n",
    "```sql\n",
    "DROP ROLE role_name@connection_name;\n",
    "```"
   ]
  },
  {
   "cell_type": "markdown",
   "id": "cb9b753c-9e0b-4b6e-bc01-d08591085add",
   "metadata": {
    "slideshow": {
     "slide_type": "-"
    }
   },
   "source": [
    "```sql\n",
    "DROP ROLE 'poweruser'@'localhost';\n",
    "SELECT User\n",
    "  FROM mysql.user;\n",
    "```"
   ]
  },
  {
   "cell_type": "markdown",
   "id": "0815510b-cb88-4d2b-b0a3-06ccbc3023b4",
   "metadata": {
    "slideshow": {
     "slide_type": "slide"
    }
   },
   "source": [
    "## 新增、更新、刪除使用者"
   ]
  },
  {
   "cell_type": "markdown",
   "id": "554b53b7",
   "metadata": {
    "slideshow": {
     "slide_type": "subslide"
    }
   },
   "source": [
    "## 以 `CREATE` 建立使用者\n",
    "\n",
    "```sql\n",
    "CREATE USER user_name@connection_name IDENTIFIED BY password DEFAULT ROLE role_name;\n",
    "```"
   ]
  },
  {
   "cell_type": "markdown",
   "id": "85752ff8",
   "metadata": {
    "slideshow": {
     "slide_type": "-"
    }
   },
   "source": [
    "```sql\n",
    "CREATE ROLE 'poweruser'@'localhost';\n",
    "GRANT SELECT, CREATE VIEW ON imdb.* TO 'poweruser'@'localhost';\n",
    "\n",
    "CREATE USER 'monica'@'localhost' IDENTIFIED BY 'geller' DEFAULT ROLE 'administrator'@'localhost';\n",
    "CREATE USER 'phoebe'@'localhost' IDENTIFIED BY 'buffay' DEFAULT ROLE 'normaluser'@'localhost';\n",
    "CREATE USER 'rachel'@'localhost' IDENTIFIED BY 'green' DEFAULT ROLE 'poweruser'@'localhost';\n",
    "```"
   ]
  },
  {
   "cell_type": "markdown",
   "id": "25e89b56-75ad-448b-b0da-4c5077b89566",
   "metadata": {
    "slideshow": {
     "slide_type": "subslide"
    }
   },
   "source": [
    "## 檢視使用者\n",
    "\n",
    "- 查詢 `mysql` 資料庫的 `user` 資料表。\n",
    "- 展開 DBeaver 左側選單的 Users\n",
    "\n",
    "```sql\n",
    "SELECT User\n",
    "  FROM mysql.user;\n",
    "```"
   ]
  },
  {
   "cell_type": "markdown",
   "id": "60130458-aff9-4335-a19b-ecad24edd383",
   "metadata": {
    "slideshow": {
     "slide_type": "subslide"
    }
   },
   "source": [
    "## 檢視使用者的權限\n",
    "\n",
    "```sql\n",
    "SHOW GRANTS FOR user_name@connection_name;\n",
    "```"
   ]
  },
  {
   "cell_type": "markdown",
   "id": "4de80761-c1e7-41ef-9eb1-780cd5727e17",
   "metadata": {},
   "source": [
    "```sql\n",
    "SHOW GRANTS FOR 'monica'@'localhost';\n",
    "SHOW GRANTS FOR 'phoebe'@'localhost';\n",
    "SHOW GRANTS FOR 'rachel'@'localhost';\n",
    "```"
   ]
  },
  {
   "cell_type": "markdown",
   "id": "aff8a841",
   "metadata": {
    "slideshow": {
     "slide_type": "subslide"
    }
   },
   "source": [
    "## 以不同的使用者帳號登入觀察權限\n",
    "\n",
    "- 在 localhost 按右鍵前往 \"Edit Connection\" -> \"Driver properties\" 檢查 `allowPublicKeyRetrieval` 是否為 `true`\n",
    "- 觀察 monica 是否能夠在 `imdb` 查詢、建立資料表、建立檢視表。\n",
    "- 觀察 phoebe 是否能夠在 `imdb` 查詢，但不能建立資料表、不能建立檢視表。\n",
    "- 觀察 rachel 是否能夠在 `imdb` 查詢、建立檢視表，但不能建立資料表。"
   ]
  },
  {
   "cell_type": "markdown",
   "id": "10c620ca-b4f6-4832-8730-b0d7c803f0aa",
   "metadata": {
    "slideshow": {
     "slide_type": "subslide"
    }
   },
   "source": [
    "## 以 `ALTER` 更改使用者的密碼\n",
    "\n",
    "```sql\n",
    "ALTER USER user_name@connection_name IDENTIFIED BY 'new_password';\n",
    "```"
   ]
  },
  {
   "cell_type": "markdown",
   "id": "ee49e083-a455-4ad5-9994-0785e71c216b",
   "metadata": {},
   "source": [
    "```sql\n",
    "ALTER USER 'monica'@'localhost' IDENTIFIED BY 'monica';\n",
    "```"
   ]
  },
  {
   "cell_type": "markdown",
   "id": "9801ba28",
   "metadata": {
    "slideshow": {
     "slide_type": "subslide"
    }
   },
   "source": [
    "## 以 `REVOKE` 移除使用者的角色\n",
    "\n",
    "```sql\n",
    "REVOKE role_name@connection_name FROM user_name@connection_name;\n",
    "```"
   ]
  },
  {
   "cell_type": "markdown",
   "id": "f0945144",
   "metadata": {},
   "source": [
    "```sql\n",
    "REVOKE 'administrator'@'localhost' FROM 'monica'@'localhost';\n",
    "SHOW GRANTS FOR 'monica'@'localhost';\n",
    "```"
   ]
  },
  {
   "cell_type": "markdown",
   "id": "5c345cf9-5888-4b0d-9bcc-1713428039da",
   "metadata": {
    "slideshow": {
     "slide_type": "subslide"
    }
   },
   "source": [
    "## 以 `GRANT` 給予使用者角色\n",
    "\n",
    "```sql\n",
    "GRANT role_name@connection_name TO user_name@connection_name;\n",
    "```"
   ]
  },
  {
   "cell_type": "markdown",
   "id": "387f0d3b-0b8f-454d-b83b-8048510bab93",
   "metadata": {},
   "source": [
    "```sql\n",
    "GRANT 'poweruser'@'localhost' TO 'monica'@'localhost';\n",
    "SHOW GRANTS FOR 'monica'@'localhost';\n",
    "```"
   ]
  },
  {
   "cell_type": "markdown",
   "id": "357d64bf",
   "metadata": {
    "slideshow": {
     "slide_type": "subslide"
    }
   },
   "source": [
    "## 以 `DROP` 刪除使用者\n",
    "\n",
    "```sql\n",
    "DROP USER user_name@connection_name;\n",
    "```"
   ]
  },
  {
   "cell_type": "markdown",
   "id": "9ec94572",
   "metadata": {},
   "source": [
    "```sql\n",
    "DROP USER 'monica'@'localhost';\n",
    "```"
   ]
  },
  {
   "cell_type": "markdown",
   "id": "05b810bd",
   "metadata": {
    "slideshow": {
     "slide_type": "slide"
    }
   },
   "source": [
    "## 重點統整\n",
    "\n",
    "- 設計給多人使用的關聯式資料庫管理系統需要作權限管理。\n",
    "- root 帳號是 MySQL 具有最高權限的管理者。\n",
    "- 使用 `GRANT` 保留字來**給予**角色、使用者和資料互動的權限。\n",
    "- 使用 `REVOKE` 保留字來**移除**角色、使用者和資料互動的權限。"
   ]
  },
  {
   "cell_type": "markdown",
   "id": "614174ff",
   "metadata": {
    "slideshow": {
     "slide_type": "subslide"
    }
   },
   "source": [
    "## 重點統整（續）\n",
    "\n",
    "- 組織通常不會針對個別帳號做客製化的權限設定，因此會先規劃角色，再連結使用者與角色。\n",
    "- IT 部門通常作為最高權限的管理者，非 IT 部門則會基於對資料的「依賴程度」與「需求數量」分為一般用戶或者活躍用戶。\n",
    "- MySQL 完整的權限參數清單可以參考官方文件：[Privileges Provided by MySQL](https://dev.mysql.com/doc/refman/8.0/en/privileges-provided.html)"
   ]
  }
 ],
 "metadata": {
  "celltoolbar": "Slideshow",
  "kernelspec": {
   "display_name": "xsql",
   "language": "sqlite",
   "name": "xsql"
  },
  "language_info": {
   "codemirror_mode": "sql",
   "file_extension": "",
   "mimetype": "",
   "name": "mysql",
   "version": "0.2.1"
  }
 },
 "nbformat": 4,
 "nbformat_minor": 5
}
