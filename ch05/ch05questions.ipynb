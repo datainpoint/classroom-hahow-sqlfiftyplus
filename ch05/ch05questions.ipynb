{
 "cells": [
  {
   "cell_type": "markdown",
   "metadata": {},
   "source": [
    "# 進階的 SQL 五十道練習\n",
    "\n",
    "> 資料操作語言\n",
    "\n",
    "[數聚點](https://www.datainpoint.com) | 郭耀仁 <yaojenkuo@datainpoint.com>"
   ]
  },
  {
   "cell_type": "markdown",
   "metadata": {},
   "source": [
    "## 練習題指引\n",
    "\n",
    "- 仔細閱讀題目敘述並且在自己的電腦透過 DBeaver 完成。\n",
    "- 下載批改測試檔案並放置在自己熟悉的目錄（資料夾）之中。\n",
    "    - 批改測試檔案：[ch05-test-dml.py](https://classroom-hahow-sqlfiftyplus.s3.ap-northeast-1.amazonaws.com/test_scripts/ch05-test-dml.py)\n",
    "- 執行測試：\n",
    "    - 開啟 Anaconda Prompt（Windows 作業系統）或 Terminal（macOS）\n",
    "    - 啟動專案環境 `conda activate pythonmysql`\n",
    "    - 透過 `cd` 指令移動到放置批改測試檔案的目錄（資料夾）。\n",
    "    - 執行 `python ch05-test-dml.py root {roots_password}`\n",
    "- 終端機操作的技巧：\n",
    "    - 在終端機畫面中按「向上箭頭」可以叫出先前執行過的指令。\n",
    "    - Windows 作業系統可以使用 `cls` 指令清空 Anaconda Prompt 畫面；macOS 可以使用 `clear` 指令或 `Ctrl - L` 清空 Terminal 畫面。"
   ]
  },
  {
   "cell_type": "markdown",
   "metadata": {},
   "source": [
    "## 0501 在本機的 MySQL Server 建立 `cloned_covid19` 資料庫，charset 指定 utf8mb4，collation 指定 utf8mb4_unicode_ci\n",
    "\n",
    "|Database|\n",
    "|--------|\n",
    "|cloned_covid19|\n",
    "|cloned_imdb|\n",
    "|covid19|\n",
    "|imdb|\n",
    "|information_schema|\n",
    "|mysql|\n",
    "|performance_schema|\n",
    "|sys|"
   ]
  },
  {
   "cell_type": "markdown",
   "metadata": {},
   "source": [
    "## 0502 承接 0501，在 `cloned_covid19` 資料庫中，建立 `locations` 資料表，下載 [locations.csv](https://classroom-hahow-sqlfiftyplus.s3.ap-northeast-1.amazonaws.com/csv/locations.csv) 匯入外部資料，欄位名稱與資料類型如下所示。\n",
    "\n",
    "```\n",
    "id int unsigned,\n",
    "country_name varchar(200),\n",
    "province_name varchar(200),\n",
    "iso2 char(2),\n",
    "iso3 char(3),\n",
    "latitude float,\n",
    "longitude float,\n",
    "population bigint\n",
    "```"
   ]
  },
  {
   "cell_type": "markdown",
   "metadata": {},
   "source": [
    "## 0503 承接 0502，在 `cloned_covid19` 資料庫中，將 `locations` 資料表第 496 筆觀測值，將它的 `iso2` 欄位由原本的空字元 `''` 更新為 `'NA'。\n",
    "\n",
    "|id|country_name|province_name|iso2|iso3|latitude|longitude|population|\n",
    "|--|------------|-------------|----|----|--------|---------|----------|\n",
    "|496|Namibia|||NAM|-22.9576|18.4904|2540916|"
   ]
  },
  {
   "cell_type": "markdown",
   "metadata": {},
   "source": [
    "## 0504 承接 0503，在 `cloned_covid19` 資料庫中，將 `locations` 資料表中 `province_name` 欄位原為空字元 `''` 的觀測值更新為 `NULL`"
   ]
  },
  {
   "cell_type": "markdown",
   "metadata": {},
   "source": [
    "## 0505 承接 0504，在 `cloned_covid19` 資料庫中，將 `locations` 資料表中 `iso2` 欄位原為空字元 `''` 的觀測值更新為 `NULL`"
   ]
  },
  {
   "cell_type": "markdown",
   "metadata": {},
   "source": [
    "## 0506 承接 0505，在 `cloned_covid19` 資料庫中，將 `locations` 資料表中 `iso3` 欄位原為空字元 `''` 的觀測值更新為 `NULL`"
   ]
  },
  {
   "cell_type": "markdown",
   "metadata": {},
   "source": [
    "## 0507 承接 0506，在 `cloned_covid19` 資料庫中，將 `locations` 資料表中的 `id` 欄位增添約束條件 `PRIMARY KEY`"
   ]
  },
  {
   "cell_type": "markdown",
   "metadata": {},
   "source": [
    "## 0508 承接 0501，在 `cloned_covid19` 資料庫中，建立 `accumulative_cases` 資料表，下載 [accumulative_cases.csv](https://classroom-hahow-sqlfiftyplus.s3.ap-northeast-1.amazonaws.com/csv/accumulative_cases.csv) 匯入外部資料，欄位名稱與資料類型如下所示。\n",
    "\n",
    "```\n",
    "id int unsigned,\n",
    "calendar_id int unsigned,\n",
    "location_id int unsigned,\n",
    "confirmed bigint,\n",
    "deaths bigint\n",
    "```"
   ]
  },
  {
   "cell_type": "markdown",
   "metadata": {},
   "source": [
    "## 0509 承接 0508，在 `cloned_covid19` 資料庫中，將 `accumulative_cases` 資料表中的 id 欄位增添約束條件 `PRIMARY KEY`"
   ]
  },
  {
   "cell_type": "markdown",
   "metadata": {},
   "source": [
    "## 0510 承接 0508，在 `cloned_covid19` 資料庫中，將 `accumulative_cases` 資料表中的 `location_id` 欄位增添 `fk_accumulative_cases_locations` 約束條件 `FOREIGN KEY` 參照 `locations` 資料表的 `id`"
   ]
  }
 ],
 "metadata": {
  "kernelspec": {
   "display_name": "xsql",
   "language": "sqlite",
   "name": "xsql"
  },
  "language_info": {
   "codemirror_mode": "sql",
   "file_extension": "",
   "mimetype": "",
   "name": "mysql",
   "version": "0.2.1"
  }
 },
 "nbformat": 4,
 "nbformat_minor": 4
}
