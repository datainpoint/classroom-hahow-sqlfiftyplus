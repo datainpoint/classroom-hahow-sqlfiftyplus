{
 "cells": [
  {
   "cell_type": "markdown",
   "id": "62be485e",
   "metadata": {
    "slideshow": {
     "slide_type": "slide"
    }
   },
   "source": [
    "# 進階的 SQL 五十道練習\n",
    "\n",
    "> 資料操作語言\n",
    "\n",
    "[數聚點](https://www.datainpoint.com) | 郭耀仁 <yaojenkuo@datainpoint.com>"
   ]
  },
  {
   "cell_type": "code",
   "execution_count": 1,
   "id": "b3a1f3c2",
   "metadata": {
    "slideshow": {
     "slide_type": "skip"
    }
   },
   "outputs": [],
   "source": [
    "%LOAD mysql user=root password=hahowsql"
   ]
  },
  {
   "cell_type": "markdown",
   "id": "0a2425ca",
   "metadata": {
    "slideshow": {
     "slide_type": "subslide"
    }
   },
   "source": [
    "## （複習）SQL 的分類\n",
    "\n",
    "- 在初階課程「SQL 的五十道練習」中我們專注在資料查詢語言的部分；這堂進階課程會完整帶學員們認識其他的 SQL 語言。\n",
    "- 實務上，資料查詢語言是被分類在資料操作語言之下的一個分支。\n",
    "    - 資料定義語言（Data Definition Language, DDL）\n",
    "    - **資料操作語言（Data Manipulation Language, DML）**\n",
    "        - 資料查詢語言（Data Query Language, DQL）\n",
    "    - 資料控制語言（Data Control Language, DCL）\n",
    "    - 交易控制語言（Transaction Control Language, TCL）"
   ]
  },
  {
   "cell_type": "markdown",
   "id": "926ddc16",
   "metadata": {
    "slideshow": {
     "slide_type": "subslide"
    }
   },
   "source": [
    "## 資料操作語言（Data Manipulation Language, DML）主要的保留字\n",
    "\n",
    "- `INSERT`\n",
    "- `UPDATE`\n",
    "- `DELETE`\n",
    "\n",
    "這意味著我們可以在資料表中新增、更新與刪除資料。"
   ]
  },
  {
   "cell_type": "markdown",
   "id": "a15ba258",
   "metadata": {
    "slideshow": {
     "slide_type": "subslide"
    }
   },
   "source": [
    "## 有哪些資料表中的資料可以新增、更新與刪除\n",
    "\n",
    "- 資料操作語言的新增、更新與刪除是針對觀測值（Observations）。\n",
    "- 觀測值又常被稱為列（Rows）或元組（Tuple）。"
   ]
  },
  {
   "cell_type": "markdown",
   "id": "c7993df2",
   "metadata": {
    "slideshow": {
     "slide_type": "slide"
    }
   },
   "source": [
    "## 新增資料"
   ]
  },
  {
   "cell_type": "markdown",
   "id": "38d0b18d",
   "metadata": {
    "slideshow": {
     "slide_type": "subslide"
    }
   },
   "source": [
    "## 以 `INSERT` 新增資料\n",
    "\n",
    "一組小括號、使用逗號將資料值（Values）區隔開來，這樣的資料結構 `(values, ...)` 就被稱作元組（Tuple）。\n",
    "\n",
    "```sql\n",
    "INSERT INTO database_name.table_name (column1, column2, ...) VALUES\n",
    "    (value_of_column1, value_of_column2, ...);\n",
    "```"
   ]
  },
  {
   "cell_type": "code",
   "execution_count": 2,
   "id": "7c3c9526-c102-4d04-baed-d7bab1f10bd4",
   "metadata": {},
   "outputs": [],
   "source": [
    "DROP DATABASE IF EXISTS cloned_imdb;"
   ]
  },
  {
   "cell_type": "code",
   "execution_count": 3,
   "id": "cc3ca557-b7b7-453f-87bd-3ea776986c52",
   "metadata": {},
   "outputs": [],
   "source": [
    "CREATE DATABASE cloned_imdb CHARACTER SET utf8mb4 COLLATE utf8mb4_unicode_ci;"
   ]
  },
  {
   "cell_type": "code",
   "execution_count": 4,
   "id": "3e489a2b-111a-4982-bffc-56da9072f47f",
   "metadata": {},
   "outputs": [],
   "source": [
    "CREATE TABLE cloned_imdb.movies (\n",
    "    id int unsigned,\n",
    "    title varchar(200),\n",
    "    release_year year,\n",
    "    rating float\n",
    ");"
   ]
  },
  {
   "cell_type": "code",
   "execution_count": 5,
   "id": "d27c3703-120e-4046-93ea-7c28c03b8ec7",
   "metadata": {},
   "outputs": [],
   "source": [
    "INSERT INTO cloned_imdb.movies (id, title, release_year, rating) VALUES\n",
    "    (1, 'The Shawshank Redemption', 1994, 9.3);"
   ]
  },
  {
   "cell_type": "markdown",
   "id": "a0d7e15e-522b-4d1d-995c-76ee23cc93c3",
   "metadata": {
    "slideshow": {
     "slide_type": "subslide"
    },
    "tags": []
   },
   "source": [
    "## 以 `INSERT` 新增多筆資料\n",
    "\n",
    "用逗號將元組（Tuple）區隔開來。\n",
    "\n",
    "```sql\n",
    "INSERT INTO database_name.table_name (column1, column2, ...) VALUES\n",
    "    (value_of_column1, value_of_column2, ...),\n",
    "    (value_of_column1, value_of_column2, ...),\n",
    "    (value_of_column1, value_of_column2, ...);\n",
    "```"
   ]
  },
  {
   "cell_type": "code",
   "execution_count": 6,
   "id": "9fbbd651-36bd-4f37-b66d-ed9cb2b8f493",
   "metadata": {},
   "outputs": [],
   "source": [
    "INSERT INTO cloned_imdb.movies (id, title, release_year, rating) VALUES \n",
    "    (2, 'The Godfather', 1972, 9.2),\n",
    "    (3, 'The Dark Knight', 2008, 9.0);"
   ]
  },
  {
   "cell_type": "markdown",
   "id": "669362d5",
   "metadata": {
    "slideshow": {
     "slide_type": "subslide"
    }
   },
   "source": [
    "## 創造資料表時指定的資料類型會影響新增資料是否能成功執行\n",
    "\n",
    "```sql\n",
    "INSERT INTO cloned_imdb.movies (id, title, release_year, rating) VALUES\n",
    "    (4, 1974, 'The Godfather Part II', 9.0);\n",
    "```\n",
    "\n",
    "```\n",
    "Incorrect integer value: 'The Godfather Part II' for column 'release_year' at row 1\n",
    "```"
   ]
  },
  {
   "cell_type": "markdown",
   "id": "174e2045-2e3a-48a7-9242-35be2e6dd583",
   "metadata": {
    "slideshow": {
     "slide_type": "subslide"
    }
   },
   "source": [
    "## 匯入外部資料\n",
    "\n",
    "- 除了手動將資料以元組的外型輸入以外，我們更常匯入外部資料。\n",
    "- 關聯式資料庫最常見的外部資料格式為 CSV 檔案。\n",
    "- 逗號分隔值（Comma-Separated Values，CSV，有時也稱為字元分隔值），其檔案以純文字形式儲存表格資料。"
   ]
  },
  {
   "cell_type": "markdown",
   "id": "a8f27bdf-90b3-41a3-b763-13154b26ce78",
   "metadata": {
    "slideshow": {
     "slide_type": "subslide"
    }
   },
   "source": [
    "## 透過 `DBeaver` 的使用者介面匯入外部資料\n",
    "\n",
    "- 下載 [movies.csv](https://classroom-hahow-sqlfiftyplus.s3.ap-northeast-1.amazonaws.com/csv/movies.csv)\n",
    "- 透過純文字編輯器（推薦使用 [Visual Studio Code](https://code.visualstudio.com/download)）開啟預覽。\n",
    "- 在資料庫清單按右鍵，點擊 Import Data\n",
    "- 匯入外部資料時，資料表的建立與觀測值的輸入可以一起完成。"
   ]
  },
  {
   "cell_type": "markdown",
   "id": "21b90391-ede7-4e4d-a632-e4465ad62d37",
   "metadata": {
    "slideshow": {
     "slide_type": "slide"
    }
   },
   "source": [
    "## 欄位的約束條件與資料表索引"
   ]
  },
  {
   "cell_type": "markdown",
   "id": "48554a69-6626-4488-b0ac-669cc248285a",
   "metadata": {
    "slideshow": {
     "slide_type": "subslide"
    }
   },
   "source": [
    "## 欄位的約束條件（Constraints）\n",
    "\n",
    "- 除了資料類型會影響新增資料是否能成功執行，欄位的約束條件（Constraints）也會影響新增資料是否能成功執行。\n",
    "- 約束條件指的是針對資料表欄位所施加的限制。"
   ]
  },
  {
   "cell_type": "markdown",
   "id": "0f752112",
   "metadata": {
    "slideshow": {
     "slide_type": "subslide"
    }
   },
   "source": [
    "## MySQL 的欄位約束條件\n",
    "\n",
    "- `DEFAULT`\n",
    "- `UNIQUE`\n",
    "- `NOT NULL`\n",
    "- `PRIMARY KEY`\n",
    "- `AUTO_INCREMENT`\n",
    "- `FOREIGN KEY`"
   ]
  },
  {
   "cell_type": "markdown",
   "id": "b86d2bd2",
   "metadata": {
    "slideshow": {
     "slide_type": "subslide"
    }
   },
   "source": [
    "## 創造資料表時除了資料類型，亦可以指定約束條件\n",
    "\n",
    "```sql\n",
    "CREATE TABLE database_name.table_name (\n",
    "    column_name_1 datatype constraints,\n",
    "    column_name_2 datatype constraints,\n",
    "    column_name_3 datatype constraints,\n",
    "    ....\n",
    ");\n",
    "```"
   ]
  },
  {
   "cell_type": "markdown",
   "id": "aa4da1ba-3fba-4d25-b5a5-fc8bf5266d65",
   "metadata": {
    "slideshow": {
     "slide_type": "subslide"
    }
   },
   "source": [
    "## 或者使用 `ALTER` 對欄位增添約束條件\n",
    "\n",
    "視約束條件的異同使用 `ADD` 或 `MODIFY`\n",
    "\n",
    "```sql\n",
    "ALTER TABLE database_name.table_name\n",
    "  ADD CONSTRAINT constraints (column_name);\n",
    "```\n",
    "\n",
    "```sql\n",
    "ALTER TABLE database_name.table_name\n",
    "MODIFY column_name datatype constraints;\n",
    "```"
   ]
  },
  {
   "cell_type": "markdown",
   "id": "e6d3cb55-f5ba-46cd-ad4c-14126c5a62a1",
   "metadata": {
    "slideshow": {
     "slide_type": "subslide"
    }
   },
   "source": [
    "## `rating` 欄位沒有 `DEFAULT` 約束條件時\n",
    "\n",
    "未輸入資料以 `NULL` 儲存。"
   ]
  },
  {
   "cell_type": "code",
   "execution_count": 7,
   "id": "93393975-eeb7-41bf-ad9b-217bbb755fbf",
   "metadata": {},
   "outputs": [],
   "source": [
    "DROP TABLE IF EXISTS cloned_imdb.movies;"
   ]
  },
  {
   "cell_type": "code",
   "execution_count": 8,
   "id": "69a356dc-d209-4c32-b2f0-ec44ecfe3820",
   "metadata": {},
   "outputs": [],
   "source": [
    "CREATE TABLE cloned_imdb.movies (\n",
    "    id int unsigned,\n",
    "    title varchar(200),\n",
    "    release_year year,\n",
    "    rating float\n",
    ");"
   ]
  },
  {
   "cell_type": "code",
   "execution_count": 9,
   "id": "9f36333d-e3c7-4764-93b2-f3312da37f24",
   "metadata": {},
   "outputs": [],
   "source": [
    "INSERT INTO cloned_imdb.movies (id, title, release_year) VALUES \n",
    "    (1, 'The Shawshank Redemption', 1994);"
   ]
  },
  {
   "cell_type": "markdown",
   "id": "49020642-b657-48c5-9333-e26ee9707f61",
   "metadata": {
    "slideshow": {
     "slide_type": "subslide"
    }
   },
   "source": [
    "## `rating` 欄位有 `DEFAULT 0` 約束條件時\n",
    "\n",
    "未輸入資料改以 `0` 儲存。"
   ]
  },
  {
   "cell_type": "code",
   "execution_count": 10,
   "id": "5d2c3d3e-1f6d-4c41-a856-b3f27def54cf",
   "metadata": {},
   "outputs": [],
   "source": [
    "DROP TABLE IF EXISTS cloned_imdb.movies;"
   ]
  },
  {
   "cell_type": "code",
   "execution_count": 11,
   "id": "c23f755b-a867-40b9-a724-9374fef21139",
   "metadata": {},
   "outputs": [],
   "source": [
    "CREATE TABLE cloned_imdb.movies (\n",
    "    id int unsigned,\n",
    "    title varchar(200),\n",
    "    release_year year,\n",
    "    rating float DEFAULT 0\n",
    ");"
   ]
  },
  {
   "cell_type": "code",
   "execution_count": 12,
   "id": "6c6b4206-643c-45cd-bc82-78b36fbc93a8",
   "metadata": {},
   "outputs": [],
   "source": [
    "INSERT INTO cloned_imdb.movies (id, title, release_year) VALUES \n",
    "    (1, 'The Shawshank Redemption', 1994);"
   ]
  },
  {
   "cell_type": "markdown",
   "id": "a776c130-a508-44fb-8934-68ea81e03e9b",
   "metadata": {
    "slideshow": {
     "slide_type": "subslide"
    }
   },
   "source": [
    "## `id` 欄位沒有 `UNIQUE` 約束條件時\n",
    "\n",
    "可以允許輸入資料的 `id` 重複。"
   ]
  },
  {
   "cell_type": "code",
   "execution_count": 13,
   "id": "82c59d9c-b06a-4418-a735-a42450dd30b6",
   "metadata": {},
   "outputs": [],
   "source": [
    "DROP TABLE IF EXISTS cloned_imdb.movies;"
   ]
  },
  {
   "cell_type": "code",
   "execution_count": 14,
   "id": "dbbf4b7a-2932-4d60-857c-153e8bf549cd",
   "metadata": {},
   "outputs": [],
   "source": [
    "CREATE TABLE cloned_imdb.movies (\n",
    "    id int unsigned,\n",
    "    title varchar(200),\n",
    "    release_year year,\n",
    "    rating float\n",
    ");"
   ]
  },
  {
   "cell_type": "code",
   "execution_count": 15,
   "id": "4b2b7368-d80b-4e4c-80c6-45135759e381",
   "metadata": {},
   "outputs": [],
   "source": [
    "INSERT INTO cloned_imdb.movies (id, title, release_year, rating) VALUES \n",
    "    (1, 'The Shawshank Redemption', 1994, 9.3),\n",
    "    (1, 'The Godfather', 1972, 9.2),\n",
    "    (1, 'The Dark Knight', 2008, 9.0);"
   ]
  },
  {
   "cell_type": "markdown",
   "id": "adafead9-794e-4633-a0f5-4aa1b5a11280",
   "metadata": {
    "slideshow": {
     "slide_type": "subslide"
    }
   },
   "source": [
    "## `id` 欄位有 `UNIQUE` 約束條件時\n",
    "\n",
    "不允許輸入資料的 `id` 重複。\n",
    "\n",
    "```sql\n",
    "DROP TABLE IF EXISTS cloned_imdb.movies;\n",
    "CREATE TABLE cloned_imdb.movies (\n",
    "    id int unsigned,\n",
    "    title varchar(200),\n",
    "    release_year year,\n",
    "    rating float\n",
    ");\n",
    "ALTER TABLE cloned_imdb.movies\n",
    "  ADD CONSTRAINT UNIQUE (id);\n",
    "```"
   ]
  },
  {
   "cell_type": "markdown",
   "id": "eaf02d1e-c8cf-4a98-be0a-b51374251cb7",
   "metadata": {
    "slideshow": {
     "slide_type": "subslide"
    }
   },
   "source": [
    "## `id` 欄位沒有 `NOT NULL` 約束條件時\n",
    "\n",
    "允許輸入資料的 `id` 遺漏。"
   ]
  },
  {
   "cell_type": "code",
   "execution_count": 16,
   "id": "27f82dbb-90c8-4eba-b41e-94b95c3c8e92",
   "metadata": {},
   "outputs": [],
   "source": [
    "DROP TABLE IF EXISTS cloned_imdb.movies;"
   ]
  },
  {
   "cell_type": "code",
   "execution_count": 17,
   "id": "284c642d-3900-450c-931e-d74c709e8915",
   "metadata": {},
   "outputs": [],
   "source": [
    "CREATE TABLE cloned_imdb.movies (\n",
    "    id int unsigned,\n",
    "    title varchar(200),\n",
    "    release_year year,\n",
    "    rating float\n",
    ");"
   ]
  },
  {
   "cell_type": "code",
   "execution_count": 18,
   "id": "9c5ad1ec-ac60-4df6-85a4-7c9ac8709851",
   "metadata": {},
   "outputs": [],
   "source": [
    "INSERT INTO cloned_imdb.movies (title, release_year, rating) VALUES \n",
    "    ('The Shawshank Redemption', 1994, 9.3);"
   ]
  },
  {
   "cell_type": "markdown",
   "id": "39a81610-4613-43ef-8744-d8540834ca85",
   "metadata": {
    "slideshow": {
     "slide_type": "subslide"
    }
   },
   "source": [
    "## `id` 欄位有 `NOT NULL` 約束條件時\n",
    "\n",
    "不允許輸入資料的 `id` 遺漏。\n",
    "\n",
    "```sql\n",
    "DROP TABLE IF EXISTS cloned_imdb.movies;\n",
    "CREATE TABLE cloned_imdb.movies (\n",
    "    id int unsigned,\n",
    "    title varchar(200),\n",
    "    release_year year,\n",
    "    rating float\n",
    ");\n",
    "ALTER TABLE cloned_imdb.movies\n",
    "MODIFY id int unsigned NOT NULL;\n",
    "```"
   ]
  },
  {
   "cell_type": "markdown",
   "id": "3e529e4d",
   "metadata": {
    "slideshow": {
     "slide_type": "subslide"
    }
   },
   "source": [
    "## 主鍵 `PRIMARY KEY`\n",
    "\n",
    "- 無法儲存和其他紀錄重複的值、也無法儲存 `NULL` 的約束條件。\n",
    "- 電影可能同名；導演、編劇與演員可能同名同姓，主鍵能夠辨識觀測值的獨一性。\n",
    "- 如同兩個約束條件的交集 `UNIQUE` 加上 `NOT NULL`\n",
    "\n",
    "```sql\n",
    "ALTER TABLE database_name.table_name\n",
    "  ADD CONSTRAINT PRIMARY KEY (id);\n",
    "```"
   ]
  },
  {
   "cell_type": "code",
   "execution_count": 27,
   "id": "eb746d6f-eab6-4047-a651-cc102394e1ee",
   "metadata": {},
   "outputs": [],
   "source": [
    "DROP TABLE IF EXISTS cloned_imdb.movies;"
   ]
  },
  {
   "cell_type": "code",
   "execution_count": 28,
   "id": "278c3c43-ae19-4a98-9721-a2377f544d83",
   "metadata": {},
   "outputs": [],
   "source": [
    "CREATE TABLE cloned_imdb.movies (\n",
    "    id int unsigned,\n",
    "    title varchar(200),\n",
    "    release_year year,\n",
    "    rating float\n",
    ");"
   ]
  },
  {
   "cell_type": "code",
   "execution_count": 29,
   "id": "74527317-2479-4393-a4e4-3c229839aeaf",
   "metadata": {},
   "outputs": [],
   "source": [
    "ALTER TABLE cloned_imdb.movies\n",
    "  ADD CONSTRAINT PRIMARY KEY (id);"
   ]
  },
  {
   "cell_type": "markdown",
   "id": "2e129378-b829-4295-bc8b-0092acecbff7",
   "metadata": {
    "slideshow": {
     "slide_type": "subslide"
    }
   },
   "source": [
    "## 顯示資料表的主鍵\n",
    "\n",
    "```sql\n",
    "SHOW KEYS FROM database_name.table_name;\n",
    "```\n",
    "\n",
    "```sql\n",
    "SHOW KEYS FROM cloned_imdb.movies;\n",
    "```"
   ]
  },
  {
   "cell_type": "markdown",
   "id": "22c20459",
   "metadata": {
    "slideshow": {
     "slide_type": "subslide"
    }
   },
   "source": [
    "## 主鍵約束條件不允許輸入重複的值\n",
    "\n",
    "```\n",
    "Duplicate entry '3' for key 'movies.PRIMARY'\n",
    "```\n",
    "\n",
    "```sql\n",
    "INSERT INTO cloned_imdb.movies (id, title, release_year, rating) VALUES\n",
    "    (1, 'The Shawshank Redemption', 1994, 9.3),\n",
    "    (2, 'The Godfather', 1972, 9.2),\n",
    "    (3, 'The Dark Knight', 2008, 9.0),\n",
    "    (3, 'The Godfather Part II', 1974, 9.0);\n",
    "```"
   ]
  },
  {
   "cell_type": "markdown",
   "id": "b2ec629c-4909-4a32-8355-3cb6e0aaf738",
   "metadata": {
    "slideshow": {
     "slide_type": "subslide"
    }
   },
   "source": [
    "## `id` 欄位沒有 `AUTO_INCREMENT` 約束條件時\n",
    "\n",
    "未輸入資料的 `id` 以 `NULL` 儲存。"
   ]
  },
  {
   "cell_type": "code",
   "execution_count": 19,
   "id": "039bd49e-7f96-49c5-9b93-a24d73b00a46",
   "metadata": {},
   "outputs": [],
   "source": [
    "DROP TABLE IF EXISTS cloned_imdb.movies;"
   ]
  },
  {
   "cell_type": "code",
   "execution_count": 20,
   "id": "7191f5b5-fb5f-43a3-beb7-10ac7455d4d1",
   "metadata": {},
   "outputs": [],
   "source": [
    "CREATE TABLE cloned_imdb.movies (\n",
    "    id int unsigned,\n",
    "    title varchar(200),\n",
    "    release_year year,\n",
    "    rating float\n",
    ");"
   ]
  },
  {
   "cell_type": "code",
   "execution_count": 21,
   "id": "8df3d4d5-9c24-47a0-bce4-00e514214198",
   "metadata": {},
   "outputs": [],
   "source": [
    "INSERT INTO cloned_imdb.movies (title, release_year, rating) VALUES \n",
    "    ('The Shawshank Redemption', 1994, 9.3),\n",
    "    ('The Godfather', 1972, 9.2),\n",
    "    ('The Dark Knight', 2008, 9.0);"
   ]
  },
  {
   "cell_type": "markdown",
   "id": "c6c9ff04-7ce3-4dcd-acc4-7362dd8492c7",
   "metadata": {
    "slideshow": {
     "slide_type": "subslide"
    }
   },
   "source": [
    "## `id` 欄位有 `AUTO_INCREMENT` 約束條件時\n",
    "\n",
    "- 只能添加在有 `PRIMARY KEY` 約束條件的欄位上。\n",
    "- 未輸入資料的 `id` 以自動增加的流水編號儲存。"
   ]
  },
  {
   "cell_type": "code",
   "execution_count": 22,
   "id": "d1e13f40-cb34-428e-b85f-f0e63517ca12",
   "metadata": {},
   "outputs": [],
   "source": [
    "DROP TABLE IF EXISTS cloned_imdb.movies;"
   ]
  },
  {
   "cell_type": "code",
   "execution_count": 23,
   "id": "166b6ea9-0c7d-4561-95cb-b88e5c9e734d",
   "metadata": {},
   "outputs": [],
   "source": [
    "CREATE TABLE cloned_imdb.movies (\n",
    "    id int unsigned,\n",
    "    title varchar(200),\n",
    "    release_year year,\n",
    "    rating float\n",
    ");"
   ]
  },
  {
   "cell_type": "code",
   "execution_count": 24,
   "id": "563f31fc-c527-4542-849d-ff261d92ca0e",
   "metadata": {},
   "outputs": [],
   "source": [
    "ALTER TABLE cloned_imdb.movies\n",
    "  ADD CONSTRAINT PRIMARY KEY (id);"
   ]
  },
  {
   "cell_type": "code",
   "execution_count": 25,
   "id": "662207ae-de21-4436-8c9c-db3f7e5237c0",
   "metadata": {},
   "outputs": [],
   "source": [
    "ALTER TABLE cloned_imdb.movies\n",
    "MODIFY id int unsigned AUTO_INCREMENT;"
   ]
  },
  {
   "cell_type": "code",
   "execution_count": 26,
   "id": "50a0fadd-583d-49e5-8425-f34f2ff4e6a2",
   "metadata": {},
   "outputs": [],
   "source": [
    "INSERT INTO cloned_imdb.movies (title, release_year, rating) VALUES \n",
    "    ('The Shawshank Redemption', 1994, 9.3),\n",
    "    ('The Godfather', 1972, 9.2),\n",
    "    ('The Dark Knight', 2008, 9.0);"
   ]
  },
  {
   "cell_type": "markdown",
   "id": "0076efaf-ef8c-4b6f-a7d3-e5adf20ded0d",
   "metadata": {
    "slideshow": {
     "slide_type": "subslide"
    }
   },
   "source": [
    "## 外鍵 `FOREIGN KEY`\n",
    "\n",
    "- 用來描述子女資料表（Child table）與父母資料表（Parent table）的參照關係，確保所有輸入子女資料表的資料都能夠在父母資料表中找到已經存在的值。\n",
    "- 子女資料表有時亦稱為下游資料表、父母資料表有時亦稱為上游資料表。\n",
    "- 外鍵的存在與否，不會影響是否可以使用 `JOIN` 連接資料表。\n",
    "- 通常子女資料表的連接鍵會以父母資料表的單數格式加上 `_id` 命名，例如父母資料表為 `directors`，子女資料表的連接鍵就命名為 `director_id`\n",
    "\n",
    "```sql\n",
    "ALTER TABLE database_name.table_name\n",
    "  ADD CONSTRAINT fk_child_parent FOREIGN KEY (foreign_key) REFERENCES parent_table (primary_key);\n",
    "```"
   ]
  },
  {
   "cell_type": "markdown",
   "id": "0bb625ac-c616-495c-8fa9-67ae513b5949",
   "metadata": {
    "slideshow": {
     "slide_type": "subslide"
    }
   },
   "source": [
    "## 建立 `directors` 資料表作為父母資料表"
   ]
  },
  {
   "cell_type": "code",
   "execution_count": 30,
   "id": "c9a7530d-4fce-4cd8-9ff6-e5d5e739947b",
   "metadata": {},
   "outputs": [],
   "source": [
    "DROP TABLE IF EXISTS cloned_imdb.directors;"
   ]
  },
  {
   "cell_type": "code",
   "execution_count": 31,
   "id": "7a9e4ed5-adc3-4997-81d0-eb6093c8e0c4",
   "metadata": {},
   "outputs": [],
   "source": [
    "CREATE TABLE cloned_imdb.directors (\n",
    "    id int unsigned,\n",
    "    name varchar(200)\n",
    ");"
   ]
  },
  {
   "cell_type": "code",
   "execution_count": 32,
   "id": "b86b5683-4971-4078-939a-9d9fdee1f2c2",
   "metadata": {},
   "outputs": [],
   "source": [
    "ALTER TABLE cloned_imdb.directors\n",
    "  ADD CONSTRAINT PRIMARY KEY (id);"
   ]
  },
  {
   "cell_type": "code",
   "execution_count": 33,
   "id": "b6efacfd-1200-4893-9624-337cbf946332",
   "metadata": {},
   "outputs": [],
   "source": [
    "INSERT INTO cloned_imdb.directors (id, name) VALUES\n",
    "    (1, 'Frank Darabont'),\n",
    "    (2, 'Francis Ford Coppola'),\n",
    "    (3, 'Christopher Nolan');"
   ]
  },
  {
   "cell_type": "markdown",
   "id": "b418c45b-c9db-4248-96bf-92b1276c71b1",
   "metadata": {
    "slideshow": {
     "slide_type": "subslide"
    }
   },
   "source": [
    "## 建立 `movies` 資料表作為子女資料表"
   ]
  },
  {
   "cell_type": "code",
   "execution_count": 34,
   "id": "46aa2d5f-664c-4a05-94ab-0633f1e93536",
   "metadata": {},
   "outputs": [],
   "source": [
    "DROP TABLE IF EXISTS cloned_imdb.movies;"
   ]
  },
  {
   "cell_type": "code",
   "execution_count": 35,
   "id": "89386238-5647-4d19-bf87-43edbd6573d0",
   "metadata": {},
   "outputs": [],
   "source": [
    "CREATE TABLE cloned_imdb.movies (\n",
    "    id int unsigned,\n",
    "    title varchar(200),\n",
    "    release_year year,\n",
    "    rating float,\n",
    "    director_id int unsigned\n",
    ");"
   ]
  },
  {
   "cell_type": "code",
   "execution_count": 36,
   "id": "fe759dd6-05cc-4148-b863-c9883e91f60d",
   "metadata": {},
   "outputs": [],
   "source": [
    "ALTER TABLE cloned_imdb.movies\n",
    "  ADD CONSTRAINT fk_movies_directors FOREIGN KEY (director_id) REFERENCES directors (id);"
   ]
  },
  {
   "cell_type": "code",
   "execution_count": 37,
   "id": "56d09808-4f15-4d43-9b9e-27da2dd4fe4c",
   "metadata": {},
   "outputs": [],
   "source": [
    "INSERT INTO cloned_imdb.movies (id, title, release_year, rating, director_id) VALUES\n",
    "    (1, 'The Shawshank Redemption', 1994, 9.3, 1),\n",
    "    (2, 'The Godfather', 1972, 9.2, 2),\n",
    "    (3, 'The Dark Knight', 2008, 9.0, 3),\n",
    "    (4, 'The Godfather Part II', 1974, 9.0, 2);"
   ]
  },
  {
   "cell_type": "markdown",
   "id": "754496c2-e80d-4f58-8fb5-8b0cc9108120",
   "metadata": {
    "slideshow": {
     "slide_type": "subslide"
    }
   },
   "source": [
    "## 有外鍵約束條件時，子女資料表僅能儲存父母資料表已經存在的值"
   ]
  },
  {
   "cell_type": "code",
   "execution_count": 38,
   "id": "1360bff0-3fd4-456d-854d-6b99e1bee8d7",
   "metadata": {},
   "outputs": [],
   "source": [
    "INSERT INTO cloned_imdb.movies (id, title, release_year, rating, director_id) VALUES\n",
    "    (5, 'Inception', 2010, 8.7, 3);"
   ]
  },
  {
   "cell_type": "markdown",
   "id": "f99df634",
   "metadata": {
    "jp-MarkdownHeadingCollapsed": true,
    "slideshow": {
     "slide_type": "subslide"
    },
    "tags": []
   },
   "source": [
    "## 有外鍵約束條件時，不允許於子女資料表儲存父母資料表沒有的值\n",
    "\n",
    "```\n",
    "Cannot add or update a child row: a foreign key constraint fails\n",
    "```\n",
    "\n",
    "```sql\n",
    "INSERT INTO cloned_imdb.movies (id, title, release_year, rating, director_id) VALUES\n",
    "    (6, 'Schindler\\'s List', 1993, 8.9, 4);\n",
    "```"
   ]
  },
  {
   "cell_type": "markdown",
   "id": "b73b7c63-21cb-43ed-9243-1926d1fc67e3",
   "metadata": {
    "jp-MarkdownHeadingCollapsed": true,
    "slideshow": {
     "slide_type": "subslide"
    },
    "tags": []
   },
   "source": [
    "## 有外鍵約束條件時資料表的刪除要注意順序\n",
    "\n",
    "```\n",
    "Cannot drop table 'directors' referenced by a foreign key constraint 'fk_movies_directors' on table 'movies'.\n",
    "```\n",
    "\n",
    "```sql\n",
    "DROP TABLE IF EXISTS cloned_imdb.directors;\n",
    "```"
   ]
  },
  {
   "cell_type": "markdown",
   "id": "af397aa6-c577-4ee7-8c03-580d90394ac5",
   "metadata": {
    "slideshow": {
     "slide_type": "subslide"
    },
    "tags": []
   },
   "source": [
    "## 有外鍵約束條件時要先刪除子女資料表、再刪除父母資料表\n",
    "\n",
    "```sql\n",
    "DROP TABLE IF EXISTS cloned_imdb.movies;\n",
    "DROP TABLE IF EXISTS cloned_imdb.directors;\n",
    "```"
   ]
  },
  {
   "cell_type": "markdown",
   "id": "53335855-8b80-4eac-9296-a1ef06ed08fd",
   "metadata": {
    "slideshow": {
     "slide_type": "subslide"
    },
    "tags": []
   },
   "source": [
    "## 進行資料操作時會先移除外鍵約束條件\n",
    "\n",
    "資料表的刪除就不需注意順序。\n",
    "\n",
    "```sql\n",
    "ALTER TABLE database_name.table_name\n",
    " DROP CONSTRAINT fk_child_parent;\n",
    "```"
   ]
  },
  {
   "cell_type": "code",
   "execution_count": 39,
   "id": "71726067-51f2-4a46-b38a-1bba575c64d6",
   "metadata": {},
   "outputs": [],
   "source": [
    "ALTER TABLE cloned_imdb.movies\n",
    " DROP CONSTRAINT fk_movies_directors;"
   ]
  },
  {
   "cell_type": "code",
   "execution_count": 40,
   "id": "07badcbe-dfe9-4001-be2d-cf01245b38fb",
   "metadata": {},
   "outputs": [],
   "source": [
    "DROP TABLE IF EXISTS cloned_imdb.directors;"
   ]
  },
  {
   "cell_type": "code",
   "execution_count": 41,
   "id": "83b768db-e0b8-46f8-8f9c-80a612ee0cad",
   "metadata": {},
   "outputs": [],
   "source": [
    "DROP TABLE IF EXISTS cloned_imdb.movies;"
   ]
  },
  {
   "cell_type": "markdown",
   "id": "168d0aab-4630-40cc-ae17-68fe92a006df",
   "metadata": {
    "slideshow": {
     "slide_type": "subslide"
    }
   },
   "source": [
    "## 什麼是資料表索引（Index）\n",
    "\n",
    "- 索引（Index）能夠提高資料表掃描的效率，藉此提升「篩選」或者「排序」的效率。\n",
    "- 因此針對常被使用者拿來「篩選」或者「排序」的欄位建立索引可以提升查詢效率。\n",
    "- 建立主鍵的同時 MySQL 也會自動對其產生索引。"
   ]
  },
  {
   "cell_type": "markdown",
   "id": "9814c635-54c4-429f-b4b9-93889b7d7e7a",
   "metadata": {
    "slideshow": {
     "slide_type": "subslide"
    }
   },
   "source": [
    "## 如何建立資料表索引\n",
    "\n",
    "```sql\n",
    "ALTER TABLE database_name.table_name\n",
    "  ADD INDEX index_name (column_name);\n",
    "\n",
    "CREATE INDEX index_name\n",
    "    ON database_name.table_name (column_name);\n",
    "```"
   ]
  },
  {
   "cell_type": "code",
   "execution_count": 42,
   "id": "aa19c8c1-7116-4f5d-9eb0-25b7193b553d",
   "metadata": {},
   "outputs": [],
   "source": [
    "DROP TABLE IF EXISTS cloned_imdb.movies;"
   ]
  },
  {
   "cell_type": "code",
   "execution_count": 43,
   "id": "81fef8a0-e782-4fb4-ae17-c41ab30ee3fe",
   "metadata": {},
   "outputs": [],
   "source": [
    "CREATE TABLE cloned_imdb.movies (\n",
    "    id int unsigned,\n",
    "    title varchar(200),\n",
    "    release_year year,\n",
    "    rating float\n",
    ");"
   ]
  },
  {
   "cell_type": "code",
   "execution_count": 44,
   "id": "94a75f77-635d-4348-9855-53ebbb9d1899",
   "metadata": {},
   "outputs": [],
   "source": [
    "ALTER TABLE cloned_imdb.movies\n",
    "  ADD CONSTRAINT PRIMARY KEY (id);"
   ]
  },
  {
   "cell_type": "code",
   "execution_count": 45,
   "id": "dcccda36-6fdb-4d72-9ee4-9f647fd7f458",
   "metadata": {},
   "outputs": [],
   "source": [
    "ALTER TABLE cloned_imdb.movies\n",
    "  ADD INDEX idx_title (title);"
   ]
  },
  {
   "cell_type": "code",
   "execution_count": 46,
   "id": "61b404ac-6f89-4322-b69d-132b26486c18",
   "metadata": {},
   "outputs": [],
   "source": [
    "CREATE INDEX idx_release_year\n",
    "    ON cloned_imdb.movies (release_year);"
   ]
  },
  {
   "cell_type": "markdown",
   "id": "74a47a60-d487-406e-b974-b6fc4b248ceb",
   "metadata": {
    "slideshow": {
     "slide_type": "subslide"
    }
   },
   "source": [
    "## 顯示索引\n",
    "\n",
    "```sql\n",
    "SHOW INDEX FROM database_name.table_name;\n",
    "\n",
    "SHOW INDEX FROM cloned_imdb.movies;\n",
    "```"
   ]
  },
  {
   "cell_type": "markdown",
   "id": "23300142-6211-4917-9463-db6757fa6332",
   "metadata": {
    "slideshow": {
     "slide_type": "subslide"
    }
   },
   "source": [
    "## 如何刪除索引\n",
    "\n",
    "```sql\n",
    "ALTER TABLE database_name.table_name\n",
    " DROP INDEX index_name;\n",
    "\n",
    "DROP INDEX index_name\n",
    "  ON database_name.table_name;\n",
    "```"
   ]
  },
  {
   "cell_type": "code",
   "execution_count": 47,
   "id": "aa411806-0310-41c2-b3d7-998aa9e26647",
   "metadata": {},
   "outputs": [],
   "source": [
    "ALTER TABLE cloned_imdb.movies\n",
    " DROP INDEX idx_title;"
   ]
  },
  {
   "cell_type": "code",
   "execution_count": 48,
   "id": "3180be86-7440-41f9-94fe-9be5d5bd1bdb",
   "metadata": {},
   "outputs": [],
   "source": [
    "DROP INDEX idx_release_year\n",
    "  ON cloned_imdb.movies;"
   ]
  },
  {
   "cell_type": "markdown",
   "id": "ab9b0f86",
   "metadata": {
    "slideshow": {
     "slide_type": "slide"
    }
   },
   "source": [
    "## 更新資料"
   ]
  },
  {
   "cell_type": "markdown",
   "id": "d7e11328",
   "metadata": {
    "slideshow": {
     "slide_type": "subslide"
    }
   },
   "source": [
    "## 以 `UPDATE` 更新資料\n",
    "\n",
    "```sql\n",
    "UPDATE database_name.table_name\n",
    "   SET column_name_1 = value1,\n",
    "       column_name_2 = value2,\n",
    "       ...\n",
    " WHERE conditions;\n",
    "```"
   ]
  },
  {
   "cell_type": "code",
   "execution_count": 49,
   "id": "5524e016-e25d-4f66-88b7-1fa71dffc891",
   "metadata": {},
   "outputs": [],
   "source": [
    "DROP TABLE IF EXISTS cloned_imdb.movies;"
   ]
  },
  {
   "cell_type": "code",
   "execution_count": 50,
   "id": "de3c5272-80fa-46df-8031-4a41bb4c877d",
   "metadata": {},
   "outputs": [],
   "source": [
    "CREATE TABLE cloned_imdb.movies (\n",
    "    id int unsigned,\n",
    "    title varchar(200),\n",
    "    release_year year,\n",
    "    rating float\n",
    ");"
   ]
  },
  {
   "cell_type": "markdown",
   "id": "107bed07-c171-48bd-a2cc-5a1bd580a614",
   "metadata": {
    "slideshow": {
     "slide_type": "subslide"
    }
   },
   "source": [
    "## 新增資料時輸入錯誤"
   ]
  },
  {
   "cell_type": "code",
   "execution_count": 51,
   "id": "2f347a2f-077e-4d20-8f8f-2ed69340ea22",
   "metadata": {
    "slideshow": {
     "slide_type": "-"
    }
   },
   "outputs": [],
   "source": [
    "INSERT INTO cloned_imdb.movies (id, title, release_year, rating) VALUES\n",
    "    (1, 'The Shawshank Redemption', 1995, 9.3), -- wrong input of release_year\n",
    "    (2, 'The Godfather', 1972, 9.2),\n",
    "    (3, 'The Dark Knight', 2008, 9.0),\n",
    "    (4, 'The Godfather Part II', 1974, 9.0);"
   ]
  },
  {
   "cell_type": "markdown",
   "id": "3e7e8a2b-9298-4510-b6dc-4948f426330e",
   "metadata": {
    "slideshow": {
     "slide_type": "subslide"
    }
   },
   "source": [
    "## 以 `UPDATE` 更新 `release_year` 的資料"
   ]
  },
  {
   "cell_type": "code",
   "execution_count": 52,
   "id": "01d231a0-9e43-4614-ad14-ef812519d9ee",
   "metadata": {
    "slideshow": {
     "slide_type": "-"
    }
   },
   "outputs": [],
   "source": [
    "UPDATE cloned_imdb.movies\n",
    "   SET release_year = 1994\n",
    " WHERE id = 1; -- flexible conditions: title = 'The Shawshank Redemption' / release_year = 1995 / rating = 9.3"
   ]
  },
  {
   "cell_type": "markdown",
   "id": "f8195d85",
   "metadata": {
    "slideshow": {
     "slide_type": "slide"
    }
   },
   "source": [
    "## 刪除資料"
   ]
  },
  {
   "cell_type": "markdown",
   "id": "d4069bd6",
   "metadata": {
    "slideshow": {
     "slide_type": "subslide"
    }
   },
   "source": [
    "## 以 `DELETE` 刪除資料表中特定的資料\n",
    "\n",
    "```sql\n",
    "DELETE FROM database_name.table_name\n",
    " WHERE conditions;\n",
    "```"
   ]
  },
  {
   "cell_type": "code",
   "execution_count": 53,
   "id": "3ed70d32-71bd-42b8-869e-a7ad835eb66f",
   "metadata": {},
   "outputs": [],
   "source": [
    "DELETE FROM cloned_imdb.movies\n",
    " WHERE id = 4;"
   ]
  },
  {
   "cell_type": "markdown",
   "id": "4e480e59",
   "metadata": {
    "slideshow": {
     "slide_type": "subslide"
    }
   },
   "source": [
    "## 如果沒有指定 `conditions` 會刪除資料表中的所有資料\n",
    "\n",
    "與資料定義語言（Data Definition Language, DDL）的 `TRUNCATE` 效果相同。\n",
    "\n",
    "```sql\n",
    "DELETE FROM database_name.table_name;\n",
    "```"
   ]
  },
  {
   "cell_type": "code",
   "execution_count": 54,
   "id": "7a465871-b1e2-4692-9588-d909a47c4e7e",
   "metadata": {
    "slideshow": {
     "slide_type": "-"
    }
   },
   "outputs": [],
   "source": [
    "DELETE FROM cloned_imdb.movies;"
   ]
  },
  {
   "cell_type": "markdown",
   "id": "63788b15",
   "metadata": {
    "slideshow": {
     "slide_type": "subslide"
    }
   },
   "source": [
    "## 沒有指定 `conditions` 的 `DELETE` 與 `TRUNCATE` 之差異\n",
    "\n",
    "- `DELETE` 屬於資料操作語言範疇；`TRUNCATE` 屬於資料定義語言範疇。\n",
    "- `TRUNCATE` 結合了 `DROP` 與 `CREATE` 兩個資料定義語言敘述，通常會要求使用者具有較高的權限等級。\n",
    "- `DELETE` 是一列一列刪除資料，效率上慢於 `TRUNCATE`"
   ]
  },
  {
   "cell_type": "markdown",
   "id": "1405c55c",
   "metadata": {
    "slideshow": {
     "slide_type": "slide"
    }
   },
   "source": [
    "## 重點統整\n",
    "\n",
    "- 資料操作語言的保留字：\n",
    "    - 以 `INSERT` 新增資料。\n",
    "    - 以 `UPDATE` 更新資料。\n",
    "    - 以 `DELETE` 刪除資料。"
   ]
  },
  {
   "cell_type": "markdown",
   "id": "2ce8a26d",
   "metadata": {
    "slideshow": {
     "slide_type": "subslide"
    }
   },
   "source": [
    "## 重點統整（續）\n",
    "\n",
    "- MySQL 的欄位約束條件\n",
    "    - `DEFAULT` 未輸入資料以預設值儲存。\n",
    "    - `UNIQUE` 不允許輸入重複資料。\n",
    "    - `NOT NULL` 不允許未輸入資料。\n",
    "    - `PRIMARY KEY` 辨識資料表的獨一值。\n",
    "    - `AUTO_INCREMENT` 自動增加主鍵的流水編號。\n",
    "    - `FOREIGN KEY` 確保資料的參照完整性。"
   ]
  }
 ],
 "metadata": {
  "celltoolbar": "Slideshow",
  "kernelspec": {
   "display_name": "xsql",
   "language": "sqlite",
   "name": "xsql"
  },
  "language_info": {
   "codemirror_mode": "sql",
   "file_extension": "",
   "mimetype": "",
   "name": "mysql",
   "version": "0.2.1"
  }
 },
 "nbformat": 4,
 "nbformat_minor": 5
}
