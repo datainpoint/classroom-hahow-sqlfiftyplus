{
 "cells": [
  {
   "cell_type": "markdown",
   "id": "lightweight-fruit",
   "metadata": {
    "slideshow": {
     "slide_type": "slide"
    }
   },
   "source": [
    "# 進階的 SQL 五十道練習\n",
    "\n",
    "> LeetCode Curated SQL 70: Easy\n",
    "\n",
    "[數聚點](https://www.datainpoint.com) | 郭耀仁 <yaojenkuo@datainpoint.com>"
   ]
  },
  {
   "cell_type": "markdown",
   "id": "488bba4f",
   "metadata": {
    "slideshow": {
     "slide_type": "slide"
    }
   },
   "source": [
    "## 如何寫作 LeetCode 練習題"
   ]
  },
  {
   "cell_type": "markdown",
   "id": "8cd75e0c",
   "metadata": {
    "slideshow": {
     "slide_type": "subslide"
    }
   },
   "source": [
    "## 關於 [LeetCode](https://leetcode.com)\n",
    "\n",
    "- [LeetCode](https://leetcode.com) 是知名的線上刷題網站，欲求職的軟體工程師會透過完成網站上大量的練習題來準備面試。\n",
    "- 除了最知名的演算法題庫（LeetCode Curated Algo 170），亦有其他主題（例如資料庫、pandas 等）與科技公司考古題（例如 Google、Amazon 等）。"
   ]
  },
  {
   "cell_type": "markdown",
   "id": "b152a9f9",
   "metadata": {
    "slideshow": {
     "slide_type": "subslide"
    }
   },
   "source": [
    "## 開始寫作 [LeetCode](https://leetcode.com) 練習題\n",
    "\n",
    "- 前往網站註冊：<https://leetcode.com>\n",
    "- 前往 LeetCode Curated SQL 70 題庫：<https://leetcode.com/problem-list/leetcode-curated-sql-70>"
   ]
  },
  {
   "cell_type": "markdown",
   "id": "f86f7792",
   "metadata": {
    "slideshow": {
     "slide_type": "subslide"
    }
   },
   "source": [
    "## 寫作 LeetCode Curated SQL 70 題庫的步驟\n",
    "\n",
    "1. 在本機 MySQL Server 建立 `leetcode` 資料庫：`CREATE DATABASE IF NOT EXISTS leetcode CHARACTER SET utf8mb4 COLLATE utf8mb4_unicode_ci;`\n",
    "2. 進入題目頁面，複製 SQL Schema，在本機 MySQL Server 建立資料表並且插入觀測值。\n",
    "3. 每個題目都有其專屬的資料表，可能會有同樣名稱但是欄位不同或觀測值不同，因此會先刪除資料表後再建立。\n",
    "4. 寫出和預期輸出相符的 SQL 敘述後，複製貼上至編輯區，點選 Run 先確認「顯示測資」通過，再點選 Submit 確認是否也能通過「隱藏測資」。"
   ]
  }
 ],
 "metadata": {
  "celltoolbar": "Slideshow",
  "kernelspec": {
   "display_name": "xsql",
   "language": "sqlite",
   "name": "xsql"
  },
  "language_info": {
   "codemirror_mode": "sql",
   "file_extension": "",
   "mimetype": "",
   "name": "mysql",
   "version": "0.2.1"
  }
 },
 "nbformat": 4,
 "nbformat_minor": 5
}
