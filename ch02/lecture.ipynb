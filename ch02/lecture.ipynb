{
 "cells": [
  {
   "cell_type": "markdown",
   "id": "lightweight-fruit",
   "metadata": {
    "slideshow": {
     "slide_type": "slide"
    }
   },
   "source": [
    "# 進階的 SQL 五十道練習\n",
    "\n",
    "> 建立環境\n",
    "\n",
    "[數聚點](https://www.datainpoint.com) | 郭耀仁 <yaojenkuo@datainpoint.com>"
   ]
  },
  {
   "cell_type": "code",
   "execution_count": 1,
   "id": "796cd186",
   "metadata": {
    "slideshow": {
     "slide_type": "skip"
    }
   },
   "outputs": [],
   "source": [
    "%LOAD mysql user=root password=1qaz2wsx"
   ]
  },
  {
   "cell_type": "markdown",
   "id": "17b4a8d2",
   "metadata": {
    "slideshow": {
     "slide_type": "slide"
    }
   },
   "source": [
    "## 建立 MySQL 環境"
   ]
  },
  {
   "cell_type": "markdown",
   "id": "8e0ac021",
   "metadata": {
    "slideshow": {
     "slide_type": "subslide"
    }
   },
   "source": [
    "## 為什麼不沿用 SQLite\n",
    "\n",
    "- 初階課程「SQL 的五十道練習」選擇的關聯式資料庫管理系統是 SQLite\n",
    "- 這堂課程選擇的關聯式資料庫管理系統是 MySQL\n",
    "- SQLite 是設計給單人使用的，沒有辦法示範資料控制語言（DCL, Data Control Language）。"
   ]
  },
  {
   "cell_type": "markdown",
   "id": "57d4f3de",
   "metadata": {
    "slideshow": {
     "slide_type": "subslide"
    }
   },
   "source": [
    "## 如何在本機建立 MySQL 環境\n",
    "\n",
    "- Windows 作業系統\n",
    "    - 下載與安裝 MySQL Server、MySQL Workbench\n",
    "    - 下載與安裝 DBeaver\n",
    "- macOS\n",
    "    - 下載與安裝 MySQL Server\n",
    "    - 下載與安裝 MySQL Workbench\n",
    "    - 下載與安裝 DBeaver"
   ]
  },
  {
   "cell_type": "markdown",
   "id": "e57d895e",
   "metadata": {
    "slideshow": {
     "slide_type": "subslide"
    }
   },
   "source": [
    "## MySQL Server 、MySQL Workbench 與 DBeaver 的差異\n",
    "\n",
    "- MySQL Server 是關聯式資料庫管理系統，是**必須**的安裝選項，安裝完成之後，可以透過 DBeaver、MySQL Workbench、MySQL CLI、phpMyAdmin 等連線工具使用。\n",
    "- MySQL Workbench 與 DBeaver 都屬於 MySQL Server 的連線工具，是**非必須**的安裝選項，但透過它的圖形使用者介面來執行 SQL 進行資料查詢、定義、操作或者控制能帶給使用者與管理員更輕鬆、更友善的體驗。"
   ]
  },
  {
   "cell_type": "markdown",
   "id": "7d9afcac",
   "metadata": {
    "slideshow": {
     "slide_type": "subslide"
    }
   },
   "source": [
    "## Windows 作業系統\n",
    "\n",
    "- 本課程使用 MySQL Server 、MySQL Workbench 的安裝版本為 8.0.31\n",
    "- 本課程使用 DBeaver 的安裝版本為 23.0.2\n",
    "- Windows 作業系統下載副檔名為 .msi 或 .exe 的安裝檔：\n",
    "    - [MySQL Installer](https://classroom-hahow-sqlfiftyplus.s3.ap-northeast-1.amazonaws.com/installers/mysql-installer-community-8.0.31.0.msi)\n",
    "    - [DBeaver](https://classroom-hahow-sqlfiftyplus.s3.ap-northeast-1.amazonaws.com/installers/dbeaver-ce-23.0.2-x86_64-setup.exe)"
   ]
  },
  {
   "cell_type": "markdown",
   "id": "a974115b",
   "metadata": {
    "slideshow": {
     "slide_type": "subslide"
    }
   },
   "source": [
    "## Windows 作業系統注意事項\n",
    "\n",
    "- 透過 MySQL Installer 可以同時安裝 MySQL Server、MySQL Workbench\n",
    "- 記住 root 帳號的密碼，如果怕忘記，可以考慮和課程設定相同的密碼：hahowsql\n",
    "- 不要將電腦的登入密碼與 root 帳號的密碼搞混。\n",
    "- 開啟「服務」這個應用程式確認 MySQL Server 是否啟動。"
   ]
  },
  {
   "cell_type": "markdown",
   "id": "658d8c64",
   "metadata": {
    "slideshow": {
     "slide_type": "subslide"
    }
   },
   "source": [
    "## macOS\n",
    "\n",
    "- 本課程使用 MySQL Server 的安裝版本為 8.0.31\n",
    "- 本課程使用 MySQL Workbench 的安裝版本為 8.0.31\n",
    "- 本課程使用 DBeaver 的安裝版本為 23.0.2\n",
    "- macOS 下載副檔名為 .dmg 的安裝檔：\n",
    "    - [MySQL Server](https://classroom-hahow-sqlfiftyplus.s3.ap-northeast-1.amazonaws.com/installers/mysql-8.0.31-macos12-x86_64.dmg)\n",
    "    - [MySQL Workbench](https://classroom-hahow-sqlfiftyplus.s3.ap-northeast-1.amazonaws.com/installers/mysql-workbench-community-8.0.31-macos-x86_64.dmg)\n",
    "    - [DBeaver](https://classroom-hahow-sqlfiftyplus.s3.ap-northeast-1.amazonaws.com/installers/dbeaver-ce-23.0.2-macos-x86_64.dmg)"
   ]
  },
  {
   "cell_type": "markdown",
   "id": "7a8c2236",
   "metadata": {
    "slideshow": {
     "slide_type": "subslide"
    }
   },
   "source": [
    "## macOS 注意事項\n",
    "\n",
    "- MySQL Server、MySQL Workbench 要個別下載、個別安裝。\n",
    "- 若是 macOS 不允許安裝，需前往「系統偏好」->「安全與隱私」->「一般」輸入電腦的登入密碼特例允許安裝。\n",
    "- 記住 root 帳號的密碼，如果怕忘記，可以考慮和課程設定相同的密碼：hahowsql\n",
    "- 不要將電腦的登入密碼與 root 帳號的密碼搞混。\n",
    "- 前往「系統偏好」->「MySQL」確認 MySQL Server 是否啟動。"
   ]
  },
  {
   "cell_type": "markdown",
   "id": "ef3384ea",
   "metadata": {
    "slideshow": {
     "slide_type": "subslide"
    }
   },
   "source": [
    "## 透過 MySQL Workbench 建立與本機 MySQL Server 的連線\n",
    "\n",
    "- Connection Name: localhost\n",
    "- Hostname: 127.0.0.1\n",
    "- Port: 3306\n",
    "- Username: root"
   ]
  },
  {
   "cell_type": "markdown",
   "id": "b38c2d83",
   "metadata": {
    "slideshow": {
     "slide_type": "subslide"
    }
   },
   "source": [
    "## 透過 MySQL Workbench 建立學習資料庫\n",
    "\n",
    "- 下載 [create_mysql_covid19.sql](https://classroom-hahow-sqlfiftyplus.s3.ap-northeast-1.amazonaws.com/sql_scripts/create_mysql_covid19.sql)\n",
    "- 下載 [create_mysql_imdb.sql](https://classroom-hahow-sqlfiftyplus.s3.ap-northeast-1.amazonaws.com/sql_scripts/create_mysql_imdb.sql)\n",
    "- 以 MySQL Workbench 分別開啟下載好的兩個程式碼檔案，全選後執行。\n",
    "- 可以在左方的 Schemas 檢視 covid19 與 imdb 兩個學習資料庫。"
   ]
  },
  {
   "cell_type": "markdown",
   "id": "67552fa0",
   "metadata": {
    "slideshow": {
     "slide_type": "subslide"
    }
   },
   "source": [
    "## 也可以使用 `SHOW DATABASES;` 指令檢視"
   ]
  },
  {
   "cell_type": "code",
   "execution_count": 2,
   "id": "efeb6e9b",
   "metadata": {},
   "outputs": [
    {
     "data": {
      "text/html": [
       "<table>\n",
       "<tr>\n",
       "<th>Database</th>\n",
       "</tr>\n",
       "<tr>\n",
       "<td>covid19</td>\n",
       "</tr>\n",
       "<tr>\n",
       "<td>imdb</td>\n",
       "</tr>\n",
       "<tr>\n",
       "<td>information_schema</td>\n",
       "</tr>\n",
       "<tr>\n",
       "<td>mysql</td>\n",
       "</tr>\n",
       "<tr>\n",
       "<td>performance_schema</td>\n",
       "</tr>\n",
       "<tr>\n",
       "<td>sys</td>\n",
       "</tr>\n",
       "</table>\n",
       "6 rows in set (0.01 sec)"
      ],
      "text/plain": [
       "+--------------------+\n",
       "| Database           |\n",
       "+--------------------+\n",
       "| covid19            |\n",
       "+--------------------+\n",
       "| imdb               |\n",
       "+--------------------+\n",
       "| information_schema |\n",
       "+--------------------+\n",
       "| mysql              |\n",
       "+--------------------+\n",
       "| performance_schema |\n",
       "+--------------------+\n",
       "| sys                |\n",
       "+--------------------+\n",
       "6 rows in set (0.01 sec)"
      ]
     },
     "execution_count": 2,
     "metadata": {},
     "output_type": "execute_result"
    }
   ],
   "source": [
    "SHOW DATABASES;"
   ]
  },
  {
   "cell_type": "markdown",
   "id": "80b55231",
   "metadata": {
    "slideshow": {
     "slide_type": "subslide"
    }
   },
   "source": [
    "## 透過 DBeaver 建立與本機 MySQL Server 的連線\n",
    "\n",
    "- Connection: localhost\n",
    "- Port: 3306\n",
    "- Username: root"
   ]
  },
  {
   "cell_type": "markdown",
   "id": "7f31f22e",
   "metadata": {
    "slideshow": {
     "slide_type": "subslide"
    }
   },
   "source": [
    "## 調整三個 DBeaver 設定\n",
    "\n",
    "1. 在 localhost 按右鍵前往 \"Edit Connection\" -> \"Driver properties\" 將 `allowPublicKeyRetrieval` 調整為 `true`\n",
    "2. 前往 Preferences... -> Editors -> SQL Editor -> Code Completion 將 Enable auto activation、Activate on typing、Use Tab for autocompletion 勾選取消。\n",
    "3. 前往 Preferences... -> Editors -> SQL Editor -> Formatting 將 Keyword case 調整為 `UPPER`"
   ]
  },
  {
   "cell_type": "markdown",
   "id": "07b71738",
   "metadata": {
    "slideshow": {
     "slide_type": "subslide"
    }
   },
   "source": [
    "## 透過 DBeaver 檢視學習資料庫\n",
    "\n",
    "- 在左方的 Database Navigator 檢視 covid19 與 imdb 兩個學習資料庫。\n",
    "- 也可以使用 SHOW DATABASES; 指令檢視。"
   ]
  },
  {
   "cell_type": "markdown",
   "id": "886c6d20",
   "metadata": {
    "slideshow": {
     "slide_type": "slide"
    }
   },
   "source": [
    "## 建立 Python 環境"
   ]
  },
  {
   "cell_type": "markdown",
   "id": "d8c47e64",
   "metadata": {
    "slideshow": {
     "slide_type": "subslide"
    }
   },
   "source": [
    "## SQL 的課程為什麼需要建立 Python 環境\n",
    "\n",
    "- 初階課程「SQL 的五十道練習」其實也有用到 Python，練習題之所以能夠讓同學自行執行、批改看結果，就是透過 Python 寫了單元測試。\n",
    "- 由於 MySQL 安裝在學員的電腦，因此必須能夠在自己電腦中執行 Python 程式才能批改。\n",
    "- 除了批改測試所需，課程也會提到關聯式模型設計與 ETL 的入門觀念，也會需要 Python 來示範。\n",
    "- 課程並沒有要求學員必須具備 Python 程式撰寫的能力，學員只要跟著課程影片執行指令或程式碼即可。"
   ]
  },
  {
   "cell_type": "markdown",
   "id": "b1f777f6",
   "metadata": {
    "slideshow": {
     "slide_type": "subslide"
    }
   },
   "source": [
    "## 如何在本機建立 Python 環境\n",
    "\n",
    "- Windows 作業系統：下載與安裝 Miniconda\n",
    "- macOS：下載與安裝 Miniconda"
   ]
  },
  {
   "cell_type": "markdown",
   "id": "26d5201b",
   "metadata": {
    "slideshow": {
     "slide_type": "subslide"
    }
   },
   "source": [
    "## Windows 作業系統\n",
    "\n",
    "- 本課程使用 Miniconda 的安裝版本為 Conda 23.5.2 Python 3.11.3\n",
    "- Windows 作業系統下載副檔名為 .exe 的安裝檔：\n",
    "    - [Miniconda](https://classroom-hahow-sqlfiftyplus.s3.ap-northeast-1.amazonaws.com/installers/Miniconda3-latest-Windows-x86_64.exe)"
   ]
  },
  {
   "cell_type": "markdown",
   "id": "6feb73c1",
   "metadata": {
    "slideshow": {
     "slide_type": "subslide"
    }
   },
   "source": [
    "## Windows 作業系統建立專案環境 `pythonmysql`\n",
    "\n",
    "- 前往「所有應用程式」-> Miniconda3(64-bit) -> Anaconda Prompt\n",
    "- 輸入建立專案的指令，按 Enter 並確認安裝計畫。\n",
    "\n",
    "```bash\n",
    "(base) conda create -n pythonmysql python=3.11\n",
    "```"
   ]
  },
  {
   "cell_type": "markdown",
   "id": "c1801ef1",
   "metadata": {
    "slideshow": {
     "slide_type": "subslide"
    }
   },
   "source": [
    "## Windows 作業系統啟動專案環境 `pythonmysql`\n",
    "\n",
    "輸入啟動專案環境的指令，按 Enter\n",
    "\n",
    "```bash\n",
    "(base) conda activate pythonmysql\n",
    "(pythonmysql)\n",
    "```"
   ]
  },
  {
   "cell_type": "markdown",
   "id": "7f947b53",
   "metadata": {
    "slideshow": {
     "slide_type": "subslide"
    }
   },
   "source": [
    "## Windows 作業系統啟動專案環境後安裝模組\n",
    "\n",
    "輸入安裝模組的指令，按 Enter 並確認安裝計畫。\n",
    "\n",
    "```bash\n",
    "(pythonmysql) conda install requests beautifulsoup4 numpy pandas pymysql xlrd cryptography\n",
    "```"
   ]
  },
  {
   "cell_type": "markdown",
   "id": "1236aeb5",
   "metadata": {
    "slideshow": {
     "slide_type": "subslide"
    }
   },
   "source": [
    "## macOS\n",
    "\n",
    "- 本課程使用 Miniconda 的安裝版本為 Conda 23.5.2 Python 3.11.3\n",
    "- macOS 下載副檔名為 .dmg 的安裝檔：\n",
    "    - [Miniconda](https://classroom-hahow-sqlfiftyplus.s3.ap-northeast-1.amazonaws.com/installers/Miniconda3-latest-MacOSX-x86_64.pkg)\n",
    "    - [Miniconda for Apple M1](https://classroom-hahow-sqlfiftyplus.s3.ap-northeast-1.amazonaws.com/installers/Miniconda3-latest-MacOSX-arm64.pkg)"
   ]
  },
  {
   "cell_type": "markdown",
   "id": "a5f1366b",
   "metadata": {
    "slideshow": {
     "slide_type": "subslide"
    }
   },
   "source": [
    "## macOS 建立專案環境 `pythonmysql`\n",
    "\n",
    "- Spotlight Search: Terminal\n",
    "- 輸入建立專案的指令，按 Enter 並確認安裝計畫。\n",
    "\n",
    "```bash\n",
    "(base) conda create -n pythonmysql python=3.11\n",
    "```"
   ]
  },
  {
   "cell_type": "markdown",
   "id": "18695e7f",
   "metadata": {
    "slideshow": {
     "slide_type": "subslide"
    }
   },
   "source": [
    "## macOS 啟動專案環境 `pythonmysql`\n",
    "\n",
    "輸入啟動專案環境的指令，按 Enter \n",
    "\n",
    "```bash\n",
    "(base) conda activate pythonmysql\n",
    "(pythonmysql)\n",
    "```"
   ]
  },
  {
   "cell_type": "markdown",
   "id": "39300420",
   "metadata": {
    "slideshow": {
     "slide_type": "subslide"
    }
   },
   "source": [
    "## macOS 啟動專案環境後安裝模組\n",
    "\n",
    "輸入安裝模組的指令，按 Enter 並確認安裝計畫。\n",
    "\n",
    "```bash\n",
    "(pythonmysql) conda install requests beautifulsoup4 numpy pandas pymysql xlrd\n",
    "```"
   ]
  },
  {
   "cell_type": "markdown",
   "id": "eaa67df5",
   "metadata": {
    "slideshow": {
     "slide_type": "slide"
    }
   },
   "source": [
    "## 重點統整\n",
    "\n",
    "- 建立 MySQL 環境\n",
    "    - 下載與安裝 MySQL Server、MySQL Workbench\n",
    "    - 下載與安裝 DBeaver\n",
    "- 建立 Python 環境\n",
    "    - 下載與安裝 Miniconda\n",
    "    - 建立專案環境 `pythonmysql`"
   ]
  }
 ],
 "metadata": {
  "celltoolbar": "Slideshow",
  "kernelspec": {
   "display_name": "xsql",
   "language": "sqlite",
   "name": "xsql"
  },
  "language_info": {
   "codemirror_mode": "sql",
   "file_extension": "",
   "mimetype": "",
   "name": "mysql",
   "version": "0.1.5"
  }
 },
 "nbformat": 4,
 "nbformat_minor": 5
}
