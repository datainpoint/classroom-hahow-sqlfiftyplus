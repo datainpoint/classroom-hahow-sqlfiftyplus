{
 "cells": [
  {
   "cell_type": "markdown",
   "metadata": {},
   "source": [
    "# 進階的 SQL 五十道練習\n",
    "\n",
    "> 快速複習基礎的 SQL 查詢敘述\n",
    "\n",
    "[數聚點](https://www.datainpoint.com) | 郭耀仁 <yaojenkuo@datainpoint.com>"
   ]
  },
  {
   "cell_type": "markdown",
   "metadata": {},
   "source": [
    "## 練習題指引\n",
    "\n",
    "- 仔細閱讀題目敘述以及預期結果。\n",
    "- 在自己電腦的 DBeaver 寫出跟預期結果相同的 SQL\n",
    "- 下載練習題與批改測試檔案並放置在同一個目錄（資料夾）之中。\n",
    "    - 練習題檔案：[ch03exercises.py](https://classroom-hahow-sqlfiftyplus.s3.ap-northeast-1.amazonaws.com/exercise-scripts/ch03exercises.py) \n",
    "    - 批改測試檔案：[ch03-test-basic-query.py](https://classroom-hahow-sqlfiftyplus.s3.ap-northeast-1.amazonaws.com/test_scripts/ch03-test-basic-query.py)\n",
    "- 使用 [Visual Studio Code](https://code.visualstudio.com/download)（推薦）或任意純文字編輯器開啟練習題檔案。\n",
    "- 將寫好的 SQL 貼在練習題對應變數名稱後的 `\"\"\"` 與 `\"\"\"` 之間。\n",
    "- 請使用 `SELECT ... FROM database.table` 的語法來標註資料庫與資料表，不要使用 `USE databse; SELECT ... FROM table` 的語法。\n",
    "- 執行測試：\n",
    "    - 開啟 Anaconda Prompt（Windows 作業系統）或 Terminal（macOS）\n",
    "    - 啟動專案環境 `conda activate pythonmysql`\n",
    "    - 透過 `cd` 指令移動到放置練習題與批改測試檔案的目錄（資料夾）。\n",
    "    - 執行 `python ch03-test-basic-query.py root {roots_password}`\n",
    "- 終端機操作的技巧：\n",
    "    - 在終端機畫面中按「向上箭頭」可以叫出先前執行過的指令。\n",
    "    - Windows 作業系統可以使用 `cls` 指令清空 Anaconda Prompt 畫面；macOS 可以使用 `clear` 指令或 `Ctrl - L` 清空 Terminal 畫面。"
   ]
  },
  {
   "cell_type": "markdown",
   "metadata": {},
   "source": [
    "## 0301（程式題）查詢 `imdb` 資料庫 `movies` 資料表中第八至第十列的觀測值。\n",
    "\n",
    "```\n",
    "   id                                              title  release_year  \\\n",
    "0   8                                       Pulp Fiction          1994   \n",
    "1   9  The Lord of the Rings: The Fellowship of the Ring          2001   \n",
    "2  10                     The Good, the Bad and the Ugly          1966   \n",
    "\n",
    "   runtime  rating                                    link  \n",
    "0      154     8.9  https://www.imdb.com//title/tt0110912/  \n",
    "1      178     8.8  https://www.imdb.com//title/tt0120737/  \n",
    "2      178     8.8  https://www.imdb.com//title/tt0060196/  \n",
    "```"
   ]
  },
  {
   "cell_type": "code",
   "execution_count": null,
   "metadata": {},
   "outputs": [],
   "source": [
    "answer_0301 =\\\n",
    "\"\"\"\n",
    "\n",
    "\"\"\""
   ]
  },
  {
   "cell_type": "markdown",
   "metadata": {},
   "source": [
    "## 0302（程式題）查詢 `covid19` 資料庫 `locations` 資料表中第十三列至第十六列的觀測值。\n",
    "\n",
    "```\n",
    "   id country_name       province_name iso2 iso3  latitude  longitude  \\\n",
    "0  13    Australia  Northern Territory   AU  AUS  -12.4634    130.846   \n",
    "1  14    Australia          Queensland   AU  AUS  -27.4698    153.025   \n",
    "2  15    Australia     South Australia   AU  AUS  -34.9285    138.601   \n",
    "3  16    Australia            Tasmania   AU  AUS  -42.8821    147.327   \n",
    "\n",
    "   population  \n",
    "0      245600  \n",
    "1     5115500  \n",
    "2     1756500  \n",
    "3      535500\n",
    "```"
   ]
  },
  {
   "cell_type": "code",
   "execution_count": null,
   "metadata": {},
   "outputs": [],
   "source": [
    "answer_0302 =\\\n",
    "\"\"\"\n",
    "\n",
    "\"\"\""
   ]
  },
  {
   "cell_type": "markdown",
   "metadata": {},
   "source": [
    "## 0303（程式題）查詢 `imdb` 資料庫 `movies` 資料表中於 1994 年上映的電影。\n",
    "\n",
    "```\n",
    "   id                     title  release_year  rating\n",
    "0   1  The Shawshank Redemption          1994     9.3\n",
    "1   8              Pulp Fiction          1994     8.9\n",
    "2  11              Forrest Gump          1994     8.8\n",
    "3  38             The Lion King          1994     8.5\n",
    "4  39    Léon: The Professional          1994     8.5\n",
    "```"
   ]
  },
  {
   "cell_type": "code",
   "execution_count": null,
   "metadata": {},
   "outputs": [],
   "source": [
    "answer_0303 =\\\n",
    "\"\"\"\n",
    "\n",
    "\"\"\""
   ]
  },
  {
   "cell_type": "markdown",
   "metadata": {},
   "source": [
    "## 0304（程式題）查詢 `covid19` 資料庫 `locations` 資料表中台灣的資料。\n",
    "\n",
    "```\n",
    "    id country_name iso2 iso3  population\n",
    "0  822       Taiwan   TW  TWN    23816775\n",
    "```"
   ]
  },
  {
   "cell_type": "code",
   "execution_count": null,
   "metadata": {},
   "outputs": [],
   "source": [
    "answer_0304 =\\\n",
    "\"\"\"\n",
    "\n",
    "\"\"\""
   ]
  },
  {
   "cell_type": "markdown",
   "metadata": {},
   "source": [
    "## 0305（程式題）查詢 `covid19` 資料庫 `calendars` 資料表中最小的日期與最大的日期。\n",
    "\n",
    "```\n",
    "     min_date    max_date\n",
    "0  2020-01-01  2023-12-31\n",
    "```"
   ]
  },
  {
   "cell_type": "code",
   "execution_count": null,
   "metadata": {},
   "outputs": [],
   "source": [
    "answer_0305 =\\\n",
    "\"\"\"\n",
    "\n",
    "\"\"\""
   ]
  },
  {
   "cell_type": "markdown",
   "metadata": {},
   "source": [
    "## 0306（程式題）查詢 `imdb` 資料庫 `movies` 資料表中最短的片長與最長的片長。\n",
    "\n",
    "```\n",
    "   min_runtime  max_runtime\n",
    "0           45          238\n",
    "```"
   ]
  },
  {
   "cell_type": "code",
   "execution_count": null,
   "metadata": {},
   "outputs": [],
   "source": [
    "answer_0306 =\\\n",
    "\"\"\"\n",
    "\n",
    "\"\"\""
   ]
  },
  {
   "cell_type": "markdown",
   "metadata": {},
   "source": [
    "## 0307（程式題）查詢 `imdb` 資料庫 `movies` 資料表中最短片長與最長片長的電影。\n",
    "\n",
    "```\n",
    "                title  runtime\n",
    "0  Gone with the Wind      238\n",
    "1         Sherlock Jr       45\n",
    "```"
   ]
  },
  {
   "cell_type": "code",
   "execution_count": null,
   "metadata": {},
   "outputs": [],
   "source": [
    "answer_0307 =\\\n",
    "\"\"\"\n",
    "\n",
    "\"\"\""
   ]
  },
  {
   "cell_type": "markdown",
   "metadata": {},
   "source": [
    "## 0308（程式題）查詢 `covid19` 資料庫 `accumulative_cases` 資料表中最小的日期與最大的日期。\n",
    "\n",
    "```\n",
    "  min_max_date\n",
    "0   2020-01-22\n",
    "1   2023-03-09\n",
    "```"
   ]
  },
  {
   "cell_type": "code",
   "execution_count": null,
   "metadata": {},
   "outputs": [],
   "source": [
    "answer_0308 =\\\n",
    "\"\"\"\n",
    "\n",
    "\"\"\""
   ]
  },
  {
   "cell_type": "markdown",
   "metadata": {},
   "source": [
    "## 0309（程式題）查詢 `covid19` 資料庫台灣的資料。\n",
    "\n",
    "```\n",
    "     country_name recorded_on  confirmed  deaths\n",
    "0          Taiwan  2020-01-22          1       0\n",
    "1          Taiwan  2020-01-23          1       0\n",
    "2          Taiwan  2020-01-24          3       0\n",
    "3          Taiwan  2020-01-25          3       0\n",
    "4          Taiwan  2020-01-26          4       0\n",
    "...           ...         ...        ...     ...\n",
    "1138       Taiwan  2023-03-05    9970937   17672\n",
    "1139       Taiwan  2023-03-06    9970937   17672\n",
    "1140       Taiwan  2023-03-07    9970937   17672\n",
    "1141       Taiwan  2023-03-08    9970937   17672\n",
    "1142       Taiwan  2023-03-09    9970937   17672\n",
    "\n",
    "[1143 rows x 4 columns]\n",
    "```"
   ]
  },
  {
   "cell_type": "code",
   "execution_count": null,
   "metadata": {},
   "outputs": [],
   "source": [
    "answer_0309 =\\\n",
    "\"\"\"\n",
    "\n",
    "\"\"\""
   ]
  },
  {
   "cell_type": "markdown",
   "metadata": {},
   "source": [
    "## 0310（程式題）查詢 `imdb` 資料庫 Top Gun: Maverick 的演員陣容。\n",
    "\n",
    "```\n",
    "                title  release_year                name  ord\n",
    "0   Top Gun: Maverick          2022          Tom Cruise    1\n",
    "1   Top Gun: Maverick          2022          Val Kilmer    2\n",
    "2   Top Gun: Maverick          2022        Miles Teller    3\n",
    "3   Top Gun: Maverick          2022   Jennifer Connelly    4\n",
    "4   Top Gun: Maverick          2022   Bashir Salahuddin    5\n",
    "..                ...           ...                 ...  ...\n",
    "92  Top Gun: Maverick          2022         John Wilcox   93\n",
    "93  Top Gun: Maverick          2022  Alexandra Williams   94\n",
    "94  Top Gun: Maverick          2022        Skylar Witte   95\n",
    "95  Top Gun: Maverick          2022         Jason Woods   96\n",
    "96  Top Gun: Maverick          2022       Charlotte Xia   97\n",
    "\n",
    "[97 rows x 4 columns]\n",
    "```"
   ]
  },
  {
   "cell_type": "code",
   "execution_count": null,
   "metadata": {},
   "outputs": [],
   "source": [
    "answer_0310 =\\\n",
    "\"\"\"\n",
    "\n",
    "\"\"\""
   ]
  }
 ],
 "metadata": {
  "kernelspec": {
   "display_name": "Python 3 (ipykernel)",
   "language": "python",
   "name": "python3"
  },
  "language_info": {
   "codemirror_mode": {
    "name": "ipython",
    "version": 3
   },
   "file_extension": ".py",
   "mimetype": "text/x-python",
   "name": "python",
   "nbconvert_exporter": "python",
   "pygments_lexer": "ipython3",
   "version": "3.11.4"
  }
 },
 "nbformat": 4,
 "nbformat_minor": 4
}
