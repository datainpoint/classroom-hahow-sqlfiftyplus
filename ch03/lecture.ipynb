{
 "cells": [
  {
   "cell_type": "markdown",
   "id": "faf76940",
   "metadata": {
    "slideshow": {
     "slide_type": "slide"
    }
   },
   "source": [
    "# 進階的 SQL 五十道練習\n",
    "\n",
    "> 快速複習資料查詢語言\n",
    "\n",
    "[數聚點](https://www.datainpoint.com) | 郭耀仁 <yaojenkuo@datainpoint.com>"
   ]
  },
  {
   "cell_type": "code",
   "execution_count": 1,
   "id": "97e2f972",
   "metadata": {
    "slideshow": {
     "slide_type": "skip"
    }
   },
   "outputs": [],
   "source": [
    "%LOAD mysql db=imdb user=root password='hahowsql'"
   ]
  },
  {
   "cell_type": "markdown",
   "id": "93c9ba3f",
   "metadata": {
    "slideshow": {
     "slide_type": "slide"
    }
   },
   "source": [
    "## 從資料表選擇欄位"
   ]
  },
  {
   "cell_type": "markdown",
   "id": "ae1ccd08",
   "metadata": {
    "slideshow": {
     "slide_type": "subslide"
    }
   },
   "source": [
    "## 透過保留字 `SELECT` 與 `FROM`\n",
    "\n",
    "- `SELECT` 是「選擇」欄位。\n",
    "- `FROM` 是指定「從」哪一個資料庫中的哪一個資料表查詢資料。\n",
    "\n",
    "```sql\n",
    "SELECT columns\n",
    "  FROM database.table;\n",
    "```"
   ]
  },
  {
   "cell_type": "code",
   "execution_count": null,
   "id": "33cf6fc4",
   "metadata": {
    "slideshow": {
     "slide_type": "-"
    }
   },
   "outputs": [],
   "source": [
    "SELECT id,\n",
    "       title,\n",
    "       release_year\n",
    "  FROM imdb.movies;"
   ]
  },
  {
   "cell_type": "markdown",
   "id": "9a975820",
   "metadata": {
    "slideshow": {
     "slide_type": "subslide"
    }
   },
   "source": [
    "## 或者指定資料庫後再從資料表選擇欄位\n",
    "\n",
    "```sql\n",
    "USE database;\n",
    "\n",
    "SELECT columns\n",
    "  FROM table;\n",
    "```"
   ]
  },
  {
   "cell_type": "code",
   "execution_count": 3,
   "id": "6da783ab",
   "metadata": {},
   "outputs": [],
   "source": [
    "USE imdb;"
   ]
  },
  {
   "cell_type": "code",
   "execution_count": null,
   "id": "46d58ed8",
   "metadata": {},
   "outputs": [],
   "source": [
    "SELECT id,\n",
    "       title,\n",
    "       release_year\n",
    "  FROM movies;"
   ]
  },
  {
   "cell_type": "markdown",
   "id": "8c40aced",
   "metadata": {
    "slideshow": {
     "slide_type": "slide"
    }
   },
   "source": [
    "## 調整查詢結果顯示列數"
   ]
  },
  {
   "cell_type": "markdown",
   "id": "93425c2d",
   "metadata": {
    "slideshow": {
     "slide_type": "subslide"
    }
   },
   "source": [
    "## 透過保留字 `LIMIT` 與 `OFFSET`\n",
    "\n",
    "- `LIMIT m` 是調整查詢結果僅顯示 `m` 列。\n",
    "- `OFFSET n` 是略過前 `n` 列觀測值。\n",
    "\n",
    "```sql\n",
    "SELECT columns\n",
    "  FROM table\n",
    " LIMIT m\n",
    "OFFSET n\n",
    "``` "
   ]
  },
  {
   "cell_type": "markdown",
   "id": "891cbdb3",
   "metadata": {
    "slideshow": {
     "slide_type": "subslide"
    }
   },
   "source": [
    "## 保留字 `LIMIT` 與 `OFFSET` 的例子\n",
    "\n",
    "- 例如 `LIMIT 5 OFFSET 6` 會顯示第 7 列到第 11 列觀測值。\n",
    "- 例如 `LIMIT 8 OFFSET 9` 會顯示第 10 列到第 17 列觀測值。\n",
    "- 例如 `LIMIT 6 OFFSET 4` 會顯示第 5 列到第 10 列觀測值。"
   ]
  },
  {
   "cell_type": "code",
   "execution_count": 5,
   "id": "a18aef68",
   "metadata": {
    "slideshow": {
     "slide_type": "-"
    }
   },
   "outputs": [
    {
     "data": {
      "text/html": [
       "<table>\n",
       "<tr>\n",
       "<th>id</th>\n",
       "<th>title</th>\n",
       "</tr>\n",
       "<tr>\n",
       "<td>7</td>\n",
       "<td>The Lord of the Rings: The Return of the King</td>\n",
       "</tr>\n",
       "<tr>\n",
       "<td>8</td>\n",
       "<td>Pulp Fiction</td>\n",
       "</tr>\n",
       "<tr>\n",
       "<td>9</td>\n",
       "<td>The Lord of the Rings: The Fellowship of the Ring</td>\n",
       "</tr>\n",
       "<tr>\n",
       "<td>10</td>\n",
       "<td>The Good, the Bad and the Ugly</td>\n",
       "</tr>\n",
       "<tr>\n",
       "<td>11</td>\n",
       "<td>Forrest Gump</td>\n",
       "</tr>\n",
       "</table>\n",
       "5 rows in set (0.00 sec)"
      ],
      "text/plain": [
       "+----+---------------------------------------------------+\n",
       "| id | title                                             |\n",
       "+----+---------------------------------------------------+\n",
       "| 7  | The Lord of the Rings: The Return of the King     |\n",
       "+----+---------------------------------------------------+\n",
       "| 8  | Pulp Fiction                                      |\n",
       "+----+---------------------------------------------------+\n",
       "| 9  | The Lord of the Rings: The Fellowship of the Ring |\n",
       "+----+---------------------------------------------------+\n",
       "| 10 | The Good, the Bad and the Ugly                    |\n",
       "+----+---------------------------------------------------+\n",
       "| 11 | Forrest Gump                                      |\n",
       "+----+---------------------------------------------------+\n",
       "5 rows in set (0.00 sec)"
      ]
     },
     "execution_count": 5,
     "metadata": {},
     "output_type": "execute_result"
    }
   ],
   "source": [
    "SELECT id,\n",
    "       title\n",
    "  FROM movies\n",
    " LIMIT 5\n",
    "OFFSET 6;"
   ]
  },
  {
   "cell_type": "code",
   "execution_count": 6,
   "id": "12e1166d",
   "metadata": {
    "slideshow": {
     "slide_type": "subslide"
    }
   },
   "outputs": [
    {
     "data": {
      "text/html": [
       "<table>\n",
       "<tr>\n",
       "<th>id</th>\n",
       "<th>title</th>\n",
       "</tr>\n",
       "<tr>\n",
       "<td>10</td>\n",
       "<td>The Good, the Bad and the Ugly</td>\n",
       "</tr>\n",
       "<tr>\n",
       "<td>11</td>\n",
       "<td>Forrest Gump</td>\n",
       "</tr>\n",
       "<tr>\n",
       "<td>12</td>\n",
       "<td>Fight Club</td>\n",
       "</tr>\n",
       "<tr>\n",
       "<td>13</td>\n",
       "<td>The Lord of the Rings: The Two Towers</td>\n",
       "</tr>\n",
       "<tr>\n",
       "<td>14</td>\n",
       "<td>Inception</td>\n",
       "</tr>\n",
       "<tr>\n",
       "<td>15</td>\n",
       "<td>Spider-Man: Across the Spider-Verse</td>\n",
       "</tr>\n",
       "<tr>\n",
       "<td>16</td>\n",
       "<td>Star Wars: Episode V - The Empire Strikes Back</td>\n",
       "</tr>\n",
       "<tr>\n",
       "<td>17</td>\n",
       "<td>The Matrix</td>\n",
       "</tr>\n",
       "</table>\n",
       "8 rows in set (0.00 sec)"
      ],
      "text/plain": [
       "+----+------------------------------------------------+\n",
       "| id | title                                          |\n",
       "+----+------------------------------------------------+\n",
       "| 10 | The Good, the Bad and the Ugly                 |\n",
       "+----+------------------------------------------------+\n",
       "| 11 | Forrest Gump                                   |\n",
       "+----+------------------------------------------------+\n",
       "| 12 | Fight Club                                     |\n",
       "+----+------------------------------------------------+\n",
       "| 13 | The Lord of the Rings: The Two Towers          |\n",
       "+----+------------------------------------------------+\n",
       "| 14 | Inception                                      |\n",
       "+----+------------------------------------------------+\n",
       "| 15 | Spider-Man: Across the Spider-Verse            |\n",
       "+----+------------------------------------------------+\n",
       "| 16 | Star Wars: Episode V - The Empire Strikes Back |\n",
       "+----+------------------------------------------------+\n",
       "| 17 | The Matrix                                     |\n",
       "+----+------------------------------------------------+\n",
       "8 rows in set (0.00 sec)"
      ]
     },
     "execution_count": 6,
     "metadata": {},
     "output_type": "execute_result"
    }
   ],
   "source": [
    "SELECT id,\n",
    "       title\n",
    "  FROM movies\n",
    " LIMIT 8\n",
    "OFFSET 9;"
   ]
  },
  {
   "cell_type": "code",
   "execution_count": 7,
   "id": "9164a10a",
   "metadata": {
    "slideshow": {
     "slide_type": "subslide"
    }
   },
   "outputs": [
    {
     "data": {
      "text/html": [
       "<table>\n",
       "<tr>\n",
       "<th>id</th>\n",
       "<th>title</th>\n",
       "</tr>\n",
       "<tr>\n",
       "<td>5</td>\n",
       "<td>12 Angry Men</td>\n",
       "</tr>\n",
       "<tr>\n",
       "<td>6</td>\n",
       "<td>Schindler's List</td>\n",
       "</tr>\n",
       "<tr>\n",
       "<td>7</td>\n",
       "<td>The Lord of the Rings: The Return of the King</td>\n",
       "</tr>\n",
       "<tr>\n",
       "<td>8</td>\n",
       "<td>Pulp Fiction</td>\n",
       "</tr>\n",
       "<tr>\n",
       "<td>9</td>\n",
       "<td>The Lord of the Rings: The Fellowship of the Ring</td>\n",
       "</tr>\n",
       "<tr>\n",
       "<td>10</td>\n",
       "<td>The Good, the Bad and the Ugly</td>\n",
       "</tr>\n",
       "</table>\n",
       "6 rows in set (0.00 sec)"
      ],
      "text/plain": [
       "+----+---------------------------------------------------+\n",
       "| id | title                                             |\n",
       "+----+---------------------------------------------------+\n",
       "| 5  | 12 Angry Men                                      |\n",
       "+----+---------------------------------------------------+\n",
       "| 6  | Schindler's List                                  |\n",
       "+----+---------------------------------------------------+\n",
       "| 7  | The Lord of the Rings: The Return of the King     |\n",
       "+----+---------------------------------------------------+\n",
       "| 8  | Pulp Fiction                                      |\n",
       "+----+---------------------------------------------------+\n",
       "| 9  | The Lord of the Rings: The Fellowship of the Ring |\n",
       "+----+---------------------------------------------------+\n",
       "| 10 | The Good, the Bad and the Ugly                    |\n",
       "+----+---------------------------------------------------+\n",
       "6 rows in set (0.00 sec)"
      ]
     },
     "execution_count": 7,
     "metadata": {},
     "output_type": "execute_result"
    }
   ],
   "source": [
    "SELECT id,\n",
    "       title\n",
    "  FROM movies\n",
    " LIMIT 6\n",
    "OFFSET 4;"
   ]
  },
  {
   "cell_type": "markdown",
   "id": "999df612",
   "metadata": {
    "slideshow": {
     "slide_type": "slide"
    }
   },
   "source": [
    "## 排序查詢結果"
   ]
  },
  {
   "cell_type": "markdown",
   "id": "be1f4203",
   "metadata": {
    "slideshow": {
     "slide_type": "subslide"
    }
   },
   "source": [
    "## 透過保留字 `ORDER BY`\n",
    "\n",
    "- 以指定變數的大小來排序查詢結果。\n",
    "- 預設的排序方式為遞增。\n",
    "- 加上保留字 `DESC` 讓查詢結果遞減排序。\n",
    "\n",
    "```sql\n",
    "SELECT columns\n",
    "  FROM table\n",
    " ORDER BY columns,\n",
    "          columns DESC;\n",
    "```"
   ]
  },
  {
   "cell_type": "code",
   "execution_count": 8,
   "id": "90aa28da",
   "metadata": {},
   "outputs": [
    {
     "data": {
      "text/html": [
       "<table>\n",
       "<tr>\n",
       "<th>title</th>\n",
       "<th>runtime</th>\n",
       "</tr>\n",
       "<tr>\n",
       "<td>Sherlock Jr</td>\n",
       "<td>45</td>\n",
       "</tr>\n",
       "<tr>\n",
       "<td>The Kid</td>\n",
       "<td>68</td>\n",
       "</tr>\n",
       "<tr>\n",
       "<td>The General</td>\n",
       "<td>78</td>\n",
       "</tr>\n",
       "<tr>\n",
       "<td>Before Sunset</td>\n",
       "<td>80</td>\n",
       "</tr>\n",
       "<tr>\n",
       "<td>Toy Story</td>\n",
       "<td>81</td>\n",
       "</tr>\n",
       "</table>\n",
       "5 rows in set (0.00 sec)"
      ],
      "text/plain": [
       "+---------------+---------+\n",
       "| title         | runtime |\n",
       "+---------------+---------+\n",
       "| Sherlock Jr   | 45      |\n",
       "+---------------+---------+\n",
       "| The Kid       | 68      |\n",
       "+---------------+---------+\n",
       "| The General   | 78      |\n",
       "+---------------+---------+\n",
       "| Before Sunset | 80      |\n",
       "+---------------+---------+\n",
       "| Toy Story     | 81      |\n",
       "+---------------+---------+\n",
       "5 rows in set (0.00 sec)"
      ]
     },
     "execution_count": 8,
     "metadata": {},
     "output_type": "execute_result"
    }
   ],
   "source": [
    "SELECT title,\n",
    "       runtime\n",
    "  FROM movies\n",
    " ORDER BY runtime\n",
    " LIMIT 5;"
   ]
  },
  {
   "cell_type": "code",
   "execution_count": 9,
   "id": "480d02ff",
   "metadata": {
    "slideshow": {
     "slide_type": "subslide"
    }
   },
   "outputs": [
    {
     "data": {
      "text/html": [
       "<table>\n",
       "<tr>\n",
       "<th>title</th>\n",
       "<th>runtime</th>\n",
       "</tr>\n",
       "<tr>\n",
       "<td>Gone with the Wind</td>\n",
       "<td>238</td>\n",
       "</tr>\n",
       "<tr>\n",
       "<td>Once Upon a Time in America</td>\n",
       "<td>229</td>\n",
       "</tr>\n",
       "<tr>\n",
       "<td>Lawrence of Arabia</td>\n",
       "<td>218</td>\n",
       "</tr>\n",
       "<tr>\n",
       "<td>Ben-Hur</td>\n",
       "<td>212</td>\n",
       "</tr>\n",
       "<tr>\n",
       "<td>Seven Samurai</td>\n",
       "<td>207</td>\n",
       "</tr>\n",
       "</table>\n",
       "5 rows in set (0.00 sec)"
      ],
      "text/plain": [
       "+-----------------------------+---------+\n",
       "| title                       | runtime |\n",
       "+-----------------------------+---------+\n",
       "| Gone with the Wind          | 238     |\n",
       "+-----------------------------+---------+\n",
       "| Once Upon a Time in America | 229     |\n",
       "+-----------------------------+---------+\n",
       "| Lawrence of Arabia          | 218     |\n",
       "+-----------------------------+---------+\n",
       "| Ben-Hur                     | 212     |\n",
       "+-----------------------------+---------+\n",
       "| Seven Samurai               | 207     |\n",
       "+-----------------------------+---------+\n",
       "5 rows in set (0.00 sec)"
      ]
     },
     "execution_count": 9,
     "metadata": {},
     "output_type": "execute_result"
    }
   ],
   "source": [
    "SELECT title,\n",
    "       runtime\n",
    "  FROM movies\n",
    " ORDER BY runtime DESC\n",
    " LIMIT 5;"
   ]
  },
  {
   "cell_type": "markdown",
   "id": "bb44d78e",
   "metadata": {
    "slideshow": {
     "slide_type": "slide"
    }
   },
   "source": [
    "## 篩選觀測值"
   ]
  },
  {
   "cell_type": "markdown",
   "id": "dec32639",
   "metadata": {
    "slideshow": {
     "slide_type": "subslide"
    }
   },
   "source": [
    "## 透過保留字 `WHERE`\n",
    "\n",
    "以條件（Conditions）作為篩選觀測值的依據。\n",
    "\n",
    "```sql\n",
    "SELECT columns\n",
    "  FROM table\n",
    " WHERE conditions;\n",
    "```"
   ]
  },
  {
   "cell_type": "code",
   "execution_count": 10,
   "id": "71b96c59",
   "metadata": {},
   "outputs": [
    {
     "data": {
      "text/html": [
       "<table>\n",
       "<tr>\n",
       "<th>title</th>\n",
       "<th>rating</th>\n",
       "<th>release_year</th>\n",
       "</tr>\n",
       "<tr>\n",
       "<td>Spider-Man: Across the Spider-Verse</td>\n",
       "<td>8.9</td>\n",
       "<td>2023</td>\n",
       "</tr>\n",
       "<tr>\n",
       "<td>Oppenheimer</td>\n",
       "<td>8.8</td>\n",
       "<td>2023</td>\n",
       "</tr>\n",
       "<tr>\n",
       "<td>Top Gun: Maverick</td>\n",
       "<td>8.3</td>\n",
       "<td>2022</td>\n",
       "</tr>\n",
       "</table>\n",
       "3 rows in set (0.00 sec)"
      ],
      "text/plain": [
       "+-------------------------------------+--------+--------------+\n",
       "| title                               | rating | release_year |\n",
       "+-------------------------------------+--------+--------------+\n",
       "| Spider-Man: Across the Spider-Verse | 8.9    | 2023         |\n",
       "+-------------------------------------+--------+--------------+\n",
       "| Oppenheimer                         | 8.8    | 2023         |\n",
       "+-------------------------------------+--------+--------------+\n",
       "| Top Gun: Maverick                   | 8.3    | 2022         |\n",
       "+-------------------------------------+--------+--------------+\n",
       "3 rows in set (0.00 sec)"
      ]
     },
     "execution_count": 10,
     "metadata": {},
     "output_type": "execute_result"
    }
   ],
   "source": [
    "SELECT title,\n",
    "       rating,\n",
    "       release_year\n",
    "  FROM movies\n",
    " WHERE release_year >= 2022;"
   ]
  },
  {
   "cell_type": "markdown",
   "id": "0357b268",
   "metadata": {
    "slideshow": {
     "slide_type": "slide"
    }
   },
   "source": [
    "## 衍生計算欄位"
   ]
  },
  {
   "cell_type": "markdown",
   "id": "76ef81a2",
   "metadata": {
    "slideshow": {
     "slide_type": "subslide"
    }
   },
   "source": [
    "## 生成衍生計算欄位的三種方式\n",
    "\n",
    "- 透過運算符。\n",
    "- 透過條件邏輯。\n",
    "- 透過函數。"
   ]
  },
  {
   "cell_type": "markdown",
   "id": "991a0e17",
   "metadata": {
    "slideshow": {
     "slide_type": "subslide"
    }
   },
   "source": [
    "## 透過運算符生成衍生計算欄位\n",
    "\n",
    "- 運算符的種類：\n",
    "    - 數值運算符 e.g. `+`。\n",
    "    - 關係運算符 e.g. `=`。\n",
    "    - 邏輯運算符 e.g. `AND`。"
   ]
  },
  {
   "cell_type": "code",
   "execution_count": 11,
   "id": "476072fd",
   "metadata": {},
   "outputs": [
    {
     "data": {
      "text/html": [
       "<table>\n",
       "<tr>\n",
       "<th>title</th>\n",
       "<th>runtime</th>\n",
       "<th>hours</th>\n",
       "<th>minutes</th>\n",
       "</tr>\n",
       "<tr>\n",
       "<td>The Shawshank Redemption</td>\n",
       "<td>142</td>\n",
       "<td>2</td>\n",
       "<td>22</td>\n",
       "</tr>\n",
       "<tr>\n",
       "<td>The Godfather</td>\n",
       "<td>175</td>\n",
       "<td>2</td>\n",
       "<td>55</td>\n",
       "</tr>\n",
       "<tr>\n",
       "<td>The Dark Knight</td>\n",
       "<td>152</td>\n",
       "<td>2</td>\n",
       "<td>32</td>\n",
       "</tr>\n",
       "<tr>\n",
       "<td>The Godfather Part II</td>\n",
       "<td>202</td>\n",
       "<td>3</td>\n",
       "<td>22</td>\n",
       "</tr>\n",
       "<tr>\n",
       "<td>12 Angry Men</td>\n",
       "<td>96</td>\n",
       "<td>1</td>\n",
       "<td>36</td>\n",
       "</tr>\n",
       "</table>\n",
       "5 rows in set (0.00 sec)"
      ],
      "text/plain": [
       "+--------------------------+---------+-------+---------+\n",
       "| title                    | runtime | hours | minutes |\n",
       "+--------------------------+---------+-------+---------+\n",
       "| The Shawshank Redemption | 142     | 2     | 22      |\n",
       "+--------------------------+---------+-------+---------+\n",
       "| The Godfather            | 175     | 2     | 55      |\n",
       "+--------------------------+---------+-------+---------+\n",
       "| The Dark Knight          | 152     | 2     | 32      |\n",
       "+--------------------------+---------+-------+---------+\n",
       "| The Godfather Part II    | 202     | 3     | 22      |\n",
       "+--------------------------+---------+-------+---------+\n",
       "| 12 Angry Men             | 96      | 1     | 36      |\n",
       "+--------------------------+---------+-------+---------+\n",
       "5 rows in set (0.00 sec)"
      ]
     },
     "execution_count": 11,
     "metadata": {},
     "output_type": "execute_result"
    }
   ],
   "source": [
    "SELECT title,\n",
    "       runtime,\n",
    "       runtime DIV 60 AS hours,\n",
    "       runtime % 60 AS minutes\n",
    "  FROM movies\n",
    " LIMIT 5;"
   ]
  },
  {
   "cell_type": "markdown",
   "id": "41cc9381",
   "metadata": {
    "slideshow": {
     "slide_type": "slide"
    }
   },
   "source": [
    "## 條件邏輯"
   ]
  },
  {
   "cell_type": "markdown",
   "id": "9632b9a7",
   "metadata": {
    "slideshow": {
     "slide_type": "subslide"
    }
   },
   "source": [
    "## 透過 `CASE WHEN ... THEN ... ELSE ...` 敘述式\n",
    "\n",
    "```sql\n",
    "SELECT CASE WHEN condition_1 THEN result_1\n",
    "            WHEN condition_2 THEN result_2\n",
    "            ELSE result_3\n",
    "        END AS alias\n",
    "  FROM table;\n",
    "```"
   ]
  },
  {
   "cell_type": "code",
   "execution_count": 12,
   "id": "c7dec9d9",
   "metadata": {},
   "outputs": [
    {
     "data": {
      "text/html": [
       "<table>\n",
       "<tr>\n",
       "<th>title</th>\n",
       "<th>runtime</th>\n",
       "<th>movie_length</th>\n",
       "</tr>\n",
       "<tr>\n",
       "<td>The Shawshank Redemption</td>\n",
       "<td>142</td>\n",
       "<td>Medium</td>\n",
       "</tr>\n",
       "<tr>\n",
       "<td>The Godfather</td>\n",
       "<td>175</td>\n",
       "<td>Medium</td>\n",
       "</tr>\n",
       "<tr>\n",
       "<td>The Dark Knight</td>\n",
       "<td>152</td>\n",
       "<td>Medium</td>\n",
       "</tr>\n",
       "<tr>\n",
       "<td>The Godfather Part II</td>\n",
       "<td>202</td>\n",
       "<td>Long</td>\n",
       "</tr>\n",
       "<tr>\n",
       "<td>12 Angry Men</td>\n",
       "<td>96</td>\n",
       "<td>Medium</td>\n",
       "</tr>\n",
       "</table>\n",
       "5 rows in set (0.00 sec)"
      ],
      "text/plain": [
       "+--------------------------+---------+--------------+\n",
       "| title                    | runtime | movie_length |\n",
       "+--------------------------+---------+--------------+\n",
       "| The Shawshank Redemption | 142     | Medium       |\n",
       "+--------------------------+---------+--------------+\n",
       "| The Godfather            | 175     | Medium       |\n",
       "+--------------------------+---------+--------------+\n",
       "| The Dark Knight          | 152     | Medium       |\n",
       "+--------------------------+---------+--------------+\n",
       "| The Godfather Part II    | 202     | Long         |\n",
       "+--------------------------+---------+--------------+\n",
       "| 12 Angry Men             | 96      | Medium       |\n",
       "+--------------------------+---------+--------------+\n",
       "5 rows in set (0.00 sec)"
      ]
     },
     "execution_count": 12,
     "metadata": {},
     "output_type": "execute_result"
    }
   ],
   "source": [
    "SELECT title,\n",
    "       runtime,\n",
    "       CASE WHEN runtime > 180 THEN 'Long'\n",
    "            WHEN runtime BETWEEN 90 AND 180 THEN 'Medium'\n",
    "            ELSE 'Short'\n",
    "        END AS movie_length\n",
    "  FROM movies\n",
    " LIMIT 5;"
   ]
  },
  {
   "cell_type": "markdown",
   "id": "a9048376",
   "metadata": {
    "slideshow": {
     "slide_type": "slide"
    }
   },
   "source": [
    "## 函數"
   ]
  },
  {
   "cell_type": "markdown",
   "id": "aabda1cf",
   "metadata": {
    "slideshow": {
     "slide_type": "subslide"
    }
   },
   "source": [
    "## 函數的大分類\n",
    "\n",
    "- 通用函數。\n",
    "- 聚合函數。\n",
    "\n",
    "```sql\n",
    "SELECT FUNCTION(columns, parameters) AS alias;\n",
    "```"
   ]
  },
  {
   "cell_type": "code",
   "execution_count": 13,
   "id": "3794ac65",
   "metadata": {
    "slideshow": {
     "slide_type": "subslide"
    }
   },
   "outputs": [
    {
     "data": {
      "text/html": [
       "<table>\n",
       "<tr>\n",
       "<th>title</th>\n",
       "<th>runtime</th>\n",
       "<th>hours</th>\n",
       "<th>minutes</th>\n",
       "</tr>\n",
       "<tr>\n",
       "<td>The Shawshank Redemption</td>\n",
       "<td>142</td>\n",
       "<td>2</td>\n",
       "<td>22</td>\n",
       "</tr>\n",
       "<tr>\n",
       "<td>The Godfather</td>\n",
       "<td>175</td>\n",
       "<td>2</td>\n",
       "<td>55</td>\n",
       "</tr>\n",
       "<tr>\n",
       "<td>The Dark Knight</td>\n",
       "<td>152</td>\n",
       "<td>2</td>\n",
       "<td>32</td>\n",
       "</tr>\n",
       "<tr>\n",
       "<td>The Godfather Part II</td>\n",
       "<td>202</td>\n",
       "<td>3</td>\n",
       "<td>22</td>\n",
       "</tr>\n",
       "<tr>\n",
       "<td>12 Angry Men</td>\n",
       "<td>96</td>\n",
       "<td>1</td>\n",
       "<td>36</td>\n",
       "</tr>\n",
       "</table>\n",
       "5 rows in set (0.00 sec)"
      ],
      "text/plain": [
       "+--------------------------+---------+-------+---------+\n",
       "| title                    | runtime | hours | minutes |\n",
       "+--------------------------+---------+-------+---------+\n",
       "| The Shawshank Redemption | 142     | 2     | 22      |\n",
       "+--------------------------+---------+-------+---------+\n",
       "| The Godfather            | 175     | 2     | 55      |\n",
       "+--------------------------+---------+-------+---------+\n",
       "| The Dark Knight          | 152     | 2     | 32      |\n",
       "+--------------------------+---------+-------+---------+\n",
       "| The Godfather Part II    | 202     | 3     | 22      |\n",
       "+--------------------------+---------+-------+---------+\n",
       "| 12 Angry Men             | 96      | 1     | 36      |\n",
       "+--------------------------+---------+-------+---------+\n",
       "5 rows in set (0.00 sec)"
      ]
     },
     "execution_count": 13,
     "metadata": {},
     "output_type": "execute_result"
    }
   ],
   "source": [
    "SELECT title,\n",
    "       runtime,\n",
    "       FLOOR(runtime / 60) AS hours,\n",
    "       MOD(runtime, 60) AS minutes\n",
    "  FROM movies\n",
    " LIMIT 5;"
   ]
  },
  {
   "cell_type": "code",
   "execution_count": 14,
   "id": "83dd9822",
   "metadata": {
    "slideshow": {
     "slide_type": "subslide"
    }
   },
   "outputs": [
    {
     "data": {
      "text/html": [
       "<table>\n",
       "<tr>\n",
       "<th>avg_runtime</th>\n",
       "</tr>\n",
       "<tr>\n",
       "<td>129.052</td>\n",
       "</tr>\n",
       "</table>\n",
       "1 row in set (0.00 sec)"
      ],
      "text/plain": [
       "+-------------+\n",
       "| avg_runtime |\n",
       "+-------------+\n",
       "| 129.052     |\n",
       "+-------------+\n",
       "1 row in set (0.00 sec)"
      ]
     },
     "execution_count": 14,
     "metadata": {},
     "output_type": "execute_result"
    }
   ],
   "source": [
    "SELECT AVG(runtime) AS avg_runtime\n",
    "  FROM movies;"
   ]
  },
  {
   "cell_type": "markdown",
   "id": "eccaecfc",
   "metadata": {
    "slideshow": {
     "slide_type": "slide"
    }
   },
   "source": [
    "## 分組聚合"
   ]
  },
  {
   "cell_type": "markdown",
   "id": "26b55df4",
   "metadata": {
    "slideshow": {
     "slide_type": "subslide"
    }
   },
   "source": [
    "## 透過 `GROUP BY` 保留字\n",
    "\n",
    "以指定變數的「獨一值」為組別，依據組別作聚合函數的運算。\n",
    "\n",
    "```sql\n",
    "SELECT columns,\n",
    "       AGGREGATE_FUNTION(columns, parameters) AS alias\n",
    "  FROM table\n",
    " GROUP BY columns;\n",
    "```"
   ]
  },
  {
   "cell_type": "code",
   "execution_count": null,
   "id": "d80ea0da",
   "metadata": {},
   "outputs": [],
   "source": [
    "SELECT release_year,\n",
    "       AVG(runtime) AS avg_runtime\n",
    "  FROM movies\n",
    " GROUP BY release_year;"
   ]
  },
  {
   "cell_type": "markdown",
   "id": "205de348",
   "metadata": {
    "slideshow": {
     "slide_type": "subslide"
    }
   },
   "source": [
    "## 加入 `HAVING` 保留字\n",
    "\n",
    "針對聚合函數的運算結果再進行篩選。\n",
    "\n",
    "```sql\n",
    "SELECT columns,\n",
    "       AGGREGATE_FUNTION(columns, parameters) AS alias\n",
    "  FROM table\n",
    " GROUP BY columns\n",
    "HAVING conditions;\n",
    "```"
   ]
  },
  {
   "cell_type": "code",
   "execution_count": 16,
   "id": "b553fed9",
   "metadata": {},
   "outputs": [
    {
     "data": {
      "text/html": [
       "<table>\n",
       "<tr>\n",
       "<th>release_year</th>\n",
       "<th>avg_runtime</th>\n",
       "</tr>\n",
       "<tr>\n",
       "<td>1972</td>\n",
       "<td>175</td>\n",
       "</tr>\n",
       "<tr>\n",
       "<td>1974</td>\n",
       "<td>166</td>\n",
       "</tr>\n",
       "<tr>\n",
       "<td>2002</td>\n",
       "<td>150</td>\n",
       "</tr>\n",
       "<tr>\n",
       "<td>2023</td>\n",
       "<td>160</td>\n",
       "</tr>\n",
       "<tr>\n",
       "<td>1946</td>\n",
       "<td>150</td>\n",
       "</tr>\n",
       "<tr>\n",
       "<td>1962</td>\n",
       "<td>160</td>\n",
       "</tr>\n",
       "<tr>\n",
       "<td>1968</td>\n",
       "<td>157</td>\n",
       "</tr>\n",
       "<tr>\n",
       "<td>1984</td>\n",
       "<td>165.3333</td>\n",
       "</tr>\n",
       "<tr>\n",
       "<td>1963</td>\n",
       "<td>157.5</td>\n",
       "</tr>\n",
       "<tr>\n",
       "<td>1983</td>\n",
       "<td>150.5</td>\n",
       "</tr>\n",
       "<tr>\n",
       "<td>1927</td>\n",
       "<td>153</td>\n",
       "</tr>\n",
       "<tr>\n",
       "<td>1965</td>\n",
       "<td>152</td>\n",
       "</tr>\n",
       "<tr>\n",
       "<td>2021</td>\n",
       "<td>156</td>\n",
       "</tr>\n",
       "<tr>\n",
       "<td>1939</td>\n",
       "<td>156.3333</td>\n",
       "</tr>\n",
       "<tr>\n",
       "<td>1978</td>\n",
       "<td>183</td>\n",
       "</tr>\n",
       "</table>\n",
       "15 rows in set (0.00 sec)"
      ],
      "text/plain": [
       "+--------------+-------------+\n",
       "| release_year | avg_runtime |\n",
       "+--------------+-------------+\n",
       "| 1972         | 175         |\n",
       "+--------------+-------------+\n",
       "| 1974         | 166         |\n",
       "+--------------+-------------+\n",
       "| 2002         | 150         |\n",
       "+--------------+-------------+\n",
       "| 2023         | 160         |\n",
       "+--------------+-------------+\n",
       "| 1946         | 150         |\n",
       "+--------------+-------------+\n",
       "| 1962         | 160         |\n",
       "+--------------+-------------+\n",
       "| 1968         | 157         |\n",
       "+--------------+-------------+\n",
       "| 1984         | 165.3333    |\n",
       "+--------------+-------------+\n",
       "| 1963         | 157.5       |\n",
       "+--------------+-------------+\n",
       "| 1983         | 150.5       |\n",
       "+--------------+-------------+\n",
       "| 1927         | 153         |\n",
       "+--------------+-------------+\n",
       "| 1965         | 152         |\n",
       "+--------------+-------------+\n",
       "| 2021         | 156         |\n",
       "+--------------+-------------+\n",
       "| 1939         | 156.3333    |\n",
       "+--------------+-------------+\n",
       "| 1978         | 183         |\n",
       "+--------------+-------------+\n",
       "15 rows in set (0.00 sec)"
      ]
     },
     "execution_count": 16,
     "metadata": {},
     "output_type": "execute_result"
    }
   ],
   "source": [
    "SELECT release_year,\n",
    "       AVG(runtime) AS avg_runtime\n",
    "  FROM movies\n",
    " GROUP BY release_year\n",
    "HAVING AVG(runtime) >= 150;"
   ]
  },
  {
   "cell_type": "markdown",
   "id": "ee090825",
   "metadata": {
    "slideshow": {
     "slide_type": "slide"
    }
   },
   "source": [
    "## 子查詢"
   ]
  },
  {
   "cell_type": "markdown",
   "id": "3f98d532",
   "metadata": {
    "slideshow": {
     "slide_type": "subslide"
    }
   },
   "source": [
    "## 將敘述的查詢結果回傳給另一段敘述的結構\n",
    "\n",
    "- 子查詢的結果可以作為另一段查詢的\n",
    "    - 條件。\n",
    "    - 計算內容。\n",
    "    - 資料表。"
   ]
  },
  {
   "cell_type": "markdown",
   "id": "03b149f1",
   "metadata": {
    "slideshow": {
     "slide_type": "subslide"
    }
   },
   "source": [
    "## 在 imdb 資料庫中，哪些電影是由 Christopher Nolan 所執導\n",
    "\n",
    "- 查詢一：從 `directors` 資料表查詢 Christopher Nolan 的導演流水編號。\n",
    "- 查詢二：根據查詢一，從 `movies_directors` 資料表查詢電影流水編號。\n",
    "- 查詢三：根據查詢二，從 `movies` 資料表查詢電影名稱。"
   ]
  },
  {
   "cell_type": "code",
   "execution_count": 17,
   "id": "f86be6cf",
   "metadata": {
    "slideshow": {
     "slide_type": "subslide"
    }
   },
   "outputs": [
    {
     "data": {
      "text/html": [
       "<table>\n",
       "<tr>\n",
       "<th>id</th>\n",
       "</tr>\n",
       "<tr>\n",
       "<td>24</td>\n",
       "</tr>\n",
       "</table>\n",
       "1 row in set (0.00 sec)"
      ],
      "text/plain": [
       "+----+\n",
       "| id |\n",
       "+----+\n",
       "| 24 |\n",
       "+----+\n",
       "1 row in set (0.00 sec)"
      ]
     },
     "execution_count": 17,
     "metadata": {},
     "output_type": "execute_result"
    }
   ],
   "source": [
    "SELECT id\n",
    "  FROM directors\n",
    " WHERE name = 'Christopher Nolan';"
   ]
  },
  {
   "cell_type": "code",
   "execution_count": 18,
   "id": "13112ca4",
   "metadata": {
    "slideshow": {
     "slide_type": "subslide"
    }
   },
   "outputs": [
    {
     "data": {
      "text/html": [
       "<table>\n",
       "<tr>\n",
       "<th>movie_id</th>\n",
       "</tr>\n",
       "<tr>\n",
       "<td>3</td>\n",
       "</tr>\n",
       "<tr>\n",
       "<td>14</td>\n",
       "</tr>\n",
       "<tr>\n",
       "<td>23</td>\n",
       "</tr>\n",
       "<tr>\n",
       "<td>25</td>\n",
       "</tr>\n",
       "<tr>\n",
       "<td>43</td>\n",
       "</tr>\n",
       "<tr>\n",
       "<td>56</td>\n",
       "</tr>\n",
       "<tr>\n",
       "<td>70</td>\n",
       "</tr>\n",
       "<tr>\n",
       "<td>129</td>\n",
       "</tr>\n",
       "</table>\n",
       "8 rows in set (0.00 sec)"
      ],
      "text/plain": [
       "+----------+\n",
       "| movie_id |\n",
       "+----------+\n",
       "| 3        |\n",
       "+----------+\n",
       "| 14       |\n",
       "+----------+\n",
       "| 23       |\n",
       "+----------+\n",
       "| 25       |\n",
       "+----------+\n",
       "| 43       |\n",
       "+----------+\n",
       "| 56       |\n",
       "+----------+\n",
       "| 70       |\n",
       "+----------+\n",
       "| 129      |\n",
       "+----------+\n",
       "8 rows in set (0.00 sec)"
      ]
     },
     "execution_count": 18,
     "metadata": {},
     "output_type": "execute_result"
    }
   ],
   "source": [
    "SELECT movie_id\n",
    "  FROM movies_directors\n",
    " WHERE director_id = 24;"
   ]
  },
  {
   "cell_type": "code",
   "execution_count": 19,
   "id": "b302369e",
   "metadata": {
    "slideshow": {
     "slide_type": "subslide"
    }
   },
   "outputs": [
    {
     "data": {
      "text/html": [
       "<table>\n",
       "<tr>\n",
       "<th>title</th>\n",
       "<th>release_year</th>\n",
       "</tr>\n",
       "<tr>\n",
       "<td>Oppenheimer</td>\n",
       "<td>2023</td>\n",
       "</tr>\n",
       "<tr>\n",
       "<td>Interstellar</td>\n",
       "<td>2014</td>\n",
       "</tr>\n",
       "<tr>\n",
       "<td>The Dark Knight Rises</td>\n",
       "<td>2012</td>\n",
       "</tr>\n",
       "<tr>\n",
       "<td>Inception</td>\n",
       "<td>2010</td>\n",
       "</tr>\n",
       "<tr>\n",
       "<td>The Dark Knight</td>\n",
       "<td>2008</td>\n",
       "</tr>\n",
       "<tr>\n",
       "<td>The Prestige</td>\n",
       "<td>2006</td>\n",
       "</tr>\n",
       "<tr>\n",
       "<td>Batman Begins</td>\n",
       "<td>2005</td>\n",
       "</tr>\n",
       "<tr>\n",
       "<td>Memento</td>\n",
       "<td>2000</td>\n",
       "</tr>\n",
       "</table>\n",
       "8 rows in set (0.00 sec)"
      ],
      "text/plain": [
       "+-----------------------+--------------+\n",
       "| title                 | release_year |\n",
       "+-----------------------+--------------+\n",
       "| Oppenheimer           | 2023         |\n",
       "+-----------------------+--------------+\n",
       "| Interstellar          | 2014         |\n",
       "+-----------------------+--------------+\n",
       "| The Dark Knight Rises | 2012         |\n",
       "+-----------------------+--------------+\n",
       "| Inception             | 2010         |\n",
       "+-----------------------+--------------+\n",
       "| The Dark Knight       | 2008         |\n",
       "+-----------------------+--------------+\n",
       "| The Prestige          | 2006         |\n",
       "+-----------------------+--------------+\n",
       "| Batman Begins         | 2005         |\n",
       "+-----------------------+--------------+\n",
       "| Memento               | 2000         |\n",
       "+-----------------------+--------------+\n",
       "8 rows in set (0.00 sec)"
      ]
     },
     "execution_count": 19,
     "metadata": {},
     "output_type": "execute_result"
    }
   ],
   "source": [
    "SELECT title,\n",
    "       release_year\n",
    "  FROM movies\n",
    " WHERE id IN (3, 14, 23, 25, 43, 56, 70, 129)\n",
    " ORDER BY release_year DESC;"
   ]
  },
  {
   "cell_type": "markdown",
   "id": "72a64e5c",
   "metadata": {
    "slideshow": {
     "slide_type": "subslide"
    }
   },
   "source": [
    "## 改寫為子查詢的結構"
   ]
  },
  {
   "cell_type": "code",
   "execution_count": 20,
   "id": "dba7908d",
   "metadata": {},
   "outputs": [
    {
     "data": {
      "text/html": [
       "<table>\n",
       "<tr>\n",
       "<th>title</th>\n",
       "<th>release_year</th>\n",
       "</tr>\n",
       "<tr>\n",
       "<td>Oppenheimer</td>\n",
       "<td>2023</td>\n",
       "</tr>\n",
       "<tr>\n",
       "<td>Interstellar</td>\n",
       "<td>2014</td>\n",
       "</tr>\n",
       "<tr>\n",
       "<td>The Dark Knight Rises</td>\n",
       "<td>2012</td>\n",
       "</tr>\n",
       "<tr>\n",
       "<td>Inception</td>\n",
       "<td>2010</td>\n",
       "</tr>\n",
       "<tr>\n",
       "<td>The Dark Knight</td>\n",
       "<td>2008</td>\n",
       "</tr>\n",
       "<tr>\n",
       "<td>The Prestige</td>\n",
       "<td>2006</td>\n",
       "</tr>\n",
       "<tr>\n",
       "<td>Batman Begins</td>\n",
       "<td>2005</td>\n",
       "</tr>\n",
       "<tr>\n",
       "<td>Memento</td>\n",
       "<td>2000</td>\n",
       "</tr>\n",
       "</table>\n",
       "8 rows in set (0.00 sec)"
      ],
      "text/plain": [
       "+-----------------------+--------------+\n",
       "| title                 | release_year |\n",
       "+-----------------------+--------------+\n",
       "| Oppenheimer           | 2023         |\n",
       "+-----------------------+--------------+\n",
       "| Interstellar          | 2014         |\n",
       "+-----------------------+--------------+\n",
       "| The Dark Knight Rises | 2012         |\n",
       "+-----------------------+--------------+\n",
       "| Inception             | 2010         |\n",
       "+-----------------------+--------------+\n",
       "| The Dark Knight       | 2008         |\n",
       "+-----------------------+--------------+\n",
       "| The Prestige          | 2006         |\n",
       "+-----------------------+--------------+\n",
       "| Batman Begins         | 2005         |\n",
       "+-----------------------+--------------+\n",
       "| Memento               | 2000         |\n",
       "+-----------------------+--------------+\n",
       "8 rows in set (0.00 sec)"
      ]
     },
     "execution_count": 20,
     "metadata": {},
     "output_type": "execute_result"
    }
   ],
   "source": [
    "SELECT title,\n",
    "       release_year\n",
    "  FROM movies\n",
    " WHERE id IN (SELECT movie_id\n",
    "                FROM movies_directors\n",
    "               WHERE director_id = (SELECT id\n",
    "                                      FROM directors\n",
    "                                     WHERE name = 'Christopher Nolan'))\n",
    " ORDER BY release_year DESC;"
   ]
  },
  {
   "cell_type": "markdown",
   "id": "6eade70e",
   "metadata": {
    "slideshow": {
     "slide_type": "slide"
    }
   },
   "source": [
    "## 連接"
   ]
  },
  {
   "cell_type": "markdown",
   "id": "cec51bdf",
   "metadata": {
    "slideshow": {
     "slide_type": "subslide"
    }
   },
   "source": [
    "## 透過保留字 `JOIN` 與 `ON`\n",
    "\n",
    "- `JOIN` 譯作連接、結合或合併。\n",
    "- 將不同資料表的欄位，透過共通的連接鍵（Join key）合併在同一個查詢結果中。\n",
    "- 連接鍵通常會設計為子資料表（Child table）的外鍵（Foreign key）、母資料表（Parent table）的主鍵（Primary key）。\n",
    "- 主鍵通常命名為 `id`；外鍵通常命名為母資料表的單數型接流水編號 `{parent_table_singular}_id`\n",
    "- 透過實體關係圖（ER-Diagram）可以快速掌握連接鍵。"
   ]
  },
  {
   "cell_type": "markdown",
   "id": "dca19bf8",
   "metadata": {
    "slideshow": {
     "slide_type": "subslide"
    }
   },
   "source": [
    "## `imdb` 學習資料庫的實體關係圖\n",
    "\n",
    "![](imdb-erd.png)"
   ]
  },
  {
   "cell_type": "markdown",
   "id": "e3ce544d",
   "metadata": {
    "slideshow": {
     "slide_type": "subslide"
    }
   },
   "source": [
    "## `covid19` 學習資料庫的實體關係圖\n",
    "\n",
    "![](covid19-erd.png)"
   ]
  },
  {
   "cell_type": "markdown",
   "id": "4aea7b68",
   "metadata": {
    "slideshow": {
     "slide_type": "subslide"
    }
   },
   "source": [
    "## MySQL 支援的連接\n",
    "\n",
    "- `JOIN`: 內部連接，保留兩個資料表交集的觀測值。\n",
    "- `LEFT JOIN`: 左外部連接，保留左資料表（寫在 `FROM` 後面）的所有觀測值。\n",
    "- `RIGHT JOIN`: 右外部連接，保留右資料表（寫在 `JOIN` 後面）的所有觀測值。\n",
    "\n",
    "```sql\n",
    "SELECT columns\n",
    "  FROM left_table\n",
    "  JOIN | LEFT JOIN | RIGHT JOIN right_table\n",
    "    ON left_table.join_key = right_table.primary_key\n",
    "```"
   ]
  },
  {
   "cell_type": "code",
   "execution_count": 21,
   "id": "9f552e12",
   "metadata": {
    "slideshow": {
     "slide_type": "subslide"
    }
   },
   "outputs": [
    {
     "data": {
      "text/html": [
       "<table>\n",
       "<tr>\n",
       "<th>title</th>\n",
       "<th>directed_by</th>\n",
       "<th>release_year</th>\n",
       "</tr>\n",
       "<tr>\n",
       "<td>Oppenheimer</td>\n",
       "<td>Christopher Nolan</td>\n",
       "<td>2023</td>\n",
       "</tr>\n",
       "<tr>\n",
       "<td>Interstellar</td>\n",
       "<td>Christopher Nolan</td>\n",
       "<td>2014</td>\n",
       "</tr>\n",
       "<tr>\n",
       "<td>The Dark Knight Rises</td>\n",
       "<td>Christopher Nolan</td>\n",
       "<td>2012</td>\n",
       "</tr>\n",
       "<tr>\n",
       "<td>Inception</td>\n",
       "<td>Christopher Nolan</td>\n",
       "<td>2010</td>\n",
       "</tr>\n",
       "<tr>\n",
       "<td>The Dark Knight</td>\n",
       "<td>Christopher Nolan</td>\n",
       "<td>2008</td>\n",
       "</tr>\n",
       "<tr>\n",
       "<td>The Prestige</td>\n",
       "<td>Christopher Nolan</td>\n",
       "<td>2006</td>\n",
       "</tr>\n",
       "<tr>\n",
       "<td>Batman Begins</td>\n",
       "<td>Christopher Nolan</td>\n",
       "<td>2005</td>\n",
       "</tr>\n",
       "<tr>\n",
       "<td>Memento</td>\n",
       "<td>Christopher Nolan</td>\n",
       "<td>2000</td>\n",
       "</tr>\n",
       "</table>\n",
       "8 rows in set (0.00 sec)"
      ],
      "text/plain": [
       "+-----------------------+-------------------+--------------+\n",
       "| title                 | directed_by       | release_year |\n",
       "+-----------------------+-------------------+--------------+\n",
       "| Oppenheimer           | Christopher Nolan | 2023         |\n",
       "+-----------------------+-------------------+--------------+\n",
       "| Interstellar          | Christopher Nolan | 2014         |\n",
       "+-----------------------+-------------------+--------------+\n",
       "| The Dark Knight Rises | Christopher Nolan | 2012         |\n",
       "+-----------------------+-------------------+--------------+\n",
       "| Inception             | Christopher Nolan | 2010         |\n",
       "+-----------------------+-------------------+--------------+\n",
       "| The Dark Knight       | Christopher Nolan | 2008         |\n",
       "+-----------------------+-------------------+--------------+\n",
       "| The Prestige          | Christopher Nolan | 2006         |\n",
       "+-----------------------+-------------------+--------------+\n",
       "| Batman Begins         | Christopher Nolan | 2005         |\n",
       "+-----------------------+-------------------+--------------+\n",
       "| Memento               | Christopher Nolan | 2000         |\n",
       "+-----------------------+-------------------+--------------+\n",
       "8 rows in set (0.00 sec)"
      ]
     },
     "execution_count": 21,
     "metadata": {},
     "output_type": "execute_result"
    }
   ],
   "source": [
    "SELECT movies.title,\n",
    "       directors.name AS directed_by,\n",
    "       movies.release_year\n",
    "  FROM movies_directors\n",
    "  JOIN movies\n",
    "    ON movies_directors.movie_id = movies.id\n",
    "  JOIN directors\n",
    "    ON movies_directors.director_id = directors.id\n",
    " WHERE directors.name = 'Christopher Nolan'\n",
    " ORDER BY movies.release_year DESC;"
   ]
  },
  {
   "cell_type": "markdown",
   "id": "d993b1a0",
   "metadata": {
    "slideshow": {
     "slide_type": "slide"
    }
   },
   "source": [
    "## 重點統整\n",
    "\n",
    "```sql\n",
    "SELECT DISTINCT columns AS alias,\n",
    "       CASE WHEN condition_1 THEN result_1\n",
    "            WHEN condition_2 THEN result_2\n",
    "            ...\n",
    "            ELSE result_n END AS alias\n",
    "  FROM left_table\n",
    "  JOIN | LEFT JOIN | RIGHT JOIN right_table\n",
    "    ON left_table.join_key = right_table.primary_key\n",
    " WHERE conditions\n",
    " GROUP BY columns\n",
    "HAVING conditions\n",
    " ORDER BY columns DESC\n",
    " LIMIT m\n",
    "OFFSET n;\n",
    "```"
   ]
  }
 ],
 "metadata": {
  "celltoolbar": "Slideshow",
  "kernelspec": {
   "display_name": "xsql",
   "language": "sqlite",
   "name": "xsql"
  },
  "language_info": {
   "codemirror_mode": "sql",
   "file_extension": "",
   "mimetype": "",
   "name": "mysql",
   "version": "0.2.1"
  }
 },
 "nbformat": 4,
 "nbformat_minor": 5
}
