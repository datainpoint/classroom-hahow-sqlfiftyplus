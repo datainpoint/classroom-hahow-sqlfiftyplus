{
 "cells": [
  {
   "cell_type": "markdown",
   "metadata": {},
   "source": [
    "# 進階的 SQL 五十道練習\n",
    "\n",
    "> 資料庫結構與資料表設計\n",
    "\n",
    "[數聚點](https://www.datainpoint.com) | 郭耀仁 <yaojenkuo@datainpoint.com>"
   ]
  },
  {
   "cell_type": "markdown",
   "metadata": {},
   "source": [
    "## 練習題指引\n",
    "\n",
    "- 仔細閱讀題目敘述並且在自己的電腦透過 DBeaver 完成。\n",
    "- 下載批改測試檔案並放置在自己熟悉的目錄（資料夾）之中。\n",
    "    - 批改測試檔案：[ch08-test-db-design.py](https://classroom-hahow-sqlfiftyplus.s3.ap-northeast-1.amazonaws.com/test_scripts/ch08-test-db-design.py)\n",
    "- 執行測試：\n",
    "    - 開啟 Anaconda Prompt（Windows 作業系統）或 Terminal（macOS）\n",
    "    - 啟動專案環境 `conda activate pythonmysql`\n",
    "    - 透過 `cd` 指令移動到放置批改測試檔案的目錄（資料夾）。\n",
    "    - 執行 `python ch08-test-db-design.py root {roots_password}`\n",
    "- 終端機操作的技巧：\n",
    "    - 在終端機畫面中按「向上箭頭」可以叫出先前執行過的指令。\n",
    "    - Windows 作業系統可以使用 `cls` 指令清空 Anaconda Prompt 畫面；macOS 可以使用 `clear` 指令或 `Ctrl - L` 清空 Terminal 畫面。"
   ]
  },
  {
   "cell_type": "markdown",
   "metadata": {},
   "source": [
    "## 0801 依照課程影片指引，在本機的 MySQL Server 建立 `imdb` 資料庫，並匯入執行程式碼所產生的 CSV 檔案作為資料表。\n",
    "\n",
    "1. 下載 [imdbETLProject.zip](https://classroom-hahow-sqlfiftyplus.s3.ap-northeast-1.amazonaws.com/zip_files/imdbETLProject.zip)，解壓縮後作為專案資料夾。\n",
    "2. 開啟終端機/Anaconda Prompt，啟動專案環境 `conda activate pythonmysql`\n",
    "3. 使用 `cd` 指令移動到專案資料夾。\n",
    "4. 執行 `python imdbETL.py`。\n",
    "5. 如果無法成功執行 `imdbETL.py`，可以下載 [imdbETLpyOutput.zip](https://classroom-hahow-sqlfiftyplus.s3.ap-northeast-1.amazonaws.com/zip_files/imdbETLpyOutput.zip) 後解壓縮，取得所需的 CSV 檔案。\n",
    "6. 建立資料庫 `imdb`（若本來有相同命名資料庫要先刪除）並匯入 CSV 檔案。\n",
    "7. 設定主鍵與外鍵。"
   ]
  },
  {
   "cell_type": "markdown",
   "metadata": {},
   "source": [
    "## 0802 依照課程影片指引，在本機的 MySQL Server 建立 `covid19` 資料庫，並匯入執行程式碼所產生的 CSV 檔案作為資料表。\n",
    "\n",
    "1. 下載 [covid19ETLProject.zip](https://classroom-hahow-sqlfiftyplus.s3.ap-northeast-1.amazonaws.com/zip_files/covid19ETLProject.zip)，解壓縮後作為專案資料夾。\n",
    "2. 開啟終端機/Anaconda Prompt，啟動專案環境 `conda activate pythonmysql`\n",
    "3. 使用 `cd` 指令移動到專案資料夾。\n",
    "4. 執行 `python covid19ETL.py`。\n",
    "5. 建立資料庫 `covid19`（若本來有相同命名資料庫要先刪除）並匯入 CSV 檔案。\n",
    "6. 設定主鍵與外鍵。"
   ]
  },
  {
   "cell_type": "markdown",
   "metadata": {},
   "source": [
    "## 0803 依照課程影片指引，在本機的 MySQL Server 建立 `tw_election_2020` 資料庫，並匯入執行程式碼所產生的 CSV 檔案作為資料表。\n",
    "\n",
    "1. 下載 [twElection2020ETLProject.zip](https://classroom-hahow-sqlfiftyplus.s3.ap-northeast-1.amazonaws.com/zip_files/twElection2020ETLProject.zip)，解壓縮後作為專案資料夾。\n",
    "2. 開啟終端機/Anaconda Prompt，啟動專案環境 `conda activate pythonmysql`\n",
    "3. 使用 `cd` 指令移動到專案資料夾。\n",
    "4. 執行 `python twElection2020ETL.py`。\n",
    "5. 建立資料庫 `tw_election_2020`（若本來有相同命名資料庫要先刪除）並匯入 CSV 檔案。\n",
    "6. 設定主鍵與外鍵。"
   ]
  }
 ],
 "metadata": {
  "kernelspec": {
   "display_name": "xsql",
   "language": "sqlite",
   "name": "xsql"
  },
  "language_info": {
   "codemirror_mode": "sql",
   "file_extension": "",
   "mimetype": "",
   "name": "mysql",
   "version": "0.2.1"
  }
 },
 "nbformat": 4,
 "nbformat_minor": 4
}
