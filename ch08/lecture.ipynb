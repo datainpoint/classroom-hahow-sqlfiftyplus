{
 "cells": [
  {
   "cell_type": "markdown",
   "id": "lightweight-fruit",
   "metadata": {
    "slideshow": {
     "slide_type": "slide"
    }
   },
   "source": [
    "# 進階的 SQL 五十道練習\n",
    "\n",
    "> 資料庫結構與資料表設計\n",
    "\n",
    "[數聚點](https://www.datainpoint.com) | 郭耀仁 <yaojenkuo@datainpoint.com>"
   ]
  },
  {
   "cell_type": "markdown",
   "id": "87b410ed",
   "metadata": {
    "slideshow": {
     "slide_type": "slide"
    }
   },
   "source": [
    "## 關聯式與非關聯式資料庫"
   ]
  },
  {
   "cell_type": "markdown",
   "id": "0a6d0a6b",
   "metadata": {
    "slideshow": {
     "slide_type": "subslide"
    }
   },
   "source": [
    "## 資料儲存模式是多元的\n",
    "\n",
    "- **關聯式（Relational model）**\n",
    "- 非關聯式(Not Only SQL, NoSQL)"
   ]
  },
  {
   "cell_type": "markdown",
   "id": "044ad73a",
   "metadata": {
    "slideshow": {
     "slide_type": "subslide"
    }
   },
   "source": [
    "## 關聯式資料庫\n",
    "\n",
    "- 基於「關聯式」資料儲存模式。\n",
    "- 我們可以體會「關聯式」的場景：\n",
    "    - 不同欄位在同一筆觀測值上是有關聯的，例如依據一個欄位的大小排序、依據一個欄位的條件篩選，也會影響到觀測值的順序。\n",
    "    - 不同資料表可以透過子女資料表的連接鍵與父母資料表的主鍵相連接。"
   ]
  },
  {
   "cell_type": "markdown",
   "id": "3eb4af93",
   "metadata": {
    "slideshow": {
     "slide_type": "subslide"
    }
   },
   "source": [
    "## 關聯式資料庫以表格的形式儲存資料\n",
    "\n",
    "|id|title|release_year|\n",
    "|--|:----|------------|\n",
    "|1|The Shawshank Redemption|1994|\n",
    "|2|The Godfather|1972|\n",
    "|3|The Dark Knight|2008|\n",
    "|4|The Godfather Part II|1974|\n",
    "|5|12 Angry Men|1957|"
   ]
  },
  {
   "cell_type": "markdown",
   "id": "2f1dbf66",
   "metadata": {
    "slideshow": {
     "slide_type": "subslide"
    }
   },
   "source": [
    "## 非關聯式資料庫\n",
    "\n",
    "- 網路式（Network model）\n",
    "- 鍵值式（Key-value pair model）\n",
    "- 欄導向式（Column-based model）\n",
    "- 文件式（Document model）"
   ]
  },
  {
   "cell_type": "markdown",
   "id": "18a700e8",
   "metadata": {
    "slideshow": {
     "slide_type": "subslide"
    }
   },
   "source": [
    "## 鍵值式非關聯資料庫以鍵值配對的形式儲存資料\n",
    "\n",
    "```\n",
    "[\n",
    "\t{\"id\" : 1, \"title\" : \"The Shawshank Redemption\", \"release_year\" : 1994},\n",
    "\t{\"id\" : 2, \"title\" : \"The Godfather\", \"release_year\" : 1972},\n",
    "\t{\"id\" : 3, \"title\" : \"The Dark Knight\", \"release_year\" : 2008},\n",
    "\t{\"id\" : 4, \"title\" : \"The Godfather Part II\", \"release_year\" : 1974},\n",
    "\t{\"id\" : 5, \"title\" : \"12 Angry Men\", \"release_year\" : 1957}\n",
    "]\n",
    "```"
   ]
  },
  {
   "cell_type": "markdown",
   "id": "8c0cfb13",
   "metadata": {
    "slideshow": {
     "slide_type": "subslide"
    }
   },
   "source": [
    "## 目前主流且具代表性的資料庫管理系統仍以關聯式為大宗\n",
    "\n",
    "- 開源\n",
    "    - **MySQL**\n",
    "    - MariaDB\n",
    "    - PostgreSQL\n",
    "    - **SQLite**\n",
    "- 商業授權\n",
    "    - Oracle Database\n",
    "    - Microsoft SQL Server\n",
    "    - IBM DB2"
   ]
  },
  {
   "cell_type": "markdown",
   "id": "84ae1159",
   "metadata": {
    "slideshow": {
     "slide_type": "subslide"
    }
   },
   "source": [
    "## 關聯式的優點\n",
    "\n",
    "- 以眾人熟識的「表格」形式儲存。\n",
    "- 可以事先對資料設定儲存規則（包含資料類型、約束），防止不符規定的資料被記錄。\n",
    "- 以多個資料表建立關聯可以避免相同資料分散多處，有效降低資料更新成本。\n",
    "- 資料格式容易保持整潔、有條理的狀態。"
   ]
  },
  {
   "cell_type": "markdown",
   "id": "420a48cf",
   "metadata": {
    "slideshow": {
     "slide_type": "subslide"
    }
   },
   "source": [
    "## 關聯式的缺點\n",
    "\n",
    "- 資料量龐大時處理速度會變得緩慢。\n",
    "- 由於嚴格要求資料的一致性，不容易將資料分散儲存。\n",
    "- 「表格」形式的資料表較難呈現某些類型的資料（例如長度不一、\n",
    "XML、JSON、地理圖資等）。"
   ]
  },
  {
   "cell_type": "markdown",
   "id": "bc95a908",
   "metadata": {
    "slideshow": {
     "slide_type": "slide"
    }
   },
   "source": [
    "## 資料的對應關係"
   ]
  },
  {
   "cell_type": "markdown",
   "id": "64c66f4d",
   "metadata": {
    "slideshow": {
     "slide_type": "subslide"
    }
   },
   "source": [
    "## 資料的對應關係就像是函數的映射關係\n",
    "\n",
    "- 一對一（one-on-one） `1:1`\n",
    "- 一對多（one-on-many） `1:n`\n",
    "- 多對多（many-on-many） `n:m`"
   ]
  },
  {
   "cell_type": "markdown",
   "id": "46313493",
   "metadata": {
    "slideshow": {
     "slide_type": "subslide"
    }
   },
   "source": [
    "## 學習資料庫 `imdb` 的一對一關係\n",
    "\n",
    "- 演員的流水編號（`actors.id`）與其姓名、頁面連結（`actors.name`、`actors.link`）\n",
    "- 導演的流水編號（`directors.id`）與其姓名、頁面連結（`directors.name`、`directors.link`）\n",
    "- 電影的流水編號（`movies.id`）與其名稱、頁面連結（`movies.title`、`movies.link`）\n",
    "- 編劇的流水編號（`writers.id`）與其姓名、頁面連結（`writers.name`、`writers.link`）"
   ]
  },
  {
   "cell_type": "markdown",
   "id": "18375925",
   "metadata": {
    "slideshow": {
     "slide_type": "subslide"
    }
   },
   "source": [
    "## 學習資料庫 `covid19` 的一對多關係\n",
    "\n",
    "`locations` 資料表：一個國家會有多個省份、州別，例如：美國有加州、麻州等；日本有東京都、大阪府等。"
   ]
  },
  {
   "cell_type": "markdown",
   "id": "a733e0f2",
   "metadata": {
    "slideshow": {
     "slide_type": "subslide"
    }
   },
   "source": [
    "## 學習資料庫 `imdb` 的多對多關係\n",
    "\n",
    "- 一位演員出演多部電影、一部電影由多位演員主演。\n",
    "- 一位導演執導多部電影、一部電影由多位導演執導。\n",
    "- 一位編劇撰寫多部電影、一部電影由多位編劇撰寫。"
   ]
  },
  {
   "cell_type": "markdown",
   "id": "4cb13e7d",
   "metadata": {
    "slideshow": {
     "slide_type": "subslide"
    }
   },
   "source": [
    "## 多對多關係\n",
    "\n",
    "- 兩個資料表的多對多關係會加入一個橋接資料表（Bridge table）作為中介，進而將一個「多對多關係」轉換為兩個「一對多關係」。\n",
    "    - 電影與演員的橋接資料表：`movies_actors`\n",
    "    - 電影與導演的橋接資料表：`movies_directors`\n",
    "    - 電影與編劇的橋接資料表：`movies_writers`"
   ]
  },
  {
   "cell_type": "markdown",
   "id": "6a736793",
   "metadata": {
    "slideshow": {
     "slide_type": "slide"
    }
   },
   "source": [
    "## 實體關係圖"
   ]
  },
  {
   "cell_type": "markdown",
   "id": "847d3c15",
   "metadata": {
    "slideshow": {
     "slide_type": "subslide"
    }
   },
   "source": [
    "## 什麼是實體關係圖（Entity Relationship Diagram, ER-Diagram）\n",
    "\n",
    "- 實體關係圖會將關聯式資料庫中每個資料表像清單般展開。\n",
    "- 實體關係圖會標註該資料表中用來區隔「不重複」觀測值的變數，也就是主鍵。\n",
    "- 資料表與資料表之間的連線則描述兩者能夠透過連接鍵關聯，連線兩側的圖示則表示資料的對應關係。"
   ]
  },
  {
   "cell_type": "markdown",
   "id": "32649391",
   "metadata": {
    "slideshow": {
     "slide_type": "subslide"
    }
   },
   "source": [
    "## 學習資料庫 `imdb` 的實體關係圖\n",
    "\n",
    "![](imdb-erd.png)"
   ]
  },
  {
   "cell_type": "markdown",
   "id": "0ce954b0",
   "metadata": {
    "slideshow": {
     "slide_type": "subslide"
    }
   },
   "source": [
    "## 專有名詞的「換句話說」\n",
    "\n",
    "- Schema：資料庫結構。\n",
    "- 關聯（Relation）、實體（Entity）：資料表（Table）\n",
    "- 元組（Tuple）：列（Row）、觀測值（Observation）或記錄（Record）\n",
    "- 屬性（Attribute）：欄（Column）、變數（Variable）、鍵（Key）或欄位（Field）"
   ]
  },
  {
   "cell_type": "markdown",
   "id": "ca342827",
   "metadata": {
    "slideshow": {
     "slide_type": "subslide"
    }
   },
   "source": [
    "## 資料表之間的連線及圖示\n",
    "\n",
    "- 虛線表示資料表為「強關係」，意指父母資料表與子女資料表都有設定主鍵；反之實線表示資料表為「弱關係」，意指父母資料表與子女資料表至少有一者未設定主鍵。\n",
    "- 連線兩側皆為單個接腳表示資料表為一對一關係；連線一側為單個接腳、另一側為「三叉戟」接腳表示資料表為一對多關係。"
   ]
  },
  {
   "cell_type": "markdown",
   "id": "b43b7ec6",
   "metadata": {
    "slideshow": {
     "slide_type": "subslide"
    }
   },
   "source": [
    "## 檢視與匯出實體關係圖：透過 MySQL Workbench\n",
    "\n",
    "- 透過 MySQL Workbench 建立與本機 MySQL Server 的連線。\n",
    "- Database > Reverse Engineer...\n",
    "- 選擇欲檢視與匯出實體關係圖的資料庫。\n",
    "\n",
    "![](reverse_engineer.png)"
   ]
  },
  {
   "cell_type": "markdown",
   "id": "cea63b2b",
   "metadata": {
    "slideshow": {
     "slide_type": "slide"
    }
   },
   "source": [
    "## 正規化"
   ]
  },
  {
   "cell_type": "markdown",
   "id": "fe1272ce",
   "metadata": {
    "slideshow": {
     "slide_type": "subslide"
    }
   },
   "source": [
    "## 什麼是正規化（Normalization）\n",
    "\n",
    "- 將資料調整為易於管理的結構。\n",
    "- 刪除原始資料重複、不乾淨的部份，藉此減少佔用的磁碟空間，增進查詢效率。"
   ]
  },
  {
   "cell_type": "markdown",
   "id": "543f10a2",
   "metadata": {
    "slideshow": {
     "slide_type": "subslide"
    }
   },
   "source": [
    "## 正規化的優點\n",
    "\n",
    "- 減少資料重複的情況、減少佔用的磁碟空間。\n",
    "- 資料的維護更為輕鬆，減少更新範圍與遺漏。\n",
    "- 資料更容易與其他系統搭配應用。"
   ]
  },
  {
   "cell_type": "markdown",
   "id": "8c8c13ee",
   "metadata": {
    "slideshow": {
     "slide_type": "subslide"
    }
   },
   "source": [
    "## 正規化的三個形式\n",
    "\n",
    "1. 第一正規化形式（First Normal Form, 1NF）。\n",
    "2. 第二正規化形式（Second Normal Form, 2NF）。\n",
    "3. 第三正規化形式（Third Normal Form, 3NF）。"
   ]
  },
  {
   "cell_type": "markdown",
   "id": "af1077fe",
   "metadata": {
    "slideshow": {
     "slide_type": "subslide"
    }
   },
   "source": [
    "## 第一正規化形式\n",
    "\n",
    "- 辨識出能夠區隔獨一資料的觀測值屬性，進而設定資料表的主鍵。\n",
    "- 第一正規化形式與 Tidy data 的準則相符：\n",
    "    - 每一列都是獨一的觀測值。\n",
    "    - 每一欄都是獨立的變數。\n",
    "    - 每一個儲存格都是獨立的資料值。\n",
    "    \n",
    "來源：<https://www.jstatsoft.org/article/view/v059i10>"
   ]
  },
  {
   "cell_type": "markdown",
   "id": "184ed8d8",
   "metadata": {
    "slideshow": {
     "slide_type": "subslide"
    }
   },
   "source": [
    "## 第一正規化形式：以學習資料庫 `imdb` 為例\n",
    "\n",
    "- 如何識別獨一的電影：IMDb 網站的個別頁面（`link`），避免電影名稱相同（低可能性）。\n",
    "- 如何識別獨一導演、演員或編劇：IMDb 網站的個別頁面（`link`），避免同名同姓（高可能性）。"
   ]
  },
  {
   "cell_type": "markdown",
   "id": "cccaee29",
   "metadata": {
    "slideshow": {
     "slide_type": "subslide"
    }
   },
   "source": [
    "## 第二正規化形式\n",
    "\n",
    "- 從已經符合第一正規化形式的資料進而調整。\n",
    "- 將資料中不同種類的欄位切割至不同的資料表，進而設定資料表的外鍵。"
   ]
  },
  {
   "cell_type": "markdown",
   "id": "7b369b7b",
   "metadata": {
    "slideshow": {
     "slide_type": "subslide"
    }
   },
   "source": [
    "## 第二正規化形式：以學習資料庫 `imdb` 為例\n",
    "\n",
    "- 將導演、演員、編劇的資料從電影資料切割為其他資料表。\n",
    "- 建立三個橋接資料表，並設定外鍵完成導演、演員、編劇與電影的三個多對多關係。"
   ]
  },
  {
   "cell_type": "markdown",
   "id": "9fb34220",
   "metadata": {
    "slideshow": {
     "slide_type": "subslide"
    }
   },
   "source": [
    "## 第三正規化形式\n",
    "\n",
    "- 從已經符合第二正規化形式的資料進而調整。\n",
    "- 消除欄位之間的遞移相依（Transitive dependency）情況。\n",
    "- 「遞移相依」指的是欄位記錄了可以透過衍生計算欄位所生成的資料。"
   ]
  },
  {
   "cell_type": "markdown",
   "id": "385cff0d",
   "metadata": {
    "slideshow": {
     "slide_type": "subslide"
    }
   },
   "source": [
    "## 第三正規化形式：以學習資料庫 `imdb` 為例\n",
    "\n",
    "- 電影的片長（分鐘數）可以換算成小時數（除以 60），那就不需要再記錄片長為幾個小時。\n",
    "- 電影的上映年份（西元紀年）可以換算成民國紀年（減 1911），那就不需要再記錄民國紀年的上映年份。"
   ]
  },
  {
   "cell_type": "markdown",
   "id": "c59eec71",
   "metadata": {
    "slideshow": {
     "slide_type": "subslide"
    }
   },
   "source": [
    "## 拿捏正規化的程度\n",
    "\n",
    "- 愈高的正規化程度，對資料庫「管理」愈便利，但是對於資料庫「使用」愈麻煩，因為使用者必須透過許多的 `JOIN` 才能取得最終所需的資料。\n",
    "- 實務上以第二或第三正規化形式作為基本要求。\n",
    "    - 1NF: 辨識獨一值，設定主鍵。\n",
    "    - 2NF: 符合 1NF，切割資料表，設定外鍵。\n",
    "    - 3NF: 符合 2NF，去除欄位的遞移相依性。"
   ]
  },
  {
   "cell_type": "markdown",
   "id": "db736b8a",
   "metadata": {
    "slideshow": {
     "slide_type": "slide"
    }
   },
   "source": [
    "## 資料表設計"
   ]
  },
  {
   "cell_type": "markdown",
   "id": "965494d5",
   "metadata": {
    "slideshow": {
     "slide_type": "subslide"
    }
   },
   "source": [
    "## 漸進式思考資料表如何設計\n",
    "\n",
    "1. 概念模式。\n",
    "2. 邏輯模式。\n",
    "3. 實體模式。"
   ]
  },
  {
   "cell_type": "markdown",
   "id": "21cc114c",
   "metadata": {
    "slideshow": {
     "slide_type": "subslide"
    }
   },
   "source": [
    "## 概念模式：以學習資料庫 `imdb` 為例\n",
    "\n",
    "- 將資料表羅列出來。\n",
    "    - 電影。\n",
    "    - 導演。\n",
    "    - 演員。\n",
    "    - 編劇。"
   ]
  },
  {
   "cell_type": "markdown",
   "id": "8255733e",
   "metadata": {
    "slideshow": {
     "slide_type": "subslide"
    }
   },
   "source": [
    "## 邏輯模式：以學習資料庫 `imdb` 為例\n",
    "\n",
    "- 思索資料表的關聯性\n",
    "    - 電影 vs. 導演（多對多）\n",
    "    - 電影 vs. 演員（多對多）\n",
    "    - 電影 vs. 編劇（多對多）"
   ]
  },
  {
   "cell_type": "markdown",
   "id": "70d4f4ea",
   "metadata": {
    "slideshow": {
     "slide_type": "subslide"
    }
   },
   "source": [
    "## 資料表與欄位名稱命名準則\n",
    "\n",
    "- 資料表、欄位名稱僅使用「半形英數字與底線」。\n",
    "- 使用全小寫，第一個字元不使用數字。\n",
    "- 資料表名稱取為複數（Plural）型態。\n",
    "- 使用對外人也簡單易懂的名稱（避免使用縮寫）。\n",
    "- 使用從欄位名稱就能看出所儲存資料命名。\n",
    "- 用來連接父母資料表主鍵的連接鍵命名為「父母資料表名稱單數型態（Singular）\\_id」。"
   ]
  },
  {
   "cell_type": "markdown",
   "id": "8e9f1529",
   "metadata": {
    "slideshow": {
     "slide_type": "subslide"
    }
   },
   "source": [
    "## 資料表與欄位名稱命名準則：以學習資料庫 `imdb` 為例\n",
    "\n",
    "- 主要實體資料表命名：`actors`、`directors`、`movies`、`writers`\n",
    "- 橋接資料表命名：`movies_actors`、`movies_directors`、`movies_writers`\n",
    "- 連接鍵命名：`actor_id`、`director_id`、`movie_id`、`writer_id`"
   ]
  },
  {
   "cell_type": "markdown",
   "id": "debfb537",
   "metadata": {
    "slideshow": {
     "slide_type": "subslide"
    }
   },
   "source": [
    "## 實體模式\n",
    "\n",
    "- 考量儲存的資料以及細節。\n",
    "- 定義資料表、欄位、資料類型與約束，設定主鍵。\n",
    "- 設定外鍵，確認資料表的對應關係。\n",
    "- 繪製實體關係圖。\n",
    "- 匯出資料庫。"
   ]
  },
  {
   "cell_type": "markdown",
   "id": "07f7c0fe",
   "metadata": {
    "slideshow": {
     "slide_type": "slide"
    }
   },
   "source": [
    "## 個案研究：IMDb 資料庫"
   ]
  },
  {
   "cell_type": "markdown",
   "id": "f1c19e49",
   "metadata": {
    "slideshow": {
     "slide_type": "subslide"
    }
   },
   "source": [
    "## IMDb 資料來源\n",
    "\n",
    "- [IMDb Top 250 Movies](https://www.imdb.com/chart/top)\n",
    "- 原始資料格式：HTML\n",
    "- 更新狀態：持續。\n",
    "- 資料期間：課程製作時間點。"
   ]
  },
  {
   "cell_type": "markdown",
   "id": "e229a98d",
   "metadata": {
    "slideshow": {
     "slide_type": "subslide"
    }
   },
   "source": [
    "## 使用 Python 擷取 IMDb 資料來源\n",
    "\n",
    "- 下載 [imdbETLProject.zip](https://classroom-hahow-sqlfiftyplus.s3.ap-northeast-1.amazonaws.com/zip_files/imdbETLProject.zip) 並解壓縮作為一個專案資料夾。\n",
    "- 開啟終端機/Anaconda Prompt 啟動專案環境 `conda activate pythonmysql`\n",
    "- 使用 `cd` 指令移動到專案資料夾。\n",
    "- 執行程式 `python imdbETL.py`"
   ]
  },
  {
   "cell_type": "markdown",
   "id": "6e17c171",
   "metadata": {
    "slideshow": {
     "slide_type": "subslide"
    }
   },
   "source": [
    "## 檢視 `python imdbETL.py` 執行結果\n",
    "\n",
    "- 程式執行完畢後，檢視專案資料夾中是否產出以下檔案：\n",
    "    - SQLite 資料庫檔案：`imdb.db`\n",
    "    - CSV 檔案：`actors.csv`、`directors.csv`、`movies.csv`、`writers.csv`、`movies_actors.csv`、`movies_directors.csv`、`movies_writers.csv`"
   ]
  },
  {
   "cell_type": "markdown",
   "id": "5d04725b",
   "metadata": {
    "slideshow": {
     "slide_type": "subslide"
    }
   },
   "source": [
    "## 使用 DBeaver 匯入 CSV 檔案\n",
    "\n",
    "- 建立 `imdb` 資料庫。\n",
    "- 匯入 CSV 檔案。\n",
    "- 設定主鍵、外鍵等約束。"
   ]
  },
  {
   "cell_type": "markdown",
   "id": "2cc6408e",
   "metadata": {
    "slideshow": {
     "slide_type": "-"
    }
   },
   "source": [
    "```sql\n",
    "CREATE DATABASE imdb CHARACTER SET utf8mb4 COLLATE utf8mb4_unicode_ci;\n",
    "```"
   ]
  },
  {
   "cell_type": "markdown",
   "id": "01031934",
   "metadata": {
    "slideshow": {
     "slide_type": "subslide"
    }
   },
   "source": [
    "```sql\n",
    "-- 設定主鍵\n",
    "ALTER TABLE imdb.actors ADD CONSTRAINT PRIMARY KEY (id);\n",
    "ALTER TABLE imdb.directors ADD CONSTRAINT PRIMARY KEY (id);\n",
    "ALTER TABLE imdb.movies ADD CONSTRAINT PRIMARY KEY (id);\n",
    "ALTER TABLE imdb.writers ADD CONSTRAINT PRIMARY KEY (id);\n",
    "ALTER TABLE imdb.movies_actors ADD CONSTRAINT PRIMARY KEY (id);\n",
    "ALTER TABLE imdb.movies_directors ADD CONSTRAINT PRIMARY KEY (id);\n",
    "ALTER TABLE imdb.movies_writers ADD CONSTRAINT PRIMARY KEY (id);\n",
    "-- 設定主鍵\n",
    "```"
   ]
  },
  {
   "cell_type": "markdown",
   "id": "fcbfc14e",
   "metadata": {
    "slideshow": {
     "slide_type": "subslide"
    }
   },
   "source": [
    "```sql\n",
    "-- 設定外鍵\n",
    "ALTER TABLE imdb.movies_actors\n",
    "    ADD CONSTRAINT fk_movies_actors_actors FOREIGN KEY (actor_id) REFERENCES actors (id),\n",
    "    ADD CONSTRAINT fk_movies_actors_movies FOREIGN KEY (movie_id) REFERENCES movies (id);\n",
    "-- 設定外鍵\n",
    "```"
   ]
  },
  {
   "cell_type": "markdown",
   "id": "04e1977f",
   "metadata": {
    "slideshow": {
     "slide_type": "subslide"
    }
   },
   "source": [
    "```sql\n",
    "-- 設定外鍵\n",
    "ALTER TABLE imdb.movies_directors\n",
    "    ADD CONSTRAINT fk_movies_directors_directors FOREIGN KEY (director_id) REFERENCES directors (id),\n",
    "    ADD CONSTRAINT fk_movies_directors_movies FOREIGN KEY (movie_id) REFERENCES movies (id);\n",
    "-- 設定外鍵\n",
    "```"
   ]
  },
  {
   "cell_type": "markdown",
   "id": "5d779541",
   "metadata": {
    "slideshow": {
     "slide_type": "subslide"
    }
   },
   "source": [
    "```sql\n",
    "-- 設定外鍵\n",
    "ALTER TABLE imdb.movies_writers\n",
    "    ADD CONSTRAINT fk_movies_writers_writers FOREIGN KEY (writer_id) REFERENCES writers (id),\n",
    "    ADD CONSTRAINT fk_movies_writers_movies FOREIGN KEY (movie_id) REFERENCES movies (id);\n",
    "-- 設定外鍵\n",
    "```"
   ]
  },
  {
   "cell_type": "markdown",
   "id": "6d5e9777",
   "metadata": {
    "slideshow": {
     "slide_type": "subslide"
    }
   },
   "source": [
    "## 使用 MySQL Workbench\n",
    "\n",
    "- 繪製實體關係圖。\n",
    "- 匯出資料庫。"
   ]
  },
  {
   "cell_type": "markdown",
   "id": "1428c7ec",
   "metadata": {
    "slideshow": {
     "slide_type": "subslide"
    }
   },
   "source": [
    "## 繼續進行正規化的討論\n",
    "\n",
    "- 電影的上映年份可以切割為另一個實體 `release_years` 由 `release_year_id` 為連接鍵。\n",
    "- 電影的評等可以切割為另一個實體 `ratings` 由 `rating_id` 為連接鍵。"
   ]
  },
  {
   "cell_type": "markdown",
   "id": "5c6a8f01",
   "metadata": {
    "slideshow": {
     "slide_type": "slide"
    }
   },
   "source": [
    "## 個案研究：Covid19 資料庫"
   ]
  },
  {
   "cell_type": "markdown",
   "id": "1274fd01",
   "metadata": {
    "slideshow": {
     "slide_type": "subslide"
    }
   },
   "source": [
    "## Covid19 資料來源\n",
    "\n",
    "- [COVID-19 Data Repository by the Center for Systems Science and Engineering (CSSE) at Johns Hopkins University](https://github.com/CSSEGISandData/COVID-19)\n",
    "- 原始資料格式：CSV\n",
    "- 更新狀態：停止，公開封存。\n",
    "- 資料期間：2020-01-22 ~ 2023-03-09"
   ]
  },
  {
   "cell_type": "markdown",
   "id": "6cb324f4",
   "metadata": {
    "slideshow": {
     "slide_type": "subslide"
    }
   },
   "source": [
    "## Covid19 資料庫：概念模式\n",
    "\n",
    "- 累計個案數。\n",
    "- 日曆。\n",
    "- 地理資訊。"
   ]
  },
  {
   "cell_type": "markdown",
   "id": "d117da5b",
   "metadata": {
    "slideshow": {
     "slide_type": "subslide"
    }
   },
   "source": [
    "## Covid19 資料庫：邏輯模式\n",
    "\n",
    "- 思索資料表的關聯性\n",
    "    - 日曆 vs. 累計個案數（一對多）\n",
    "    - 地理資訊 vs. 累計個案數（一對多）\n",
    "    - 日曆 vs. 地理資訊（多對多）"
   ]
  },
  {
   "cell_type": "markdown",
   "id": "b5bae23c",
   "metadata": {
    "slideshow": {
     "slide_type": "subslide"
    }
   },
   "source": [
    "## Covid19 資料庫：實體模式\n",
    "\n",
    "- 主要實體資料表命名：`calendars`、`locations`\n",
    "- 橋接資料表命名：`accumulative_cases`\n",
    "- 連接鍵命名：`calendar_id`、`location_id`"
   ]
  },
  {
   "cell_type": "markdown",
   "id": "bf4446ee",
   "metadata": {
    "slideshow": {
     "slide_type": "subslide"
    }
   },
   "source": [
    "## 使用 Python 擷取 Covid19 資料來源\n",
    "\n",
    "- 下載 [covid19ETLProject.zip](https://classroom-hahow-sqlfiftyplus.s3.ap-northeast-1.amazonaws.com/zip_files/covid19ETLProject.zip) 並解壓縮作為一個專案資料夾。\n",
    "- 開啟終端機/Anaconda Prompt 啟動專案環境 `conda activate pythonmysql`\n",
    "- 使用 `cd` 指令移動到專案資料夾。\n",
    "- 執行程式 `python covid19ETL.py`"
   ]
  },
  {
   "cell_type": "markdown",
   "id": "de796e15",
   "metadata": {
    "slideshow": {
     "slide_type": "subslide"
    }
   },
   "source": [
    "## 檢視 `python covid19ETL.py` 執行結果\n",
    "\n",
    "- 程式執行完畢後，檢視專案資料夾中是否產出以下檔案：\n",
    "    - SQLite 資料庫檔案：`covid19.db`\n",
    "    - CSV 檔案：`accumulative_cases.csv`、`calendars.csv`、`locations.csv`"
   ]
  },
  {
   "cell_type": "markdown",
   "id": "bb9f801a",
   "metadata": {
    "slideshow": {
     "slide_type": "subslide"
    }
   },
   "source": [
    "## 使用 DBeaver 匯入 CSV 檔案\n",
    "\n",
    "- 建立 `covid19` 資料庫。\n",
    "- 匯入 CSV 檔案。\n",
    "- 設定主鍵、外鍵等約束。"
   ]
  },
  {
   "cell_type": "markdown",
   "id": "82ab4c14",
   "metadata": {
    "slideshow": {
     "slide_type": "-"
    }
   },
   "source": [
    "```sql\n",
    "CREATE DATABASE covid19 CHARACTER SET utf8mb4 COLLATE utf8mb4_unicode_ci;\n",
    "```"
   ]
  },
  {
   "cell_type": "markdown",
   "id": "d9963b45",
   "metadata": {
    "slideshow": {
     "slide_type": "subslide"
    }
   },
   "source": [
    "```sql\n",
    "-- 更新資料\n",
    "UPDATE covid19.locations\n",
    "   SET iso2 = 'NA'\n",
    " WHERE country_name = 'Namibia';\n",
    " UPDATE covid19.locations\n",
    "   SET iso2 = NULL,\n",
    "       iso3 = NULL\n",
    " WHERE iso2 = '' AND\n",
    "       iso3 = '';\n",
    "-- 更新資料\n",
    "```"
   ]
  },
  {
   "cell_type": "markdown",
   "id": "218dc1c4",
   "metadata": {
    "slideshow": {
     "slide_type": "subslide"
    }
   },
   "source": [
    "```sql\n",
    "-- 設定主鍵\n",
    "ALTER TABLE covid19.accumulative_cases ADD CONSTRAINT PRIMARY KEY (id);\n",
    "ALTER TABLE covid19.calendars ADD CONSTRAINT PRIMARY KEY (id);\n",
    "ALTER TABLE covid19.locations ADD CONSTRAINT PRIMARY KEY (id);\n",
    "-- 設定主鍵\n",
    "```"
   ]
  },
  {
   "cell_type": "markdown",
   "id": "3190fe8e",
   "metadata": {
    "slideshow": {
     "slide_type": "-"
    }
   },
   "source": [
    "```sql\n",
    "-- 設定外鍵\n",
    "ALTER TABLE covid19.accumulative_cases\n",
    "    ADD CONSTRAINT fk_accumulative_cases_calendars FOREIGN KEY (calendar_id) REFERENCES calendars (id),\n",
    "    ADD CONSTRAINT fk_accumulative_cases_locations FOREIGN KEY (location_id) REFERENCES locations (id);\n",
    "-- 設定外鍵\n",
    "```"
   ]
  },
  {
   "cell_type": "markdown",
   "id": "3fc07a04",
   "metadata": {
    "slideshow": {
     "slide_type": "subslide"
    }
   },
   "source": [
    "## 使用 MySQL Workbench\n",
    "\n",
    "- 繪製實體關係圖。\n",
    "- 匯出資料庫。"
   ]
  },
  {
   "cell_type": "markdown",
   "id": "ad7fa78a",
   "metadata": {
    "slideshow": {
     "slide_type": "subslide"
    }
   },
   "source": [
    "## 繼續進行正規化的討論\n",
    "\n",
    "- 累計個案數可以切割為 `accumulative_confirmed` 與 `accumulative_deaths`，同樣由 `location_id` 與 `calendar_id` 作為連接鍵。\n",
    "- 地理資訊可以切割為 `country_regions` 與 `province_states`，由 `country_region_id` 與 `province_state_id` 分別為連接鍵。"
   ]
  },
  {
   "cell_type": "markdown",
   "id": "2dcb8998",
   "metadata": {
    "slideshow": {
     "slide_type": "slide"
    }
   },
   "source": [
    "## 個案研究：twElection2020 資料庫"
   ]
  },
  {
   "cell_type": "markdown",
   "id": "a8f54907",
   "metadata": {
    "slideshow": {
     "slide_type": "subslide"
    }
   },
   "source": [
    "## twElection2020 資料來源\n",
    "\n",
    "- [投開票概況資料](https://db.cec.gov.tw/ElecTable)\n",
    "- 原始資料格式：Excel XLSX\n",
    "- 更新狀態：停止，公開封存。\n",
    "- 資料期間：2020-01-11。"
   ]
  },
  {
   "cell_type": "markdown",
   "id": "e8591908",
   "metadata": {
    "slideshow": {
     "slide_type": "subslide"
    }
   },
   "source": [
    "## twElection2020 資料庫：概念模式\n",
    "\n",
    "- 投票所明細。\n",
    "- 行政區。\n",
    "- 候選人。\n",
    "- 政黨。"
   ]
  },
  {
   "cell_type": "markdown",
   "id": "f5f4c893",
   "metadata": {
    "slideshow": {
     "slide_type": "subslide"
    }
   },
   "source": [
    "## twElection2020 資料庫：邏輯模式\n",
    "\n",
    "- 思索資料表的關聯性\n",
    "    - 政黨 vs. 候選人（一對多）\n",
    "    - 投票所 vs. 政黨（多對多）\n",
    "    - 投票所 vs. 候選人（一對多）\n",
    "    - 行政區 vs. 候選人（一對多）\n",
    "    - 行政區 vs. 投票所（多對多）"
   ]
  },
  {
   "cell_type": "markdown",
   "id": "b3cda75f",
   "metadata": {
    "slideshow": {
     "slide_type": "subslide"
    }
   },
   "source": [
    "## twElection2020 資料庫：實體模式\n",
    "\n",
    "- 主要實體資料表命名：`admin_regions`、`candidates`、`parties`\n",
    "- 橋接資料表命名：`presidential`、`legislative_regional`、`legislative_at_large`\n",
    "- 連接鍵命名：`admin_region_id`、`candidate_id`、`party_id`"
   ]
  },
  {
   "cell_type": "markdown",
   "id": "5d04d03f",
   "metadata": {
    "slideshow": {
     "slide_type": "subslide"
    }
   },
   "source": [
    "## 使用 Python 擷取 twElection2020 資料來源\n",
    "\n",
    "- 下載 [twElection2020ETLProject.zip](https://classroom-hahow-sqlfiftyplus.s3.ap-northeast-1.amazonaws.com/zip_files/twElection2020ETLProject.zip) 並解壓縮作為一個專案資料夾。\n",
    "- 開啟終端機/Anaconda Prompt 啟動專案環境 `conda activate pythonmysql`\n",
    "- 使用 `cd` 指令移動到專案資料夾。\n",
    "- 執行程式 `python twElection2020ETL.py`"
   ]
  },
  {
   "cell_type": "markdown",
   "id": "97a5b4eb",
   "metadata": {
    "slideshow": {
     "slide_type": "subslide"
    }
   },
   "source": [
    "## 檢視 `python twElection2020ETL.py` 執行結果\n",
    "\n",
    "- 程式執行完畢後，檢視專案資料夾中是否產出以下檔案：\n",
    "    - SQLite 資料庫檔案：`twElection2020.db`\n",
    "    - CSV 檔案：`admin_regions.csv`、`candidates.csv`、`parties.csv`、`presidential.csv`、`legislative_regional.csv`、`legislative_at_large.csv`"
   ]
  },
  {
   "cell_type": "markdown",
   "id": "909392a6",
   "metadata": {
    "slideshow": {
     "slide_type": "subslide"
    }
   },
   "source": [
    "## 使用 DBeaver 匯入 CSV 檔案\n",
    "\n",
    "- 建立 `tw_election_2020` 資料庫。\n",
    "- 匯入 CSV 檔案。\n",
    "- 設定主鍵、外鍵等約束。"
   ]
  },
  {
   "cell_type": "markdown",
   "id": "6220fcb9",
   "metadata": {
    "slideshow": {
     "slide_type": "-"
    }
   },
   "source": [
    "```sql\n",
    "CREATE DATABASE tw_election_2020 CHARACTER SET utf8mb4 COLLATE utf8mb4_unicode_ci;\n",
    "```"
   ]
  },
  {
   "cell_type": "markdown",
   "id": "8dfc8380",
   "metadata": {
    "slideshow": {
     "slide_type": "subslide"
    }
   },
   "source": [
    "```sql\n",
    "-- 設定主鍵\n",
    "ALTER TABLE tw_election_2020.admin_regions ADD CONSTRAINT PRIMARY KEY (id);\n",
    "ALTER TABLE tw_election_2020.candidates ADD CONSTRAINT PRIMARY KEY (id);\n",
    "ALTER TABLE tw_election_2020.parties ADD CONSTRAINT PRIMARY KEY (id);\n",
    "ALTER TABLE tw_election_2020.presidential ADD CONSTRAINT PRIMARY KEY (id);\n",
    "ALTER TABLE tw_election_2020.legislative_regional ADD CONSTRAINT PRIMARY KEY (id);\n",
    "ALTER TABLE tw_election_2020.legislative_at_large ADD CONSTRAINT PRIMARY KEY (id);\n",
    "-- 設定主鍵\n",
    "```"
   ]
  },
  {
   "cell_type": "markdown",
   "id": "a3ee178b",
   "metadata": {
    "slideshow": {
     "slide_type": "subslide"
    }
   },
   "source": [
    "```sql\n",
    "-- 設定外鍵\n",
    "ALTER TABLE tw_election_2020.candidates\n",
    "    ADD CONSTRAINT fk_candidates_parties FOREIGN KEY (party_id) REFERENCES parties (id);\n",
    "ALTER TABLE tw_election_2020.presidential\n",
    "    ADD CONSTRAINT fk_presidientail_admin_regions FOREIGN KEY (admin_region_id) REFERENCES admin_regions (id),\n",
    "    ADD CONSTRAINT fk_presidientail_candidates FOREIGN KEY (candidate_id) REFERENCES candidates (id);\n",
    "```"
   ]
  },
  {
   "cell_type": "markdown",
   "id": "151c746a",
   "metadata": {
    "slideshow": {
     "slide_type": "subslide"
    }
   },
   "source": [
    "```sql\n",
    "ALTER TABLE tw_election_2020.legislative_regional\n",
    "    ADD CONSTRAINT fk_legislative_regional_admin_regions FOREIGN KEY (admin_region_id) REFERENCES admin_regions (id),\n",
    "    ADD CONSTRAINT fk_legislative_regional_candidates FOREIGN KEY (candidate_id) REFERENCES candidates (id);\n",
    "```"
   ]
  },
  {
   "cell_type": "markdown",
   "id": "f6401acb",
   "metadata": {
    "slideshow": {
     "slide_type": "subslide"
    }
   },
   "source": [
    "```sql\n",
    "ALTER TABLE tw_election_2020.legislative_at_large\n",
    "    ADD CONSTRAINT fk_legislative_at_large_admin_regions FOREIGN KEY (admin_region_id) REFERENCES admin_regions (id),\n",
    "    ADD CONSTRAINT fk_legislative_at_large_parties FOREIGN KEY (party_id) REFERENCES parties (id);\n",
    "-- 設定外鍵\n",
    "```"
   ]
  },
  {
   "cell_type": "markdown",
   "id": "794e1b11",
   "metadata": {
    "slideshow": {
     "slide_type": "subslide"
    }
   },
   "source": [
    "## 使用 MySQL Workbench\n",
    "\n",
    "- 繪製實體關係圖。\n",
    "- 匯出資料庫。"
   ]
  },
  {
   "cell_type": "markdown",
   "id": "72d7b657",
   "metadata": {
    "slideshow": {
     "slide_type": "subslide"
    }
   },
   "source": [
    "## 繼續進行正規化的討論\n",
    "\n",
    "- 候選人參與的選舉種類可以切割為 `election_types` 以 `election_type_id` 作為連接鍵。\n",
    "- 區域立委的選舉區可以切割為 `electoral_districts` 以 `electoral_district_id` 作為連接鍵。\n",
    "- 行政區可以切割為 `counties`、`towns`、`villages`，由 `county_id`、`town_id` 與 `village_id` 分別為連接鍵。"
   ]
  },
  {
   "cell_type": "markdown",
   "id": "46f7bab6",
   "metadata": {
    "slideshow": {
     "slide_type": "slide"
    }
   },
   "source": [
    "## 重點統整\n",
    "\n",
    "- 資料儲存模式是多元的\n",
    "    - 關聯式（Relational model）：以表格形式儲存資料。\n",
    "    - 非關聯式(Not Only SQL, NoSQL)\n",
    "        - 網路式（Network model）\n",
    "        - 鍵值式（Key-value pair model）\n",
    "        - 欄導向式（Column-based model）\n",
    "        - 文件式（Document model）"
   ]
  },
  {
   "cell_type": "markdown",
   "id": "d5c8628a",
   "metadata": {
    "slideshow": {
     "slide_type": "subslide"
    }
   },
   "source": [
    "## 重點統整（續）\n",
    "\n",
    "- 資料的對應關係就像是函數的映射關係\n",
    "    - 一對一（one-on-one） `1:1`\n",
    "    - 一對多（one-on-many） `1:n`\n",
    "    - 多對多（many-on-many） `n:m`，多對多關係會以橋接資料表合成兩個一對多關係。\n",
    "- 正規化的優點\n",
    "    - 減少資料重複的情況、減少佔用的磁碟空間。\n",
    "    - 資料的維護更為輕鬆，減少更新範圍與遺漏。\n",
    "    - 資料更容易與其他系統搭配應用。"
   ]
  },
  {
   "cell_type": "markdown",
   "id": "03ab154f",
   "metadata": {
    "slideshow": {
     "slide_type": "subslide"
    }
   },
   "source": [
    "## 重點統整（續）\n",
    "\n",
    "- 漸進式思考資料表如何設計\n",
    "    - 概念模式。\n",
    "    - 邏輯模式。\n",
    "    - 實體模式。\n",
    "- 在實體模式完成資料表設計\n",
    "    - 考量儲存的資料以及細節。\n",
    "    - 定義資料表、欄位、資料類型與約束，設定主鍵。\n",
    "    - 設定外鍵，確認資料表的對應關係。\n",
    "    - 繪製實體關係圖。\n",
    "    - 匯出資料庫。"
   ]
  }
 ],
 "metadata": {
  "celltoolbar": "Slideshow",
  "kernelspec": {
   "display_name": "Python 3 (ipykernel)",
   "language": "python",
   "name": "python3"
  },
  "language_info": {
   "codemirror_mode": {
    "name": "ipython",
    "version": 3
   },
   "file_extension": ".py",
   "mimetype": "text/x-python",
   "name": "python",
   "nbconvert_exporter": "python",
   "pygments_lexer": "ipython3",
   "version": "3.11.4"
  }
 },
 "nbformat": 4,
 "nbformat_minor": 5
}
