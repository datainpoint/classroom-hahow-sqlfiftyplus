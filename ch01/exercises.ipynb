{
 "cells": [
  {
   "cell_type": "markdown",
   "metadata": {},
   "source": [
    "# 進階的 SQL 五十道練習\n",
    "\n",
    "> 快速複習重要的 SQL 與資料庫觀念\n",
    "\n",
    "[數聚點](https://www.datainpoint.com) | 郭耀仁 <yaojenkuo@datainpoint.com>"
   ]
  },
  {
   "cell_type": "code",
   "execution_count": null,
   "metadata": {},
   "outputs": [],
   "source": [
    "import unittest"
   ]
  },
  {
   "cell_type": "markdown",
   "metadata": {},
   "source": [
    "## 練習題指引\n",
    "\n",
    "- 是非題：覺得敘述**不正確**，就將 `None` 改寫為 `False`，覺得敘述**正確**，就將 `None` 改寫為 `True`\n",
    "- 單選題：覺得第一個選項**正確**，就將 `None` 改寫為 `1`，覺得第二個選項**正確**，就將 `None` 改寫為 `2`，覺得第三個選項**正確**，就將 `None` 改寫 `3`，覺得第四個選項**正確**，就將 `None` 改寫 `4`\n",
    "- 程式題：\n",
    "    - 在 SQL 語法起點與 SQL 語法終點這兩個單行註解之間撰寫能夠得到預期結果的 SQL。\n",
    "    - 可以先在自己電腦的 DBeaver 寫出跟預期結果相同的 SQL 後再複製貼上到練習題。\n",
    "- 執行測試的方式為點選右上角 Connect，然後點選上方選單的 Runtime -> Restart and run all -> Yes -> Run anyway。\n",
    "- 移動到 Google Colab 的最後一個儲存格看測試結果。\n",
    "- 可以每寫一題就執行測試，也可以全部寫完再執行測試。"
   ]
  },
  {
   "cell_type": "markdown",
   "metadata": {},
   "source": [
    "## 0101（是非題）SQL 是 Structured Query Language 的縮寫，所以這個語言僅能查詢資料庫中的資料。"
   ]
  },
  {
   "cell_type": "code",
   "execution_count": null,
   "metadata": {},
   "outputs": [],
   "source": [
    "answer_0101 = None"
   ]
  },
  {
   "cell_type": "markdown",
   "metadata": {},
   "source": [
    "## 0102（是非題）只要會寫 SQL，不需要資料庫管理系統的媒介就可以與資料庫進行互動。"
   ]
  },
  {
   "cell_type": "code",
   "execution_count": null,
   "metadata": {},
   "outputs": [],
   "source": [
    "answer_0102 = None"
   ]
  },
  {
   "cell_type": "markdown",
   "metadata": {},
   "source": [
    "## 0103（單選題）下列何者不是 SQL 敘述的組成元素？\n",
    "\n",
    "1. 保留字。\n",
    "2. 函數。\n",
    "3. 結構體（struct）。\n",
    "4. 符號。"
   ]
  },
  {
   "cell_type": "code",
   "execution_count": null,
   "metadata": {},
   "outputs": [],
   "source": [
    "answer_0103 = None"
   ]
  },
  {
   "cell_type": "markdown",
   "metadata": {},
   "source": [
    "## 0104（單選題）下列何者不屬於 SQL 的分類？\n",
    "\n",
    "1. 資料操作語言。\n",
    "2. 資料變異語言。\n",
    "3. 資料定義語言。\n",
    "4. 資料控制語言。"
   ]
  },
  {
   "cell_type": "code",
   "execution_count": null,
   "metadata": {},
   "outputs": [],
   "source": [
    "answer_0104 = None"
   ]
  },
  {
   "cell_type": "markdown",
   "metadata": {},
   "source": [
    "## 0105（單選題）下列關於 MySQL 的敘述何者正確？\n",
    "\n",
    "1. 是屬於微軟（Microsoft）的商業授權關聯式資料庫管理系統。\n",
    "2. 屬於非關聯式資料庫管理系統（NoSQL）的一種。\n",
    "3. 不支援我們在初階課程「SQL 的五十道練習」所習得的 SQL 語法。\n",
    "4. 開放原始碼的關聯式資料庫管理系統。"
   ]
  },
  {
   "cell_type": "code",
   "execution_count": null,
   "metadata": {},
   "outputs": [],
   "source": [
    "answer_0105 = None"
   ]
  },
  {
   "cell_type": "markdown",
   "metadata": {},
   "source": [
    "## 執行測試！\n",
    "\n",
    "點選右上角 Connect，然後點選上方選單的 Runtime -> Restart and run all -> Yes -> Run anyway。"
   ]
  },
  {
   "cell_type": "code",
   "execution_count": null,
   "metadata": {},
   "outputs": [],
   "source": [
    "class TestChapter01(unittest.TestCase):\n",
    "    def test_0101(self):\n",
    "        self.assertEqual(answer_0101, False)\n",
    "    def test_0102(self):\n",
    "        self.assertEqual(answer_0102, False)\n",
    "    def test_0103(self):\n",
    "        self.assertEqual(answer_0103, 3)\n",
    "    def test_0104(self):\n",
    "        self.assertEqual(answer_0104, 2)\n",
    "    def test_0105(self):\n",
    "        self.assertEqual(answer_0105, 4)\n",
    "\n",
    "suite = unittest.TestLoader().loadTestsFromTestCase(TestChapter01)\n",
    "runner = unittest.TextTestRunner(verbosity=2)\n",
    "test_results = runner.run(suite)\n",
    "number_of_failures = len(test_results.failures)\n",
    "number_of_errors = len(test_results.errors)\n",
    "number_of_test_runs = test_results.testsRun\n",
    "number_of_successes = number_of_test_runs - (number_of_failures + number_of_errors)\n",
    "chapter_index = 1\n",
    "chapter_name = \"快速複習重要的 SQL 與資料庫觀念\""
   ]
  },
  {
   "cell_type": "code",
   "execution_count": null,
   "metadata": {},
   "outputs": [],
   "source": [
    "print(f\"您在第 {chapter_index:02} 章「{chapter_name}」的 {number_of_test_runs} 道練習答對了 {number_of_successes} 題。\")"
   ]
  }
 ],
 "metadata": {
  "kernelspec": {
   "display_name": "Python 3 (ipykernel)",
   "language": "python",
   "name": "python3"
  },
  "language_info": {
   "codemirror_mode": {
    "name": "ipython",
    "version": 3
   },
   "file_extension": ".py",
   "mimetype": "text/x-python",
   "name": "python",
   "nbconvert_exporter": "python",
   "pygments_lexer": "ipython3",
   "version": "3.10.6"
  }
 },
 "nbformat": 4,
 "nbformat_minor": 4
}
