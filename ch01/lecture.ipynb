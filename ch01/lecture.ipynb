{
 "cells": [
  {
   "cell_type": "markdown",
   "id": "lightweight-fruit",
   "metadata": {
    "slideshow": {
     "slide_type": "slide"
    }
   },
   "source": [
    "# 進階的 SQL 五十道練習\n",
    "\n",
    "> 快速複習重要的 SQL 與資料庫觀念\n",
    "\n",
    "[數聚點](https://www.datainpoint.com) | 郭耀仁 <yaojenkuo@datainpoint.com>"
   ]
  },
  {
   "cell_type": "code",
   "execution_count": 1,
   "id": "ab0651b7",
   "metadata": {
    "slideshow": {
     "slide_type": "skip"
    }
   },
   "outputs": [],
   "source": [
    "%LOAD mysql db=imdb user=root password=1qaz2wsx"
   ]
  },
  {
   "cell_type": "markdown",
   "id": "bf08e4f5",
   "metadata": {
    "slideshow": {
     "slide_type": "slide"
    }
   },
   "source": [
    "## SQL 重要觀念複習"
   ]
  },
  {
   "cell_type": "markdown",
   "id": "3487a4ff",
   "metadata": {
    "slideshow": {
     "slide_type": "subslide"
    }
   },
   "source": [
    "## 什麼是 SQL\n",
    "\n",
    "- SQL 是 Structured Query Language 的縮寫，是一個專門針對關聯式資料庫中所儲存的資料互動（包含查詢、定義、操作與控制）的語言。\n",
    "- SQL 在 1970 年代由國際商業機器公司（IBM）創造，剛開發出來時候僅只是為了更有效率地「查詢」儲存於關聯式資料庫中的資料，但是到了現代，除了查詢以外像是資料的建立、更新與刪除，也都能靠著 SQL 來完成。"
   ]
  },
  {
   "cell_type": "markdown",
   "id": "2285e11f",
   "metadata": {
    "slideshow": {
     "slide_type": "subslide"
    }
   },
   "source": [
    "## SQL 的組成\n",
    "\n",
    "- SQL 是由保留字（Keyword）、物件名稱、函數、符號與常數所組合而成的一種語言。\n",
    "- 以下列這段 SQL 為例：\n",
    "    - 保留字：`SELECT`, `AS`, `FROM`, `WHERE`, `LIMIT`\n",
    "    - 物件名稱：runtime, movies\n",
    "    - 函數：`CEILING()`\n",
    "    - 符號：`/`, `%`, `>`\n",
    "    - 常數：60, 120, 5"
   ]
  },
  {
   "cell_type": "code",
   "execution_count": 2,
   "id": "2ddc4689",
   "metadata": {},
   "outputs": [
    {
     "data": {
      "text/html": [
       "<table>\n",
       "<tr>\n",
       "<th>runtime</th>\n",
       "<th>hours</th>\n",
       "<th>minutes</th>\n",
       "</tr>\n",
       "<tr>\n",
       "<td>142</td>\n",
       "<td>3</td>\n",
       "<td>22</td>\n",
       "</tr>\n",
       "<tr>\n",
       "<td>175</td>\n",
       "<td>3</td>\n",
       "<td>55</td>\n",
       "</tr>\n",
       "<tr>\n",
       "<td>152</td>\n",
       "<td>3</td>\n",
       "<td>32</td>\n",
       "</tr>\n",
       "<tr>\n",
       "<td>202</td>\n",
       "<td>4</td>\n",
       "<td>22</td>\n",
       "</tr>\n",
       "<tr>\n",
       "<td>195</td>\n",
       "<td>4</td>\n",
       "<td>15</td>\n",
       "</tr>\n",
       "</table>\n",
       "5 rows in set (0.01 sec)"
      ],
      "text/plain": [
       "+---------+-------+---------+\n",
       "| runtime | hours | minutes |\n",
       "+---------+-------+---------+\n",
       "| 142     | 3     | 22      |\n",
       "+---------+-------+---------+\n",
       "| 175     | 3     | 55      |\n",
       "+---------+-------+---------+\n",
       "| 152     | 3     | 32      |\n",
       "+---------+-------+---------+\n",
       "| 202     | 4     | 22      |\n",
       "+---------+-------+---------+\n",
       "| 195     | 4     | 15      |\n",
       "+---------+-------+---------+\n",
       "5 rows in set (0.01 sec)"
      ]
     },
     "execution_count": 2,
     "metadata": {},
     "output_type": "execute_result"
    }
   ],
   "source": [
    "SELECT runtime,\n",
    "       CEILING(runtime / 60) AS hours,\n",
    "       runtime % 60 AS minutes\n",
    "  FROM movies\n",
    " WHERE runtime > 120\n",
    " LIMIT 5;"
   ]
  },
  {
   "cell_type": "markdown",
   "id": "0785251d",
   "metadata": {
    "slideshow": {
     "slide_type": "subslide"
    }
   },
   "source": [
    "## SQL 的分類\n",
    "\n",
    "依照使用目的進而區別 SQL 的分類：\n",
    "\n",
    "|SQL 的分類|範例|\n",
    "|:---------|:----|\n",
    "|資料查詢語言（Data Query Language, DQL）|`SELECT ...`|\n",
    "|資料定義語言（Data Definition Language, DDL）|`CREATE ...`|\n",
    "|資料操作語言（Data Manipulation Language, DML）|`UPDATE ...`|\n",
    "|資料控制語言（Data Control Language, DCL）|`GRANT ...`|\n",
    "|交易控制語言（Transaction Control Language, TCL）|`COMMIT ...`|"
   ]
  },
  {
   "cell_type": "markdown",
   "id": "11433a3d",
   "metadata": {
    "slideshow": {
     "slide_type": "subslide"
    }
   },
   "source": [
    "## SQL 的分類（續）\n",
    "\n",
    "- 在初階課程「SQL 的五十道練習」中我們專注在資料查詢語言的部分；這堂進階課程會完整帶學員們認識其他的 SQL 語言。\n",
    "- 實務上，資料查詢語言是被分類在資料操作語言之下的一個分支。\n",
    "    - 資料定義語言（Data Definition Language, DDL）\n",
    "    - 資料操作語言（Data Manipulation Language, DML）\n",
    "        - 資料查詢語言（Data Query Language, DQL）\n",
    "    - 資料控制語言（Data Control Language, DCL）\n",
    "    - 交易控制語言（Transaction Control Language, TCL）"
   ]
  },
  {
   "cell_type": "markdown",
   "id": "06f6f0ee",
   "metadata": {
    "slideshow": {
     "slide_type": "slide"
    }
   },
   "source": [
    "## 重要的資料庫觀念"
   ]
  },
  {
   "cell_type": "markdown",
   "id": "7337ce4c",
   "metadata": {
    "slideshow": {
     "slide_type": "subslide"
    }
   },
   "source": [
    "## 什麼是資料庫\n",
    "\n",
    "資料庫是一種特定、經過加工的資料集合，能夠放置在伺服器、個人電腦、手機或者微型電腦（例如：樹莓派）之中。"
   ]
  },
  {
   "cell_type": "markdown",
   "id": "882108eb",
   "metadata": {
    "slideshow": {
     "slide_type": "subslide"
    }
   },
   "source": [
    "## 什麼是關聯式\n",
    "\n",
    "- 關聯式為描述資料庫中的資料集合是以列（Rows）與欄（Columns）所組成的二維表格形式記錄，並且遵守關聯式模型準則設計，這樣的資料庫就被稱為關聯式資料庫。\n",
    "- 有時列也有其他別名，像是紀錄（Records）、觀測值（Observations）、元組（Tuples）等；欄的其他別名則有欄位（Fields）、變數（Variables）、屬性（Attributes）等。"
   ]
  },
  {
   "cell_type": "markdown",
   "id": "e7e3a765",
   "metadata": {
    "slideshow": {
     "slide_type": "subslide"
    }
   },
   "source": [
    "## 什麼是關聯式（續）\n",
    "\n",
    "關聯式模型體現在兩個層面：\n",
    "\n",
    "1. 觀測值與欄位所記錄的資料是相關且連動的。\n",
    "2. 資料表之間能以連接鍵（Join key）與主鍵（Primary key）相連接。"
   ]
  },
  {
   "cell_type": "markdown",
   "id": "00e302b2",
   "metadata": {
    "slideshow": {
     "slide_type": "subslide"
    }
   },
   "source": [
    "## 觀測值與欄位所記錄的資料是相關且連動的\n",
    "\n",
    "透過排序（`ORDER BY`）可以觀察到資料是相關且連動的。"
   ]
  },
  {
   "cell_type": "code",
   "execution_count": 3,
   "id": "c9cd983b",
   "metadata": {},
   "outputs": [
    {
     "data": {
      "text/html": [
       "<table>\n",
       "<tr>\n",
       "<th>title</th>\n",
       "<th>runtime</th>\n",
       "</tr>\n",
       "<tr>\n",
       "<td>Sherlock Jr</td>\n",
       "<td>45</td>\n",
       "</tr>\n",
       "<tr>\n",
       "<td>The Kid</td>\n",
       "<td>68</td>\n",
       "</tr>\n",
       "<tr>\n",
       "<td>The General</td>\n",
       "<td>78</td>\n",
       "</tr>\n",
       "<tr>\n",
       "<td>Before Sunset</td>\n",
       "<td>80</td>\n",
       "</tr>\n",
       "<tr>\n",
       "<td>Toy Story</td>\n",
       "<td>81</td>\n",
       "</tr>\n",
       "</table>\n",
       "5 rows in set (0.00 sec)"
      ],
      "text/plain": [
       "+---------------+---------+\n",
       "| title         | runtime |\n",
       "+---------------+---------+\n",
       "| Sherlock Jr   | 45      |\n",
       "+---------------+---------+\n",
       "| The Kid       | 68      |\n",
       "+---------------+---------+\n",
       "| The General   | 78      |\n",
       "+---------------+---------+\n",
       "| Before Sunset | 80      |\n",
       "+---------------+---------+\n",
       "| Toy Story     | 81      |\n",
       "+---------------+---------+\n",
       "5 rows in set (0.00 sec)"
      ]
     },
     "execution_count": 3,
     "metadata": {},
     "output_type": "execute_result"
    }
   ],
   "source": [
    "SELECT title,\n",
    "       runtime\n",
    "  FROM movies\n",
    " ORDER BY runtime\n",
    " LIMIT 5;"
   ]
  },
  {
   "cell_type": "markdown",
   "id": "e8a9629e",
   "metadata": {
    "slideshow": {
     "slide_type": "subslide"
    }
   },
   "source": [
    "## 資料表之間能以連接鍵（Join key）與主鍵（Primary key）相連接\n",
    "\n",
    "- `movies_writers` 與 `movies` 相連接。\n",
    "- `movies_writers.movie_id` 作為連接鍵；`movies.id` 作為主鍵。"
   ]
  },
  {
   "cell_type": "code",
   "execution_count": 4,
   "id": "c2126db3",
   "metadata": {},
   "outputs": [
    {
     "data": {
      "text/html": [
       "<table>\n",
       "<tr>\n",
       "<th>title</th>\n",
       "<th>writer_id</th>\n",
       "</tr>\n",
       "<tr>\n",
       "<td>The Shawshank Redemption</td>\n",
       "<td>172</td>\n",
       "</tr>\n",
       "<tr>\n",
       "<td>The Shawshank Redemption</td>\n",
       "<td>514</td>\n",
       "</tr>\n",
       "<tr>\n",
       "<td>The Godfather</td>\n",
       "<td>165</td>\n",
       "</tr>\n",
       "<tr>\n",
       "<td>The Godfather</td>\n",
       "<td>368</td>\n",
       "</tr>\n",
       "<tr>\n",
       "<td>The Godfather</td>\n",
       "<td>368</td>\n",
       "</tr>\n",
       "<tr>\n",
       "<td>The Dark Knight</td>\n",
       "<td>52</td>\n",
       "</tr>\n",
       "<tr>\n",
       "<td>The Dark Knight</td>\n",
       "<td>88</td>\n",
       "</tr>\n",
       "<tr>\n",
       "<td>The Dark Knight</td>\n",
       "<td>88</td>\n",
       "</tr>\n",
       "<tr>\n",
       "<td>The Dark Knight</td>\n",
       "<td>121</td>\n",
       "</tr>\n",
       "<tr>\n",
       "<td>The Dark Knight</td>\n",
       "<td>298</td>\n",
       "</tr>\n",
       "<tr>\n",
       "<td>The Godfather Part II</td>\n",
       "<td>165</td>\n",
       "</tr>\n",
       "<tr>\n",
       "<td>The Godfather Part II</td>\n",
       "<td>368</td>\n",
       "</tr>\n",
       "<tr>\n",
       "<td>The Godfather Part II</td>\n",
       "<td>368</td>\n",
       "</tr>\n",
       "<tr>\n",
       "<td>12 Angry Men</td>\n",
       "<td>460</td>\n",
       "</tr>\n",
       "<tr>\n",
       "<td>12 Angry Men</td>\n",
       "<td>460</td>\n",
       "</tr>\n",
       "</table>\n",
       "15 rows in set (0.00 sec)"
      ],
      "text/plain": [
       "+--------------------------+-----------+\n",
       "| title                    | writer_id |\n",
       "+--------------------------+-----------+\n",
       "| The Shawshank Redemption | 172       |\n",
       "+--------------------------+-----------+\n",
       "| The Shawshank Redemption | 514       |\n",
       "+--------------------------+-----------+\n",
       "| The Godfather            | 165       |\n",
       "+--------------------------+-----------+\n",
       "| The Godfather            | 368       |\n",
       "+--------------------------+-----------+\n",
       "| The Godfather            | 368       |\n",
       "+--------------------------+-----------+\n",
       "| The Dark Knight          | 52        |\n",
       "+--------------------------+-----------+\n",
       "| The Dark Knight          | 88        |\n",
       "+--------------------------+-----------+\n",
       "| The Dark Knight          | 88        |\n",
       "+--------------------------+-----------+\n",
       "| The Dark Knight          | 121       |\n",
       "+--------------------------+-----------+\n",
       "| The Dark Knight          | 298       |\n",
       "+--------------------------+-----------+\n",
       "| The Godfather Part II    | 165       |\n",
       "+--------------------------+-----------+\n",
       "| The Godfather Part II    | 368       |\n",
       "+--------------------------+-----------+\n",
       "| The Godfather Part II    | 368       |\n",
       "+--------------------------+-----------+\n",
       "| 12 Angry Men             | 460       |\n",
       "+--------------------------+-----------+\n",
       "| 12 Angry Men             | 460       |\n",
       "+--------------------------+-----------+\n",
       "15 rows in set (0.00 sec)"
      ]
     },
     "execution_count": 4,
     "metadata": {},
     "output_type": "execute_result"
    }
   ],
   "source": [
    "SELECT movies.title,\n",
    "       movies_writers.writer_id\n",
    "  FROM movies_writers\n",
    "  JOIN movies\n",
    "    ON movies_writers.movie_id = movies.id\n",
    " WHERE movies.id <= 5;"
   ]
  },
  {
   "cell_type": "markdown",
   "id": "87aa5a93",
   "metadata": {
    "slideshow": {
     "slide_type": "subslide"
    }
   },
   "source": [
    "## 能夠被稱為是資料庫的資料集合必須要同時具備兩個特徵\n",
    "\n",
    "1. 觀測值必須具備屬性。\n",
    "2. 資料集合必須具備元資料（Metadata）。"
   ]
  },
  {
   "cell_type": "markdown",
   "id": "3667f1b1",
   "metadata": {
    "slideshow": {
     "slide_type": "subslide"
    }
   },
   "source": [
    "## 觀測值必須具備屬性"
   ]
  },
  {
   "cell_type": "code",
   "execution_count": 5,
   "id": "6157b1b3",
   "metadata": {},
   "outputs": [
    {
     "data": {
      "text/html": [
       "<table>\n",
       "<tr>\n",
       "<th>id</th>\n",
       "<th>title</th>\n",
       "<th>release_year</th>\n",
       "<th>runtime</th>\n",
       "<th>rating</th>\n",
       "<th>link</th>\n",
       "</tr>\n",
       "<tr>\n",
       "<td>1</td>\n",
       "<td>The Shawshank Redemption</td>\n",
       "<td>1994</td>\n",
       "<td>142</td>\n",
       "<td>9.3</td>\n",
       "<td>https://www.imdb.com/title/title/tt0111161/?ref_=chttp_t_1</td>\n",
       "</tr>\n",
       "</table>\n",
       "1 row in set (0.00 sec)"
      ],
      "text/plain": [
       "+----+--------------------------+--------------+---------+--------+------------------------------------------------------------+\n",
       "| id | title                    | release_year | runtime | rating | link                                                       |\n",
       "+----+--------------------------+--------------+---------+--------+------------------------------------------------------------+\n",
       "| 1  | The Shawshank Redemption | 1994         | 142     | 9.3    | https://www.imdb.com/title/title/tt0111161/?ref_=chttp_t_1 |\n",
       "+----+--------------------------+--------------+---------+--------+------------------------------------------------------------+\n",
       "1 row in set (0.00 sec)"
      ]
     },
     "execution_count": 5,
     "metadata": {},
     "output_type": "execute_result"
    }
   ],
   "source": [
    "SELECT *\n",
    "  FROM movies\n",
    " LIMIT 1;"
   ]
  },
  {
   "cell_type": "markdown",
   "id": "00f608d3",
   "metadata": {
    "slideshow": {
     "slide_type": "subslide"
    }
   },
   "source": [
    "## 資料集合必須具備元資料（Metadata）\n",
    "\n",
    "- 元資料是用來解釋資料表內容的資料。\n",
    "- 元資料之於資料，就像是英英字典之於英文單字一般。"
   ]
  },
  {
   "cell_type": "code",
   "execution_count": 6,
   "id": "53d3709a",
   "metadata": {},
   "outputs": [
    {
     "data": {
      "text/html": [
       "<table>\n",
       "<tr>\n",
       "<th>TABLE_CATALOG</th>\n",
       "<th>TABLE_SCHEMA</th>\n",
       "<th>TABLE_NAME</th>\n",
       "<th>COLUMN_NAME</th>\n",
       "<th>ORDINAL_POSITION</th>\n",
       "<th>COLUMN_DEFAULT</th>\n",
       "<th>IS_NULLABLE</th>\n",
       "<th>DATA_TYPE</th>\n",
       "<th>CHARACTER_MAXIMUM_LENGTH</th>\n",
       "<th>CHARACTER_OCTET_LENGTH</th>\n",
       "<th>NUMERIC_PRECISION</th>\n",
       "<th>NUMERIC_SCALE</th>\n",
       "<th>DATETIME_PRECISION</th>\n",
       "<th>CHARACTER_SET_NAME</th>\n",
       "<th>COLLATION_NAME</th>\n",
       "<th>COLUMN_TYPE</th>\n",
       "<th>COLUMN_KEY</th>\n",
       "<th>EXTRA</th>\n",
       "<th>PRIVILEGES</th>\n",
       "<th>COLUMN_COMMENT</th>\n",
       "<th>GENERATION_EXPRESSION</th>\n",
       "<th>SRS_ID</th>\n",
       "</tr>\n",
       "<tr>\n",
       "<td>def</td>\n",
       "<td>imdb</td>\n",
       "<td>movies</td>\n",
       "<td>id</td>\n",
       "<td>1</td>\n",
       "<td>NULL</td>\n",
       "<td>NO</td>\n",
       "<td>int</td>\n",
       "<td>NULL</td>\n",
       "<td>NULL</td>\n",
       "<td>10</td>\n",
       "<td>0</td>\n",
       "<td>NULL</td>\n",
       "<td>NULL</td>\n",
       "<td>NULL</td>\n",
       "<td>int</td>\n",
       "<td>PRI</td>\n",
       "<td></td>\n",
       "<td>select,insert,update,references</td>\n",
       "<td></td>\n",
       "<td></td>\n",
       "<td>NULL</td>\n",
       "</tr>\n",
       "<tr>\n",
       "<td>def</td>\n",
       "<td>imdb</td>\n",
       "<td>movies</td>\n",
       "<td>link</td>\n",
       "<td>6</td>\n",
       "<td>NULL</td>\n",
       "<td>YES</td>\n",
       "<td>varchar</td>\n",
       "<td>255</td>\n",
       "<td>1020</td>\n",
       "<td>NULL</td>\n",
       "<td>NULL</td>\n",
       "<td>NULL</td>\n",
       "<td>utf8mb4</td>\n",
       "<td>utf8mb4_unicode_ci</td>\n",
       "<td>varchar(255)</td>\n",
       "<td></td>\n",
       "<td></td>\n",
       "<td>select,insert,update,references</td>\n",
       "<td></td>\n",
       "<td></td>\n",
       "<td>NULL</td>\n",
       "</tr>\n",
       "<tr>\n",
       "<td>def</td>\n",
       "<td>imdb</td>\n",
       "<td>movies</td>\n",
       "<td>rating</td>\n",
       "<td>5</td>\n",
       "<td>NULL</td>\n",
       "<td>YES</td>\n",
       "<td>double</td>\n",
       "<td>NULL</td>\n",
       "<td>NULL</td>\n",
       "<td>22</td>\n",
       "<td>NULL</td>\n",
       "<td>NULL</td>\n",
       "<td>NULL</td>\n",
       "<td>NULL</td>\n",
       "<td>double</td>\n",
       "<td></td>\n",
       "<td></td>\n",
       "<td>select,insert,update,references</td>\n",
       "<td></td>\n",
       "<td></td>\n",
       "<td>NULL</td>\n",
       "</tr>\n",
       "<tr>\n",
       "<td>def</td>\n",
       "<td>imdb</td>\n",
       "<td>movies</td>\n",
       "<td>release_year</td>\n",
       "<td>3</td>\n",
       "<td>NULL</td>\n",
       "<td>YES</td>\n",
       "<td>int</td>\n",
       "<td>NULL</td>\n",
       "<td>NULL</td>\n",
       "<td>10</td>\n",
       "<td>0</td>\n",
       "<td>NULL</td>\n",
       "<td>NULL</td>\n",
       "<td>NULL</td>\n",
       "<td>int</td>\n",
       "<td></td>\n",
       "<td></td>\n",
       "<td>select,insert,update,references</td>\n",
       "<td></td>\n",
       "<td></td>\n",
       "<td>NULL</td>\n",
       "</tr>\n",
       "<tr>\n",
       "<td>def</td>\n",
       "<td>imdb</td>\n",
       "<td>movies</td>\n",
       "<td>runtime</td>\n",
       "<td>4</td>\n",
       "<td>NULL</td>\n",
       "<td>YES</td>\n",
       "<td>int</td>\n",
       "<td>NULL</td>\n",
       "<td>NULL</td>\n",
       "<td>10</td>\n",
       "<td>0</td>\n",
       "<td>NULL</td>\n",
       "<td>NULL</td>\n",
       "<td>NULL</td>\n",
       "<td>int</td>\n",
       "<td></td>\n",
       "<td></td>\n",
       "<td>select,insert,update,references</td>\n",
       "<td></td>\n",
       "<td></td>\n",
       "<td>NULL</td>\n",
       "</tr>\n",
       "<tr>\n",
       "<td>def</td>\n",
       "<td>imdb</td>\n",
       "<td>movies</td>\n",
       "<td>title</td>\n",
       "<td>2</td>\n",
       "<td>NULL</td>\n",
       "<td>YES</td>\n",
       "<td>varchar</td>\n",
       "<td>255</td>\n",
       "<td>1020</td>\n",
       "<td>NULL</td>\n",
       "<td>NULL</td>\n",
       "<td>NULL</td>\n",
       "<td>utf8mb4</td>\n",
       "<td>utf8mb4_unicode_ci</td>\n",
       "<td>varchar(255)</td>\n",
       "<td></td>\n",
       "<td></td>\n",
       "<td>select,insert,update,references</td>\n",
       "<td></td>\n",
       "<td></td>\n",
       "<td>NULL</td>\n",
       "</tr>\n",
       "</table>\n",
       "6 rows in set (0.01 sec)"
      ],
      "text/plain": [
       "+---------------+--------------+------------+--------------+------------------+----------------+-------------+-----------+--------------------------+------------------------+-------------------+---------------+--------------------+--------------------+--------------------+--------------+------------+-------+---------------------------------+----------------+-----------------------+--------+\n",
       "| TABLE_CATALOG | TABLE_SCHEMA | TABLE_NAME | COLUMN_NAME  | ORDINAL_POSITION | COLUMN_DEFAULT | IS_NULLABLE | DATA_TYPE | CHARACTER_MAXIMUM_LENGTH | CHARACTER_OCTET_LENGTH | NUMERIC_PRECISION | NUMERIC_SCALE | DATETIME_PRECISION | CHARACTER_SET_NAME | COLLATION_NAME     | COLUMN_TYPE  | COLUMN_KEY | EXTRA | PRIVILEGES                      | COLUMN_COMMENT | GENERATION_EXPRESSION | SRS_ID |\n",
       "+---------------+--------------+------------+--------------+------------------+----------------+-------------+-----------+--------------------------+------------------------+-------------------+---------------+--------------------+--------------------+--------------------+--------------+------------+-------+---------------------------------+----------------+-----------------------+--------+\n",
       "| def           | imdb         | movies     | id           | 1                | NULL           | NO          | int       | NULL                     | NULL                   | 10                | 0             | NULL               | NULL               | NULL               | int          | PRI        |       | select,insert,update,references |                |                       | NULL   |\n",
       "+---------------+--------------+------------+--------------+------------------+----------------+-------------+-----------+--------------------------+------------------------+-------------------+---------------+--------------------+--------------------+--------------------+--------------+------------+-------+---------------------------------+----------------+-----------------------+--------+\n",
       "| def           | imdb         | movies     | link         | 6                | NULL           | YES         | varchar   | 255                      | 1020                   | NULL              | NULL          | NULL               | utf8mb4            | utf8mb4_unicode_ci | varchar(255) |            |       | select,insert,update,references |                |                       | NULL   |\n",
       "+---------------+--------------+------------+--------------+------------------+----------------+-------------+-----------+--------------------------+------------------------+-------------------+---------------+--------------------+--------------------+--------------------+--------------+------------+-------+---------------------------------+----------------+-----------------------+--------+\n",
       "| def           | imdb         | movies     | rating       | 5                | NULL           | YES         | double    | NULL                     | NULL                   | 22                | NULL          | NULL               | NULL               | NULL               | double       |            |       | select,insert,update,references |                |                       | NULL   |\n",
       "+---------------+--------------+------------+--------------+------------------+----------------+-------------+-----------+--------------------------+------------------------+-------------------+---------------+--------------------+--------------------+--------------------+--------------+------------+-------+---------------------------------+----------------+-----------------------+--------+\n",
       "| def           | imdb         | movies     | release_year | 3                | NULL           | YES         | int       | NULL                     | NULL                   | 10                | 0             | NULL               | NULL               | NULL               | int          |            |       | select,insert,update,references |                |                       | NULL   |\n",
       "+---------------+--------------+------------+--------------+------------------+----------------+-------------+-----------+--------------------------+------------------------+-------------------+---------------+--------------------+--------------------+--------------------+--------------+------------+-------+---------------------------------+----------------+-----------------------+--------+\n",
       "| def           | imdb         | movies     | runtime      | 4                | NULL           | YES         | int       | NULL                     | NULL                   | 10                | 0             | NULL               | NULL               | NULL               | int          |            |       | select,insert,update,references |                |                       | NULL   |\n",
       "+---------------+--------------+------------+--------------+------------------+----------------+-------------+-----------+--------------------------+------------------------+-------------------+---------------+--------------------+--------------------+--------------------+--------------+------------+-------+---------------------------------+----------------+-----------------------+--------+\n",
       "| def           | imdb         | movies     | title        | 2                | NULL           | YES         | varchar   | 255                      | 1020                   | NULL              | NULL          | NULL               | utf8mb4            | utf8mb4_unicode_ci | varchar(255) |            |       | select,insert,update,references |                |                       | NULL   |\n",
       "+---------------+--------------+------------+--------------+------------------+----------------+-------------+-----------+--------------------------+------------------------+-------------------+---------------+--------------------+--------------------+--------------------+--------------+------------+-------+---------------------------------+----------------+-----------------------+--------+\n",
       "6 rows in set (0.01 sec)"
      ]
     },
     "execution_count": 6,
     "metadata": {},
     "output_type": "execute_result"
    }
   ],
   "source": [
    "SELECT *\n",
    "  FROM INFORMATION_SCHEMA.columns\n",
    " WHERE TABLE_NAME = 'movies' AND\n",
    "       TABLE_SCHEMA = 'imdb';"
   ]
  },
  {
   "cell_type": "markdown",
   "id": "4f161315",
   "metadata": {
    "slideshow": {
     "slide_type": "subslide"
    }
   },
   "source": [
    "## 什麼是關聯式資料庫管理系統\n",
    "\n",
    "- 管理關聯式資料庫的電腦軟體稱為關聯式資料庫管理系統（Relational Database Management System, RDBMS）。\n",
    "- 透過關聯式資料庫管理系統，可以讓關聯式資料庫具有多人共用、處理大量資料、自動化讀寫與備份等功能。"
   ]
  },
  {
   "cell_type": "markdown",
   "id": "bc75eb13",
   "metadata": {
    "slideshow": {
     "slide_type": "subslide"
    }
   },
   "source": [
    "## 常見的關聯式資料庫管理系統大致可以分為商業授權與開放原始碼兩個大類\n",
    "\n",
    "- 商業授權\n",
    "    - DB2：國際商業機器公司的關聯式資料庫管理系統。\n",
    "    - SQL Server：微軟公司的關聯式資料庫管理系統。\n",
    "    - Oracle Database：甲骨文公司的關聯式資料庫管理系統。\n",
    "- 開放原始碼\n",
    "    - MySQL：開放原始碼的關聯式資料庫管理系統，現為甲骨文公司所有。\n",
    "    - MariaDB：開放原始碼的關聯式資料庫管理系統，是 MySQL 的分支。\n",
    "    - SQLite：開放原始碼的關聯式資料庫管理系統。"
   ]
  },
  {
   "cell_type": "markdown",
   "id": "cad84363",
   "metadata": {
    "slideshow": {
     "slide_type": "subslide"
    }
   },
   "source": [
    "## SQL、關聯式資料庫與關聯式資料庫管理系統三者的關係\n",
    "\n",
    "|SQL|關聯式資料庫|關聯式資料庫管理系統|\n",
    "|:--|:---------|:----------------|\n",
    "|駕駛車的技術、執照|車|道路、車庫、交通號誌、路線管理|\n",
    "|駕駛船的技術、執照|船|水域、船塢、港口、航線管理|\n",
    "|駕駛飛機的技術、執照|飛機|空域、機場、停機坪、跑道、塔台、航線管理|"
   ]
  },
  {
   "cell_type": "markdown",
   "id": "35a58734",
   "metadata": {
    "slideshow": {
     "slide_type": "slide"
    }
   },
   "source": [
    "## 重點統整\n",
    "\n",
    "- SQL 是 Structured Query Language 的縮寫，是一個專門針對關聯式資料庫中所儲存的資料互動（包含查詢、定義、操作與控制）的語言。\n",
    "- SQL 是由保留字（Keyword）、物件名稱、函數、符號與常數所組合而成的一種語言。"
   ]
  },
  {
   "cell_type": "markdown",
   "id": "cda28a82",
   "metadata": {
    "slideshow": {
     "slide_type": "subslide"
    }
   },
   "source": [
    "## 重點統整（續）\n",
    "\n",
    "- SQL 的分類：\n",
    "    - 資料定義語言（Data Definition Language, DDL）\n",
    "    - 資料操作語言（Data Manipulation Language, DML）\n",
    "        - 資料查詢語言（Data Query Language, DQL）\n",
    "    - 資料控制語言（Data Control Language, DCL）\n",
    "    - 交易控制語言（Transaction Control Language, TCL）"
   ]
  },
  {
   "cell_type": "markdown",
   "id": "0c82539e",
   "metadata": {
    "slideshow": {
     "slide_type": "subslide"
    }
   },
   "source": [
    "## 重點統整（續）\n",
    "\n",
    "- 關聯式模型體現在兩個層面：\n",
    "    - 觀測值與欄位所記錄的資料是相關且連動的。\n",
    "    - 資料表之間能以連接鍵（Join key）與主鍵（Primary key）相連接。\n",
    "- 能夠被稱為是資料庫的資料集合必須要同時具備兩個特徵：\n",
    "    - 觀測值必須具備屬性。\n",
    "    - 資料集合必須具備元資料（Metadata）。"
   ]
  },
  {
   "cell_type": "markdown",
   "id": "e6bc2532",
   "metadata": {
    "slideshow": {
     "slide_type": "subslide"
    }
   },
   "source": [
    "## 重點統整（續）\n",
    "\n",
    "- SQL、關聯式資料庫與關聯式資料庫管理系統三者的關係：\n",
    "\n",
    "|SQL|關聯式資料庫|關聯式資料庫管理系統|\n",
    "|:--|:---------|:----------------|\n",
    "|駕駛車的技術、執照|車|道路、車庫、交通號誌、路線管理|\n",
    "|駕駛船的技術、執照|船|水域、船塢、港口、航線管理|\n",
    "|駕駛飛機的技術、執照|飛機|空域、機場、停機坪、跑道、塔台、航線管理|"
   ]
  }
 ],
 "metadata": {
  "celltoolbar": "Slideshow",
  "kernelspec": {
   "display_name": "xsql",
   "language": "sqlite",
   "name": "xsql"
  },
  "language_info": {
   "codemirror_mode": "sql",
   "file_extension": "",
   "mimetype": "",
   "name": "mysql",
   "version": "0.1.5"
  }
 },
 "nbformat": 4,
 "nbformat_minor": 5
}
