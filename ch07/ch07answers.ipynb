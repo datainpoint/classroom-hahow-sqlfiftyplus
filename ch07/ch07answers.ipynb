{
 "cells": [
  {
   "cell_type": "markdown",
   "metadata": {},
   "source": [
    "# 進階的 SQL 五十道練習\n",
    "\n",
    "> 交易控制語言\n",
    "\n",
    "[數聚點](https://www.datainpoint.com) | 郭耀仁 <yaojenkuo@datainpoint.com>"
   ]
  },
  {
   "cell_type": "markdown",
   "metadata": {},
   "source": [
    "## 練習題指引\n",
    "\n",
    "- 仔細閱讀題目敘述並且在自己的電腦透過 DBeaver 完成。\n",
    "- 下載批改測試檔案並放置在自己熟悉的目錄（資料夾）之中。\n",
    "    - 批改測試檔案：[ch07-test-tcl.py](https://classroom-hahow-sqlfiftyplus.s3.ap-northeast-1.amazonaws.com/test_scripts/ch07-test-tcl.py)\n",
    "- 執行測試：\n",
    "    - 開啟 Anaconda Prompt（Windows 作業系統）或 Terminal（macOS）\n",
    "    - 啟動專案環境 `conda activate pythonmysql`\n",
    "    - 透過 `cd` 指令移動到放置批改測試檔案的目錄（資料夾）。\n",
    "    - 執行 `python h07-test-tcl.py root {roots_password}`\n",
    "- 終端機操作的技巧：\n",
    "    - 在終端機畫面中按「向上箭頭」可以叫出先前執行過的指令。\n",
    "    - Windows 作業系統可以使用 `cls` 指令清空 Anaconda Prompt 畫面；macOS 可以使用 `clear` 指令或 `Ctrl - L` 清空 Terminal 畫面。"
   ]
  },
  {
   "cell_type": "markdown",
   "metadata": {},
   "source": [
    "## 0701 在本機的 MySQL Server 建立 `transaction_control` 資料庫，charset 指定 utf8mb4，collation 指定 utf8mb4_unicode_ci"
   ]
  },
  {
   "cell_type": "code",
   "execution_count": null,
   "metadata": {},
   "outputs": [],
   "source": [
    "CREATE DATABASE transaction_control CHARACTER SET utf8mb4 COLLATE utf8mb4_unicode_ci;"
   ]
  },
  {
   "cell_type": "markdown",
   "metadata": {},
   "source": [
    "## 0702 承接 0701 在 `transaction_control` 資料庫，建立兩個資料表 `accounts` 與 `transfers`，資料類型如下所示。\n",
    "\n",
    "`transaction_control.accounts`\n",
    "\n",
    "```\n",
    "id int unsigned,\n",
    "balance double unsigned\n",
    "```\n",
    "\n",
    "`transaction_control.transfers`\n",
    "\n",
    "```\n",
    "id int unsigned,\n",
    "from_account_id int unsigned,\n",
    "to_account_id int unsigned,\n",
    "amount double\n",
    "```"
   ]
  },
  {
   "cell_type": "code",
   "execution_count": null,
   "metadata": {},
   "outputs": [],
   "source": [
    "CREATE TABLE transaction_control.accounts (\n",
    "    id int unsigned,\n",
    "    balance double unsigned\n",
    ");\n",
    "CREATE TABLE transaction_control.transfers (\n",
    "    id int unsigned,\n",
    "    from_account_id int unsigned,\n",
    "    to_account_id int unsigned,\n",
    "    amount double\n",
    ");"
   ]
  },
  {
   "cell_type": "markdown",
   "metadata": {},
   "source": [
    "## 0703 承接 0702 在 `transaction_control` 資料庫的 `accounts` 資料表新增兩筆觀測值。\n",
    "\n",
    "|id|balance|\n",
    "|:-|:------|\n",
    "|1|1000|\n",
    "|2|1000|"
   ]
  },
  {
   "cell_type": "code",
   "execution_count": null,
   "metadata": {},
   "outputs": [],
   "source": [
    "INSERT INTO transaction.accounts (id, balance) VALUES\n",
    "    (1, 1000),\n",
    "    (2, 1000);"
   ]
  },
  {
   "cell_type": "markdown",
   "metadata": {},
   "source": [
    "## 0704 承接 0703 在 `transaction_control` 資料庫透過保留字 `START TRANSACTION` 與 `COMMIT` 完成由帳戶流水編號 1 轉 450 元至帳戶流水編號 2 的交易，完成交易後，資料表內容如下所示。\n",
    "\n",
    "`transaction_control.accounts`\n",
    "\n",
    "|id|balance|\n",
    "|--|-------|\n",
    "|1|550|\n",
    "|2|1450|\n",
    "\n",
    "`transaction_control.transfers`\n",
    "\n",
    "|id|from_account_id|to_account_id|amount|\n",
    "|--|---------------|-------------|------|\n",
    "|1|1|2|450|"
   ]
  },
  {
   "cell_type": "code",
   "execution_count": null,
   "metadata": {},
   "outputs": [],
   "source": [
    "START TRANSACTION;\n",
    "\n",
    "INSERT INTO transaction_control.transfers (id, from_account_id, to_account_id, amount) VALUES\n",
    "    (1, 1, 2, 450);\n",
    "UPDATE transaction_control.accounts\n",
    "   SET balance = balance - 450\n",
    " WHERE id = 1;\n",
    "UPDATE transaction_control.accounts\n",
    "   SET balance = balance + 450\n",
    " WHERE id = 2;\n",
    " \n",
    "COMMIT;"
   ]
  }
 ],
 "metadata": {
  "kernelspec": {
   "display_name": "xsql",
   "language": "sqlite",
   "name": "xsql"
  },
  "language_info": {
   "codemirror_mode": "sql",
   "file_extension": "",
   "mimetype": "",
   "name": "mysql",
   "version": "0.2.1"
  }
 },
 "nbformat": 4,
 "nbformat_minor": 4
}
