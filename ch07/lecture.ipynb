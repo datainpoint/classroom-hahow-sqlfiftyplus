{
 "cells": [
  {
   "cell_type": "markdown",
   "id": "62be485e",
   "metadata": {
    "slideshow": {
     "slide_type": "slide"
    }
   },
   "source": [
    "# 進階的 SQL 五十道練習\n",
    "\n",
    "> 交易控制語言\n",
    "\n",
    "[數聚點](https://www.datainpoint.com) | 郭耀仁 <yaojenkuo@datainpoint.com>"
   ]
  },
  {
   "cell_type": "code",
   "execution_count": 1,
   "id": "5c15851e",
   "metadata": {
    "slideshow": {
     "slide_type": "skip"
    }
   },
   "outputs": [],
   "source": [
    "%LOAD mysql db=imdb user=root password='hahowsql'"
   ]
  },
  {
   "cell_type": "markdown",
   "id": "0a2425ca",
   "metadata": {
    "slideshow": {
     "slide_type": "subslide"
    }
   },
   "source": [
    "## （複習）SQL 的分類\n",
    "\n",
    "- 在初階課程「SQL 的五十道練習」中我們專注在資料查詢語言的部分；這堂進階課程會完整帶學員們認識其他的 SQL 語言。\n",
    "- 實務上，資料查詢語言是被分類在資料操作語言之下的一個分支。\n",
    "    - 資料定義語言（Data Definition Language, DDL）\n",
    "    - 資料操作語言（Data Manipulation Language, DML）\n",
    "        - 資料查詢語言（Data Query Language, DQL）\n",
    "    - 資料控制語言（Data Control Language, DCL）\n",
    "    - **交易控制語言（Transaction Control Language, TCL）**"
   ]
  },
  {
   "cell_type": "markdown",
   "id": "6a708bce",
   "metadata": {
    "slideshow": {
     "slide_type": "subslide"
    }
   },
   "source": [
    "## 交易控制語言（Transaction Control Language, DCL）主要的保留字\n",
    "\n",
    "- `COMMIT`\n",
    "- `ROLLBACK`\n",
    "\n",
    "這意味著我們可以執行連串的整合型資料操作或者取消連串的整合型資料操作。"
   ]
  },
  {
   "cell_type": "markdown",
   "id": "170be68b",
   "metadata": {
    "slideshow": {
     "slide_type": "slide"
    }
   },
   "source": [
    "## 什麼是交易控制語言"
   ]
  },
  {
   "cell_type": "markdown",
   "id": "a34ea6a8",
   "metadata": {
    "slideshow": {
     "slide_type": "subslide"
    }
   },
   "source": [
    "## 不管多麼強韌的系統，我們都無法保證\n",
    "\n",
    "- 資料庫伺服器「永遠」不會斷線。\n",
    "- 與資料庫互動的應用程式「永遠」不會中斷、「永遠」不會發生預期之外的錯誤。\n",
    "- 在進行資料的新增、更新或刪除時，「永遠」不會跟其他的操作同時發生而導致資料鎖定出錯。"
   ]
  },
  {
   "cell_type": "markdown",
   "id": "6f8d7896",
   "metadata": {
    "slideshow": {
     "slide_type": "subslide"
    }
   },
   "source": [
    "## 因此我們需要交易（Transaction）這個機制\n",
    "\n",
    "- 將多個 SQL 敘述集中執行就稱為交易，若非全數執行成功，要不就是全數失敗未完成（原子性 Atomicity）。\n",
    "- 確實執行交易後即便伺服器突然關閉，在重新啟動後也會再度套用交易變更內容（持續性 Durability）。\n",
    "- 透過交易可以避免因操作過程中斷導致資料的不正確。"
   ]
  },
  {
   "cell_type": "markdown",
   "id": "04064a37",
   "metadata": {
    "slideshow": {
     "slide_type": "subslide"
    }
   },
   "source": [
    "## 交易的特性\n",
    "\n",
    "- 原子性（Atomicity）：交易中的操作一定會是「皆未執行」或者「皆已執行」其中一個狀態。\n",
    "- 持續性（Durability）：交易完成後不會遺失操作結果。\n",
    "- 一致性（Consistency）：確保資料的完整性。\n",
    "- 隔離性（Isolation）：執行到一半的操作並不會對其他操作產生影響。"
   ]
  },
  {
   "cell_type": "markdown",
   "id": "8c7f04aa",
   "metadata": {
    "slideshow": {
     "slide_type": "subslide"
    }
   },
   "source": [
    "## 以帳戶轉帳為例\n",
    "\n",
    "- 處理帳戶轉帳的程式必須開始一筆交易（`START TRANSACTION`）。\n",
    "- 執行轉帳的 SQL 敘述。\n",
    "- 如果一切順利便會以 `COMMIT` 結束。\n",
    "- 如果發生了錯誤，就會以 `ROLLBACK` 還原交易開始以來的敘述。"
   ]
  },
  {
   "cell_type": "markdown",
   "id": "795ff3b9",
   "metadata": {
    "slideshow": {
     "slide_type": "subslide"
    }
   },
   "source": [
    "## 虛擬程式碼（Pseudo code）展示帳戶轉帳的例子\n",
    "\n",
    "```SQL\n",
    "START TRANSACTION;\n",
    "\n",
    "UPDATE accounts\n",
    "   SET balance = balance - 500\n",
    " WHERE id = 1;\n",
    "UPDATE accounts\n",
    "   SET balance = balance + 500\n",
    " WHERE id = 2;\n",
    "\n",
    "if everything is fine:\n",
    "    COMMIT;\n",
    "else:\n",
    "    ROLLBACK; \n",
    "```"
   ]
  },
  {
   "cell_type": "markdown",
   "id": "a107c8ff",
   "metadata": {
    "slideshow": {
     "slide_type": "slide"
    }
   },
   "source": [
    "## 帳戶轉帳"
   ]
  },
  {
   "cell_type": "markdown",
   "id": "13804d75",
   "metadata": {
    "slideshow": {
     "slide_type": "subslide"
    }
   },
   "source": [
    "## 建立一個資料庫 `tcl`"
   ]
  },
  {
   "cell_type": "code",
   "execution_count": 2,
   "id": "b0145efd",
   "metadata": {
    "slideshow": {
     "slide_type": "-"
    }
   },
   "outputs": [],
   "source": [
    "CREATE DATABASE tcl CHARACTER SET utf8mb4 COLLATE utf8mb4_unicode_ci;"
   ]
  },
  {
   "cell_type": "markdown",
   "id": "64a7fea1",
   "metadata": {
    "slideshow": {
     "slide_type": "subslide"
    }
   },
   "source": [
    "## 建立一個資料表 `accounts`"
   ]
  },
  {
   "cell_type": "code",
   "execution_count": 3,
   "id": "63c7aab3-47f8-4485-abd8-ba5b610ee476",
   "metadata": {
    "slideshow": {
     "slide_type": "-"
    }
   },
   "outputs": [],
   "source": [
    "CREATE TABLE tcl.accounts (\n",
    "    id int unsigned AUTO_INCREMENT,\n",
    "    balance double unsigned,\n",
    "    PRIMARY KEY (id)\n",
    ");"
   ]
  },
  {
   "cell_type": "code",
   "execution_count": 4,
   "id": "741fd435-db61-4416-b2e3-99db2a6e41e8",
   "metadata": {
    "slideshow": {
     "slide_type": "-"
    }
   },
   "outputs": [],
   "source": [
    "INSERT INTO tcl.accounts (balance) VALUES\n",
    "    (1000),\n",
    "    (1000);"
   ]
  },
  {
   "cell_type": "markdown",
   "id": "1f058c29",
   "metadata": {
    "slideshow": {
     "slide_type": "subslide"
    }
   },
   "source": [
    "## 建立一個資料表 `transfers`"
   ]
  },
  {
   "cell_type": "code",
   "execution_count": 5,
   "id": "d4029816-4c6d-4f55-bad3-87349ed3e4cf",
   "metadata": {},
   "outputs": [],
   "source": [
    "CREATE TABLE tcl.transfers (\n",
    "    id int unsigned AUTO_INCREMENT,\n",
    "    from_account_id int unsigned,\n",
    "    to_account_id int unsigned,\n",
    "    amount double,\n",
    "    PRIMARY KEY (id)\n",
    ");"
   ]
  },
  {
   "cell_type": "markdown",
   "id": "0685dac8",
   "metadata": {
    "slideshow": {
     "slide_type": "slide"
    }
   },
   "source": [
    "## 提交與回滾"
   ]
  },
  {
   "cell_type": "markdown",
   "id": "16e16537",
   "metadata": {
    "slideshow": {
     "slide_type": "subslide"
    }
   },
   "source": [
    "## 交易的開始與結束\n",
    "\n",
    "- 交易的開始以 `START TRANSACTION` 標註。\n",
    "- 交易的結束：\n",
    "    - 一切正常無誤，執行 `COMMIT` 提交。\n",
    "    - 發生任何錯誤，執行 `ROLLBACK` 回滾。"
   ]
  },
  {
   "cell_type": "markdown",
   "id": "e3697c61",
   "metadata": {
    "slideshow": {
     "slide_type": "subslide"
    }
   },
   "source": [
    "## 交易的開始：轉帳 500 元"
   ]
  },
  {
   "cell_type": "code",
   "execution_count": 7,
   "id": "304235a4-2c83-4461-be3a-c6a0456c958a",
   "metadata": {
    "slideshow": {
     "slide_type": "-"
    }
   },
   "outputs": [],
   "source": [
    "START TRANSACTION;"
   ]
  },
  {
   "cell_type": "code",
   "execution_count": 8,
   "id": "2abce31e-cdd9-4836-8628-09103c660af4",
   "metadata": {
    "slideshow": {
     "slide_type": "-"
    }
   },
   "outputs": [],
   "source": [
    "INSERT INTO tcl.transfers (from_account_id, to_account_id, amount) VALUES\n",
    "    (1, 2, 500);"
   ]
  },
  {
   "cell_type": "code",
   "execution_count": 9,
   "id": "6f46c113-3a85-4620-a650-680b09e175a7",
   "metadata": {
    "slideshow": {
     "slide_type": "-"
    }
   },
   "outputs": [],
   "source": [
    "UPDATE tcl.accounts\n",
    "   SET balance = balance + 500\n",
    " WHERE id = 2;"
   ]
  },
  {
   "cell_type": "code",
   "execution_count": 10,
   "id": "8d149891-4dd7-4e22-be5d-c4127e1f6efe",
   "metadata": {
    "slideshow": {
     "slide_type": "-"
    }
   },
   "outputs": [],
   "source": [
    "UPDATE tcl.accounts\n",
    "   SET balance = balance - 500\n",
    " WHERE id = 1;"
   ]
  },
  {
   "cell_type": "markdown",
   "id": "dc3d8184",
   "metadata": {
    "slideshow": {
     "slide_type": "subslide"
    }
   },
   "source": [
    "## 確認無誤，完成交易"
   ]
  },
  {
   "cell_type": "code",
   "execution_count": 11,
   "id": "b98a89f1",
   "metadata": {
    "slideshow": {
     "slide_type": "-"
    }
   },
   "outputs": [
    {
     "data": {
      "text/html": [
       "<table>\n",
       "<tr>\n",
       "<th>id</th>\n",
       "<th>balance</th>\n",
       "</tr>\n",
       "<tr>\n",
       "<td>1</td>\n",
       "<td>500</td>\n",
       "</tr>\n",
       "<tr>\n",
       "<td>2</td>\n",
       "<td>1500</td>\n",
       "</tr>\n",
       "</table>\n",
       "2 rows in set (0.00 sec)"
      ],
      "text/plain": [
       "+----+---------+\n",
       "| id | balance |\n",
       "+----+---------+\n",
       "| 1  | 500     |\n",
       "+----+---------+\n",
       "| 2  | 1500    |\n",
       "+----+---------+\n",
       "2 rows in set (0.00 sec)"
      ]
     },
     "execution_count": 11,
     "metadata": {},
     "output_type": "execute_result"
    }
   ],
   "source": [
    "SELECT *\n",
    "  FROM tcl.accounts;"
   ]
  },
  {
   "cell_type": "code",
   "execution_count": 12,
   "id": "454e0764",
   "metadata": {
    "slideshow": {
     "slide_type": "-"
    }
   },
   "outputs": [
    {
     "data": {
      "text/html": [
       "<table>\n",
       "<tr>\n",
       "<th>id</th>\n",
       "<th>from_account_id</th>\n",
       "<th>to_account_id</th>\n",
       "<th>amount</th>\n",
       "</tr>\n",
       "<tr>\n",
       "<td>1</td>\n",
       "<td>1</td>\n",
       "<td>2</td>\n",
       "<td>500</td>\n",
       "</tr>\n",
       "</table>\n",
       "1 row in set (0.00 sec)"
      ],
      "text/plain": [
       "+----+-----------------+---------------+--------+\n",
       "| id | from_account_id | to_account_id | amount |\n",
       "+----+-----------------+---------------+--------+\n",
       "| 1  | 1               | 2             | 500    |\n",
       "+----+-----------------+---------------+--------+\n",
       "1 row in set (0.00 sec)"
      ]
     },
     "execution_count": 12,
     "metadata": {},
     "output_type": "execute_result"
    }
   ],
   "source": [
    "SELECT *\n",
    "  FROM tcl.transfers;"
   ]
  },
  {
   "cell_type": "code",
   "execution_count": 13,
   "id": "206b87cc",
   "metadata": {},
   "outputs": [],
   "source": [
    "COMMIT;"
   ]
  },
  {
   "cell_type": "markdown",
   "id": "485092d4",
   "metadata": {
    "slideshow": {
     "slide_type": "subslide"
    }
   },
   "source": [
    "## 再開始另一次交易"
   ]
  },
  {
   "cell_type": "code",
   "execution_count": 14,
   "id": "a9c75d40-f5fe-4af3-a578-434c2f34b145",
   "metadata": {
    "slideshow": {
     "slide_type": "-"
    }
   },
   "outputs": [],
   "source": [
    "START TRANSACTION;"
   ]
  },
  {
   "cell_type": "code",
   "execution_count": 15,
   "id": "8130b510-81d6-491c-9bef-535a18e7dfb1",
   "metadata": {
    "slideshow": {
     "slide_type": "-"
    }
   },
   "outputs": [],
   "source": [
    "INSERT INTO tcl.transfers (from_account_id, to_account_id, amount) VALUES\n",
    "    (1, 2, 600);"
   ]
  },
  {
   "cell_type": "code",
   "execution_count": 16,
   "id": "e9011049-acfa-4004-89a9-ae1de535f4de",
   "metadata": {
    "slideshow": {
     "slide_type": "-"
    }
   },
   "outputs": [],
   "source": [
    "UPDATE tcl.accounts\n",
    "   SET balance = balance + 600\n",
    " WHERE id = 2;"
   ]
  },
  {
   "cell_type": "code",
   "execution_count": 17,
   "id": "11ae1e62-728f-43b6-95fc-3c392bd17487",
   "metadata": {
    "slideshow": {
     "slide_type": "-"
    }
   },
   "outputs": [
    {
     "ename": "Error",
     "evalue": "Out of range value for column 'balance' at row 1 while executing \"UPDATE tcl.accounts\n   SET balance = balance - 600\n WHERE id = 1;\".",
     "output_type": "error",
     "traceback": [
      "Error: Out of range value for column 'balance' at row 1 while executing \"UPDATE tcl.accounts\n   SET balance = balance - 600\n WHERE id = 1;\"."
     ]
    }
   ],
   "source": [
    "UPDATE tcl.accounts\n",
    "   SET balance = balance - 600\n",
    " WHERE id = 1;"
   ]
  },
  {
   "cell_type": "markdown",
   "id": "f892ee89",
   "metadata": {
    "slideshow": {
     "slide_type": "subslide"
    }
   },
   "source": [
    "## 帳戶餘額不能為負數\n",
    "\n",
    "- `balance` 資料類型 `unsigned`\n",
    "- `INSERT INTO tcl.transfers` 與 `UPDATE...WHERE id = 2` 已經執行，導致帳目無法勾稽。"
   ]
  },
  {
   "cell_type": "code",
   "execution_count": 18,
   "id": "d829c74a",
   "metadata": {
    "slideshow": {
     "slide_type": "-"
    }
   },
   "outputs": [
    {
     "data": {
      "text/html": [
       "<table>\n",
       "<tr>\n",
       "<th>id</th>\n",
       "<th>balance</th>\n",
       "</tr>\n",
       "<tr>\n",
       "<td>1</td>\n",
       "<td>500</td>\n",
       "</tr>\n",
       "<tr>\n",
       "<td>2</td>\n",
       "<td>2100</td>\n",
       "</tr>\n",
       "</table>\n",
       "2 rows in set (0.00 sec)"
      ],
      "text/plain": [
       "+----+---------+\n",
       "| id | balance |\n",
       "+----+---------+\n",
       "| 1  | 500     |\n",
       "+----+---------+\n",
       "| 2  | 2100    |\n",
       "+----+---------+\n",
       "2 rows in set (0.00 sec)"
      ]
     },
     "execution_count": 18,
     "metadata": {},
     "output_type": "execute_result"
    }
   ],
   "source": [
    "SELECT *\n",
    "  FROM tcl.accounts;"
   ]
  },
  {
   "cell_type": "code",
   "execution_count": 19,
   "id": "5023cf73",
   "metadata": {
    "slideshow": {
     "slide_type": "-"
    }
   },
   "outputs": [
    {
     "data": {
      "text/html": [
       "<table>\n",
       "<tr>\n",
       "<th>id</th>\n",
       "<th>from_account_id</th>\n",
       "<th>to_account_id</th>\n",
       "<th>amount</th>\n",
       "</tr>\n",
       "<tr>\n",
       "<td>1</td>\n",
       "<td>1</td>\n",
       "<td>2</td>\n",
       "<td>500</td>\n",
       "</tr>\n",
       "<tr>\n",
       "<td>2</td>\n",
       "<td>1</td>\n",
       "<td>2</td>\n",
       "<td>600</td>\n",
       "</tr>\n",
       "</table>\n",
       "2 rows in set (0.00 sec)"
      ],
      "text/plain": [
       "+----+-----------------+---------------+--------+\n",
       "| id | from_account_id | to_account_id | amount |\n",
       "+----+-----------------+---------------+--------+\n",
       "| 1  | 1               | 2             | 500    |\n",
       "+----+-----------------+---------------+--------+\n",
       "| 2  | 1               | 2             | 600    |\n",
       "+----+-----------------+---------------+--------+\n",
       "2 rows in set (0.00 sec)"
      ]
     },
     "execution_count": 19,
     "metadata": {},
     "output_type": "execute_result"
    }
   ],
   "source": [
    "SELECT *\n",
    "  FROM tcl.transfers;"
   ]
  },
  {
   "cell_type": "markdown",
   "id": "e466e819",
   "metadata": {
    "slideshow": {
     "slide_type": "subslide"
    }
   },
   "source": [
    "## 以 `ROLLBACK` 回滾，結束交易"
   ]
  },
  {
   "cell_type": "code",
   "execution_count": 20,
   "id": "d9c96724",
   "metadata": {
    "slideshow": {
     "slide_type": "-"
    }
   },
   "outputs": [],
   "source": [
    "ROLLBACK;"
   ]
  },
  {
   "cell_type": "code",
   "execution_count": 21,
   "id": "4c4af6c1",
   "metadata": {
    "slideshow": {
     "slide_type": "-"
    }
   },
   "outputs": [
    {
     "data": {
      "text/html": [
       "<table>\n",
       "<tr>\n",
       "<th>id</th>\n",
       "<th>balance</th>\n",
       "</tr>\n",
       "<tr>\n",
       "<td>1</td>\n",
       "<td>500</td>\n",
       "</tr>\n",
       "<tr>\n",
       "<td>2</td>\n",
       "<td>1500</td>\n",
       "</tr>\n",
       "</table>\n",
       "2 rows in set (0.00 sec)"
      ],
      "text/plain": [
       "+----+---------+\n",
       "| id | balance |\n",
       "+----+---------+\n",
       "| 1  | 500     |\n",
       "+----+---------+\n",
       "| 2  | 1500    |\n",
       "+----+---------+\n",
       "2 rows in set (0.00 sec)"
      ]
     },
     "execution_count": 21,
     "metadata": {},
     "output_type": "execute_result"
    }
   ],
   "source": [
    "SELECT *\n",
    "  FROM tcl.accounts;"
   ]
  },
  {
   "cell_type": "code",
   "execution_count": 22,
   "id": "0a4a3eef",
   "metadata": {
    "slideshow": {
     "slide_type": "-"
    }
   },
   "outputs": [
    {
     "data": {
      "text/html": [
       "<table>\n",
       "<tr>\n",
       "<th>id</th>\n",
       "<th>from_account_id</th>\n",
       "<th>to_account_id</th>\n",
       "<th>amount</th>\n",
       "</tr>\n",
       "<tr>\n",
       "<td>1</td>\n",
       "<td>1</td>\n",
       "<td>2</td>\n",
       "<td>500</td>\n",
       "</tr>\n",
       "</table>\n",
       "1 row in set (0.00 sec)"
      ],
      "text/plain": [
       "+----+-----------------+---------------+--------+\n",
       "| id | from_account_id | to_account_id | amount |\n",
       "+----+-----------------+---------------+--------+\n",
       "| 1  | 1               | 2             | 500    |\n",
       "+----+-----------------+---------------+--------+\n",
       "1 row in set (0.00 sec)"
      ]
     },
     "execution_count": 22,
     "metadata": {},
     "output_type": "execute_result"
    }
   ],
   "source": [
    "SELECT *\n",
    "  FROM tcl.transfers;"
   ]
  },
  {
   "cell_type": "markdown",
   "id": "715a3513",
   "metadata": {
    "slideshow": {
     "slide_type": "slide"
    }
   },
   "source": [
    "## 重點統整\n",
    "\n",
    "- 將多個 SQL 敘述集中執行就稱為交易（Transaction），若非全數執行成功，要不就是全數失敗未完成。\n",
    "- 交易的特性\n",
    "    - 原子性（Atomicity）\n",
    "    - 持續性（Durability）\n",
    "    - 一致性（Consistency）\n",
    "    - 隔離性（Isolation）"
   ]
  },
  {
   "cell_type": "markdown",
   "id": "2df138c5",
   "metadata": {
    "slideshow": {
     "slide_type": "subslide"
    }
   },
   "source": [
    "## 重點統整（續）\n",
    "\n",
    "- 交易的開始以 `START TRANSACTION` 標註。\n",
    "- 交易的結束：\n",
    "    - 一切正常無誤，執行 `COMMIT` 提交。\n",
    "    - 發生任何錯誤，執行 `ROLLBACK` 回滾。"
   ]
  }
 ],
 "metadata": {
  "celltoolbar": "Slideshow",
  "kernelspec": {
   "display_name": "xsql",
   "language": "sqlite",
   "name": "xsql"
  },
  "language_info": {
   "codemirror_mode": "sql",
   "file_extension": "",
   "mimetype": "",
   "name": "mysql",
   "version": "0.2.1"
  }
 },
 "nbformat": 4,
 "nbformat_minor": 5
}
